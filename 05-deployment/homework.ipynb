{
 "cells": [
  {
   "cell_type": "markdown",
   "id": "27b92e2d-f69e-422b-9020-d0e994410e0f",
   "metadata": {},
   "source": [
    "### Alex Khvatov Homework #5"
   ]
  },
  {
   "cell_type": "markdown",
   "id": "6146d4f7-396d-40f3-a1c9-bb589065d455",
   "metadata": {},
   "source": [
    "### Question 1. \n",
    "\n",
    "pipenv, version 2024.2.0"
   ]
  },
  {
   "cell_type": "markdown",
   "id": "2e6c6b8c-8739-4fc0-97a1-98ef5508f778",
   "metadata": {},
   "source": [
    "### Question 2.\n",
    "\n",
    "Scikit-learn hash: 03b6158efa3faaf1feea3faa884c840ebd61b6484167c711548fce208ea09445"
   ]
  },
  {
   "cell_type": "markdown",
   "id": "fb217034-77a1-4042-98c3-39147ee1342e",
   "metadata": {},
   "source": [
    "### Models"
   ]
  },
  {
   "cell_type": "code",
   "execution_count": 11,
   "id": "7df091d5-a909-4787-98df-92a9eccc6e30",
   "metadata": {},
   "outputs": [
    {
     "name": "stdout",
     "output_type": "stream",
     "text": [
      "3d8bb28974e55edefa000fe38fd3ed12  model1.bin\n",
      "7d37616e00aa80f2152b8b0511fc2dff  dv.bin\n"
     ]
    }
   ],
   "source": [
    "%%bash\n",
    "\n",
    "PREFIX=https://raw.githubusercontent.com/DataTalksClub/machine-learning-zoomcamp/master/cohorts/2024/05-deployment/homework\n",
    "wget -q -O model1.bin $PREFIX/model1.bin\n",
    "wget -q -O dv.bin $PREFIX/dv.bin\n",
    "\n",
    "md5sum model1.bin\n",
    "md5sum dv.bin\n",
    "\n",
    "#3d8bb28974e55edefa000fe38fd3ed12  model1.bin\n",
    "#7d37616e00aa80f2152b8b0511fc2dff  dv.bin"
   ]
  },
  {
   "cell_type": "markdown",
   "id": "2eadf15e-2c60-49dd-acd9-884e31d3e2d7",
   "metadata": {},
   "source": [
    "### Quesiton 3.\n",
    "\n",
    "\n",
    "Let's use these models!\n",
    "\n",
    "* Write a script for loading these models with pickle\n",
    "* Score this client:"
   ]
  },
  {
   "cell_type": "code",
   "execution_count": 2,
   "id": "bed573f4-ca1d-4b9a-bde1-7348ad22ec84",
   "metadata": {},
   "outputs": [],
   "source": [
    "client = {\"job\": \"management\", \"duration\": 400, \"poutcome\": \"success\"}"
   ]
  },
  {
   "cell_type": "code",
   "execution_count": 3,
   "id": "0c7fff63-48ac-42b7-9f33-40129da7a6fa",
   "metadata": {},
   "outputs": [],
   "source": [
    "import pickle\n",
    "\n",
    "model_file = 'model1.bin'\n",
    "dictionary_vectorizer_file = 'dv.bin'"
   ]
  },
  {
   "cell_type": "code",
   "execution_count": 4,
   "id": "2c19064d-8d47-4dd8-8c23-ca117c2ad22c",
   "metadata": {},
   "outputs": [],
   "source": [
    "def unpickle_object(file_name):\n",
    "    with open(file_name, 'rb') as f_in:\n",
    "        unpickled_object = pickle.load(f_in)\n",
    "    return unpickled_object"
   ]
  },
  {
   "cell_type": "code",
   "execution_count": 5,
   "id": "ace1186a-f55e-45db-9ebd-ccc777f56b32",
   "metadata": {},
   "outputs": [],
   "source": [
    "model = unpickle_object(model_file)\n",
    "dv = unpickle_object(dictionary_vectorizer_file)"
   ]
  },
  {
   "cell_type": "code",
   "execution_count": 6,
   "id": "3b895f4d-e77d-405b-be53-fbe86a5cadef",
   "metadata": {},
   "outputs": [],
   "source": [
    "X=dv.transform([client])"
   ]
  },
  {
   "cell_type": "code",
   "execution_count": 7,
   "id": "52c3531c-e615-4bfb-9d3c-1dca49749633",
   "metadata": {},
   "outputs": [
    {
     "data": {
      "text/plain": [
       "np.float64(0.7590966516879658)"
      ]
     },
     "execution_count": 7,
     "metadata": {},
     "output_type": "execute_result"
    }
   ],
   "source": [
    "model.predict_proba(X)[0,1]"
   ]
  },
  {
   "cell_type": "code",
   "execution_count": 8,
   "id": "048e496f-1719-48c6-984b-2e285ed5586a",
   "metadata": {},
   "outputs": [],
   "source": [
    "#answer 0.7590"
   ]
  },
  {
   "cell_type": "markdown",
   "id": "7d950158-0419-4217-9d74-f6923381e45c",
   "metadata": {},
   "source": [
    "### Question 4\n",
    "\n",
    "Now let's serve this model as a web service\n",
    "\n",
    "* Install Flask and gunicorn (or waitress, if you're on Windows)\n",
    "* Write Flask code for serving the model\n",
    "* Now score this client using requests"
   ]
  },
  {
   "cell_type": "code",
   "execution_count": 14,
   "id": "39f9acba-50b8-4d75-a53b-b508b26103ee",
   "metadata": {},
   "outputs": [
    {
     "data": {
      "text/plain": [
       "{'clinet_score': 0.33480703475511053}"
      ]
     },
     "execution_count": 14,
     "metadata": {},
     "output_type": "execute_result"
    }
   ],
   "source": [
    "import requests\n",
    "url = \"http://localhost:9696/score\"\n",
    "client = {\n",
    "    \"job\": \"student\",\n",
    "    \"duration\": 280,\n",
    "    \"poutcome\": \"failure\"\n",
    "}\n",
    "response = requests.post(url, json=client).json()\n",
    "response"
   ]
  },
  {
   "cell_type": "code",
   "execution_count": 15,
   "id": "5efc25ac-7d40-48c9-9fcd-d6477a6d03a5",
   "metadata": {},
   "outputs": [],
   "source": [
    "# {'clinet_score': 0.33480703475511053}"
   ]
  },
  {
   "cell_type": "markdown",
   "id": "31eeade5-2dd5-44a0-8ea7-1052f08f4c5f",
   "metadata": {},
   "source": [
    "### Docker\n",
    "\n",
    "### Question 5\n",
    "\n",
    "Download the base image svizor/zoomcamp-model:3.11.5-slim. You can easily make it by using docker pull command.\n",
    "\n",
    "So what's the size of this base image?"
   ]
  },
  {
   "cell_type": "markdown",
   "id": "f121ba6d-c6ee-4ab6-80d2-855ffb7d99ba",
   "metadata": {},
   "source": [
    "_svizor/zoomcamp-model   3.11.5-slim   975e7bdca086   8 days ago_   __130MB__"
   ]
  },
  {
   "cell_type": "markdown",
   "id": "bbd701b2-61a6-419b-854c-e83e0136835f",
   "metadata": {},
   "source": [
    "### Question 6\n",
    "\n",
    "Let's run your docker container!\n",
    "\n",
    "After running it, score this client once again:"
   ]
  },
  {
   "cell_type": "code",
   "execution_count": null,
   "id": "9384f696-cca2-435c-81a9-1e09e8e378b3",
   "metadata": {},
   "outputs": [],
   "source": [
    "url = \"http://localhost:9696/score\"\n",
    "client = {\"job\": \"management\", \"duration\": 400, \"poutcome\": \"success\"}\n",
    "requests.post(url, json=client).json()"
   ]
  }
 ],
 "metadata": {
  "kernelspec": {
   "display_name": "Python 3 (ipykernel)",
   "language": "python",
   "name": "python3"
  },
  "language_info": {
   "codemirror_mode": {
    "name": "ipython",
    "version": 3
   },
   "file_extension": ".py",
   "mimetype": "text/x-python",
   "name": "python",
   "nbconvert_exporter": "python",
   "pygments_lexer": "ipython3",
   "version": "3.11.10"
  }
 },
 "nbformat": 4,
 "nbformat_minor": 5
}
