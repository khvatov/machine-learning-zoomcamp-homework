{
 "cells": [
  {
   "cell_type": "code",
   "execution_count": 9,
   "id": "789b69ec-b8e3-414d-9df9-9af1107cfb28",
   "metadata": {},
   "outputs": [],
   "source": [
    "import requests\n",
    "url = \"http://localhost:9696/score\""
   ]
  },
  {
   "cell_type": "code",
   "execution_count": 12,
   "id": "96cd7472-02a4-40c8-8088-caeaac6118ac",
   "metadata": {},
   "outputs": [
    {
     "data": {
      "text/plain": [
       "{'clinet_score': 0.33480703475511053}"
      ]
     },
     "execution_count": 12,
     "metadata": {},
     "output_type": "execute_result"
    }
   ],
   "source": [
    "client = {\n",
    "    \"job\": \"student\",\n",
    "    \"duration\": 280,\n",
    "    \"poutcome\": \"failure\"\n",
    "}\n",
    "response = requests.post(url, json=client).json()\n",
    "response"
   ]
  },
  {
   "cell_type": "code",
   "execution_count": null,
   "id": "3a644058-96a0-4860-9097-f5947fb299cf",
   "metadata": {},
   "outputs": [],
   "source": [
    "#{'clinet_score': 0.33480703475511053}"
   ]
  }
 ],
 "metadata": {
  "kernelspec": {
   "display_name": "Python 3 (ipykernel)",
   "language": "python",
   "name": "python3"
  },
  "language_info": {
   "codemirror_mode": {
    "name": "ipython",
    "version": 3
   },
   "file_extension": ".py",
   "mimetype": "text/x-python",
   "name": "python",
   "nbconvert_exporter": "python",
   "pygments_lexer": "ipython3",
   "version": "3.11.10"
  }
 },
 "nbformat": 4,
 "nbformat_minor": 5
}
