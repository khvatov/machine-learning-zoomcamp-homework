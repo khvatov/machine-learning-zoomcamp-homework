{
 "cells": [
  {
   "cell_type": "code",
   "execution_count": 2,
   "id": "5a664c7b-0f3e-4cfb-a20a-38550cdd03bd",
   "metadata": {},
   "outputs": [],
   "source": [
    "import requests"
   ]
  },
  {
   "cell_type": "code",
   "execution_count": 3,
   "id": "d3c15281-f678-467a-bb80-dd4acbfe34e4",
   "metadata": {},
   "outputs": [],
   "source": [
    "url = \"http://localhost:9696/predict\""
   ]
  },
  {
   "cell_type": "code",
   "execution_count": 4,
   "id": "8bd393e3-d537-422c-8846-f3249dfe3c0d",
   "metadata": {},
   "outputs": [],
   "source": [
    "customer = {\n",
    "    \"gender\":\"female\",\n",
    "    \"seniorcitizen\":0,\n",
    "    \"partner\":\"yes\",\n",
    "    \"dependents\":\"no\",\n",
    "    \"phoneservice\":\"no\",\n",
    "    \"multiplelines\":\"no_phone_service\",\n",
    "    \"internetservice\":\"dsl\",\n",
    "    \"onlinesecurity\":\"no\",\n",
    "    \"onlinebackup\":\"yes\",\n",
    "    \"deviceprotection\":\"no\",\n",
    "    \"techsupport\":\"no\",\n",
    "    \"streamingtv\":\"no\",\n",
    "    \"streamingmovies\":\"no\",\n",
    "    \"contract\":\"month-to-month\",\n",
    "    \"paperlessbilling\":\"yes\",\n",
    "    \"paymentmethod\":\"electronic_check\",\n",
    "    \"tenure\":1,\n",
    "    \"monthlycharges\":29.85,\n",
    "    \"totalcharges\":29.85\n",
    "    \n",
    "}"
   ]
  },
  {
   "cell_type": "code",
   "execution_count": 5,
   "id": "18d7daf4-a1cd-46df-8cdd-581a38882479",
   "metadata": {},
   "outputs": [
    {
     "data": {
      "text/plain": [
       "{'churn': True, 'churn_probability': 1.0}"
      ]
     },
     "execution_count": 5,
     "metadata": {},
     "output_type": "execute_result"
    }
   ],
   "source": [
    "response = requests.post(url, json=customer).json()\n",
    "response"
   ]
  },
  {
   "cell_type": "code",
   "execution_count": 6,
   "id": "90efbdbc-d937-4413-8984-5ea9353d00ef",
   "metadata": {},
   "outputs": [
    {
     "name": "stdout",
     "output_type": "stream",
     "text": [
      "sending promo email to ...\n"
     ]
    }
   ],
   "source": [
    "if(response['churn'] == True):\n",
    "    print('sending promo email to ...')"
   ]
  },
  {
   "cell_type": "code",
   "execution_count": null,
   "id": "1e7348fc-2dc8-4a84-be2b-8c218e45e1fb",
   "metadata": {},
   "outputs": [],
   "source": []
  }
 ],
 "metadata": {
  "kernelspec": {
   "display_name": "Python 3 (ipykernel)",
   "language": "python",
   "name": "python3"
  },
  "language_info": {
   "codemirror_mode": {
    "name": "ipython",
    "version": 3
   },
   "file_extension": ".py",
   "mimetype": "text/x-python",
   "name": "python",
   "nbconvert_exporter": "python",
   "pygments_lexer": "ipython3",
   "version": "3.11.10"
  }
 },
 "nbformat": 4,
 "nbformat_minor": 5
}
