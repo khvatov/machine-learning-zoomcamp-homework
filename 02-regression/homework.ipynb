{
 "cells": [
  {
   "cell_type": "markdown",
   "id": "be94af8d-718d-493b-867f-88d9c9d775ff",
   "metadata": {},
   "source": [
    "### Alex Khvatov Homework #2"
   ]
  },
  {
   "cell_type": "code",
   "execution_count": 1,
   "id": "b50c3e62-8a1c-4d6c-91cb-07bd4efca7dd",
   "metadata": {},
   "outputs": [],
   "source": [
    "import pandas as pd\n",
    "import numpy as np"
   ]
  },
  {
   "cell_type": "markdown",
   "id": "6581999c-403c-4c6d-b3a6-4b2f06e2d5bd",
   "metadata": {},
   "source": [
    "Get laptops data"
   ]
  },
  {
   "cell_type": "code",
   "execution_count": 2,
   "id": "16bbcc96-e0b7-494d-9c72-df4acfb7ff7f",
   "metadata": {},
   "outputs": [],
   "source": [
    "df_raw=pd.read_csv(\"https://raw.githubusercontent.com/alexeygrigorev/datasets/master/laptops.csv\")"
   ]
  },
  {
   "cell_type": "markdown",
   "id": "ca2b37f1-4230-4993-9da2-5732e41fd72f",
   "metadata": {},
   "source": [
    "### Preparing the dataset"
   ]
  },
  {
   "cell_type": "code",
   "execution_count": 3,
   "id": "ce97d49f-431a-4d60-ae5a-d76f516e9462",
   "metadata": {},
   "outputs": [],
   "source": [
    "#Normalize the column names\n",
    "df_raw.columns = df_raw.columns.str.lower().str.replace(' ', '_')"
   ]
  },
  {
   "cell_type": "code",
   "execution_count": 4,
   "id": "79d4cb51-d163-480b-a0e1-35671328fef3",
   "metadata": {},
   "outputs": [
    {
     "data": {
      "text/html": [
       "<div>\n",
       "<style scoped>\n",
       "    .dataframe tbody tr th:only-of-type {\n",
       "        vertical-align: middle;\n",
       "    }\n",
       "\n",
       "    .dataframe tbody tr th {\n",
       "        vertical-align: top;\n",
       "    }\n",
       "\n",
       "    .dataframe thead th {\n",
       "        text-align: right;\n",
       "    }\n",
       "</style>\n",
       "<table border=\"1\" class=\"dataframe\">\n",
       "  <thead>\n",
       "    <tr style=\"text-align: right;\">\n",
       "      <th></th>\n",
       "      <th>laptop</th>\n",
       "      <th>status</th>\n",
       "      <th>brand</th>\n",
       "      <th>model</th>\n",
       "      <th>cpu</th>\n",
       "      <th>ram</th>\n",
       "      <th>storage</th>\n",
       "      <th>storage_type</th>\n",
       "      <th>gpu</th>\n",
       "      <th>screen</th>\n",
       "      <th>touch</th>\n",
       "      <th>final_price</th>\n",
       "    </tr>\n",
       "  </thead>\n",
       "  <tbody>\n",
       "    <tr>\n",
       "      <th>0</th>\n",
       "      <td>ASUS ExpertBook B1 B1502CBA-EJ0436X Intel Core...</td>\n",
       "      <td>New</td>\n",
       "      <td>Asus</td>\n",
       "      <td>ExpertBook</td>\n",
       "      <td>Intel Core i5</td>\n",
       "      <td>8</td>\n",
       "      <td>512</td>\n",
       "      <td>SSD</td>\n",
       "      <td>NaN</td>\n",
       "      <td>15.6</td>\n",
       "      <td>No</td>\n",
       "      <td>1009.00</td>\n",
       "    </tr>\n",
       "    <tr>\n",
       "      <th>1</th>\n",
       "      <td>Alurin Go Start Intel Celeron N4020/8GB/256GB ...</td>\n",
       "      <td>New</td>\n",
       "      <td>Alurin</td>\n",
       "      <td>Go</td>\n",
       "      <td>Intel Celeron</td>\n",
       "      <td>8</td>\n",
       "      <td>256</td>\n",
       "      <td>SSD</td>\n",
       "      <td>NaN</td>\n",
       "      <td>15.6</td>\n",
       "      <td>No</td>\n",
       "      <td>299.00</td>\n",
       "    </tr>\n",
       "    <tr>\n",
       "      <th>2</th>\n",
       "      <td>ASUS ExpertBook B1 B1502CBA-EJ0424X Intel Core...</td>\n",
       "      <td>New</td>\n",
       "      <td>Asus</td>\n",
       "      <td>ExpertBook</td>\n",
       "      <td>Intel Core i3</td>\n",
       "      <td>8</td>\n",
       "      <td>256</td>\n",
       "      <td>SSD</td>\n",
       "      <td>NaN</td>\n",
       "      <td>15.6</td>\n",
       "      <td>No</td>\n",
       "      <td>789.00</td>\n",
       "    </tr>\n",
       "    <tr>\n",
       "      <th>3</th>\n",
       "      <td>MSI Katana GF66 12UC-082XES Intel Core i7-1270...</td>\n",
       "      <td>New</td>\n",
       "      <td>MSI</td>\n",
       "      <td>Katana</td>\n",
       "      <td>Intel Core i7</td>\n",
       "      <td>16</td>\n",
       "      <td>1000</td>\n",
       "      <td>SSD</td>\n",
       "      <td>RTX 3050</td>\n",
       "      <td>15.6</td>\n",
       "      <td>No</td>\n",
       "      <td>1199.00</td>\n",
       "    </tr>\n",
       "    <tr>\n",
       "      <th>4</th>\n",
       "      <td>HP 15S-FQ5085NS Intel Core i5-1235U/16GB/512GB...</td>\n",
       "      <td>New</td>\n",
       "      <td>HP</td>\n",
       "      <td>15S</td>\n",
       "      <td>Intel Core i5</td>\n",
       "      <td>16</td>\n",
       "      <td>512</td>\n",
       "      <td>SSD</td>\n",
       "      <td>NaN</td>\n",
       "      <td>15.6</td>\n",
       "      <td>No</td>\n",
       "      <td>669.01</td>\n",
       "    </tr>\n",
       "    <tr>\n",
       "      <th>...</th>\n",
       "      <td>...</td>\n",
       "      <td>...</td>\n",
       "      <td>...</td>\n",
       "      <td>...</td>\n",
       "      <td>...</td>\n",
       "      <td>...</td>\n",
       "      <td>...</td>\n",
       "      <td>...</td>\n",
       "      <td>...</td>\n",
       "      <td>...</td>\n",
       "      <td>...</td>\n",
       "      <td>...</td>\n",
       "    </tr>\n",
       "    <tr>\n",
       "      <th>2155</th>\n",
       "      <td>Razer Blade 17 FHD 360Hz Intel Core i7-11800H/...</td>\n",
       "      <td>Refurbished</td>\n",
       "      <td>Razer</td>\n",
       "      <td>Blade</td>\n",
       "      <td>Intel Core i7</td>\n",
       "      <td>16</td>\n",
       "      <td>1000</td>\n",
       "      <td>SSD</td>\n",
       "      <td>RTX 3060</td>\n",
       "      <td>17.3</td>\n",
       "      <td>No</td>\n",
       "      <td>2699.99</td>\n",
       "    </tr>\n",
       "    <tr>\n",
       "      <th>2156</th>\n",
       "      <td>Razer Blade 17 FHD 360Hz Intel Core i7-11800H/...</td>\n",
       "      <td>Refurbished</td>\n",
       "      <td>Razer</td>\n",
       "      <td>Blade</td>\n",
       "      <td>Intel Core i7</td>\n",
       "      <td>16</td>\n",
       "      <td>1000</td>\n",
       "      <td>SSD</td>\n",
       "      <td>RTX 3070</td>\n",
       "      <td>17.3</td>\n",
       "      <td>No</td>\n",
       "      <td>2899.99</td>\n",
       "    </tr>\n",
       "    <tr>\n",
       "      <th>2157</th>\n",
       "      <td>Razer Blade 17 FHD 360Hz Intel Core i7-11800H/...</td>\n",
       "      <td>Refurbished</td>\n",
       "      <td>Razer</td>\n",
       "      <td>Blade</td>\n",
       "      <td>Intel Core i7</td>\n",
       "      <td>32</td>\n",
       "      <td>1000</td>\n",
       "      <td>SSD</td>\n",
       "      <td>RTX 3080</td>\n",
       "      <td>17.3</td>\n",
       "      <td>No</td>\n",
       "      <td>3399.99</td>\n",
       "    </tr>\n",
       "    <tr>\n",
       "      <th>2158</th>\n",
       "      <td>Razer Book 13 Intel Evo Core i7-1165G7/16GB/1T...</td>\n",
       "      <td>Refurbished</td>\n",
       "      <td>Razer</td>\n",
       "      <td>Book</td>\n",
       "      <td>Intel Evo Core i7</td>\n",
       "      <td>16</td>\n",
       "      <td>1000</td>\n",
       "      <td>SSD</td>\n",
       "      <td>NaN</td>\n",
       "      <td>13.4</td>\n",
       "      <td>Yes</td>\n",
       "      <td>1899.99</td>\n",
       "    </tr>\n",
       "    <tr>\n",
       "      <th>2159</th>\n",
       "      <td>Razer Book FHD+ Intel Evo Core i7-1165G7/16GB/...</td>\n",
       "      <td>Refurbished</td>\n",
       "      <td>Razer</td>\n",
       "      <td>Book</td>\n",
       "      <td>Intel Evo Core i7</td>\n",
       "      <td>16</td>\n",
       "      <td>256</td>\n",
       "      <td>SSD</td>\n",
       "      <td>NaN</td>\n",
       "      <td>13.4</td>\n",
       "      <td>Yes</td>\n",
       "      <td>1699.99</td>\n",
       "    </tr>\n",
       "  </tbody>\n",
       "</table>\n",
       "<p>2160 rows × 12 columns</p>\n",
       "</div>"
      ],
      "text/plain": [
       "                                                 laptop       status   brand  \\\n",
       "0     ASUS ExpertBook B1 B1502CBA-EJ0436X Intel Core...          New    Asus   \n",
       "1     Alurin Go Start Intel Celeron N4020/8GB/256GB ...          New  Alurin   \n",
       "2     ASUS ExpertBook B1 B1502CBA-EJ0424X Intel Core...          New    Asus   \n",
       "3     MSI Katana GF66 12UC-082XES Intel Core i7-1270...          New     MSI   \n",
       "4     HP 15S-FQ5085NS Intel Core i5-1235U/16GB/512GB...          New      HP   \n",
       "...                                                 ...          ...     ...   \n",
       "2155  Razer Blade 17 FHD 360Hz Intel Core i7-11800H/...  Refurbished   Razer   \n",
       "2156  Razer Blade 17 FHD 360Hz Intel Core i7-11800H/...  Refurbished   Razer   \n",
       "2157  Razer Blade 17 FHD 360Hz Intel Core i7-11800H/...  Refurbished   Razer   \n",
       "2158  Razer Book 13 Intel Evo Core i7-1165G7/16GB/1T...  Refurbished   Razer   \n",
       "2159  Razer Book FHD+ Intel Evo Core i7-1165G7/16GB/...  Refurbished   Razer   \n",
       "\n",
       "           model                cpu  ram  storage storage_type       gpu  \\\n",
       "0     ExpertBook      Intel Core i5    8      512          SSD       NaN   \n",
       "1             Go      Intel Celeron    8      256          SSD       NaN   \n",
       "2     ExpertBook      Intel Core i3    8      256          SSD       NaN   \n",
       "3         Katana      Intel Core i7   16     1000          SSD  RTX 3050   \n",
       "4            15S      Intel Core i5   16      512          SSD       NaN   \n",
       "...          ...                ...  ...      ...          ...       ...   \n",
       "2155       Blade      Intel Core i7   16     1000          SSD  RTX 3060   \n",
       "2156       Blade      Intel Core i7   16     1000          SSD  RTX 3070   \n",
       "2157       Blade      Intel Core i7   32     1000          SSD  RTX 3080   \n",
       "2158        Book  Intel Evo Core i7   16     1000          SSD       NaN   \n",
       "2159        Book  Intel Evo Core i7   16      256          SSD       NaN   \n",
       "\n",
       "      screen touch  final_price  \n",
       "0       15.6    No      1009.00  \n",
       "1       15.6    No       299.00  \n",
       "2       15.6    No       789.00  \n",
       "3       15.6    No      1199.00  \n",
       "4       15.6    No       669.01  \n",
       "...      ...   ...          ...  \n",
       "2155    17.3    No      2699.99  \n",
       "2156    17.3    No      2899.99  \n",
       "2157    17.3    No      3399.99  \n",
       "2158    13.4   Yes      1899.99  \n",
       "2159    13.4   Yes      1699.99  \n",
       "\n",
       "[2160 rows x 12 columns]"
      ]
     },
     "execution_count": 4,
     "metadata": {},
     "output_type": "execute_result"
    }
   ],
   "source": [
    "df_raw"
   ]
  },
  {
   "cell_type": "code",
   "execution_count": 5,
   "id": "50f13f1a-20fe-4444-82e1-b725d5b7ed5c",
   "metadata": {},
   "outputs": [],
   "source": [
    "#Let's create a copy our dataframe to limit to the columns we are interested in\n",
    "df = df_raw[['ram','storage','screen','final_price']]\n"
   ]
  },
  {
   "cell_type": "markdown",
   "id": "61745f8a-423a-4653-977f-9346d4daec6a",
   "metadata": {},
   "source": [
    "### Check for long tail"
   ]
  },
  {
   "cell_type": "code",
   "execution_count": 6,
   "id": "6dbd7dc4-ea6b-47f0-bafd-418fd003ecfd",
   "metadata": {},
   "outputs": [],
   "source": [
    "import matplotlib.pyplot as plt\n",
    "import seaborn as sns\n",
    "\n",
    "%matplotlib inline"
   ]
  },
  {
   "cell_type": "code",
   "execution_count": 7,
   "id": "18538f0d-1549-4f11-8ea8-bd170e265ed4",
   "metadata": {},
   "outputs": [
    {
     "data": {
      "text/plain": [
       "<Axes: xlabel='final_price', ylabel='Count'>"
      ]
     },
     "execution_count": 7,
     "metadata": {},
     "output_type": "execute_result"
    },
    {
     "data": {
      "image/png": "[encoded data removed]",
      "text/plain": [
       "<Figure size 640x480 with 1 Axes>"
      ]
     },
     "metadata": {},
     "output_type": "display_data"
    }
   ],
   "source": [
    "sns.histplot(df['final_price'], bins=50)"
   ]
  },
  {
   "cell_type": "markdown",
   "id": "b1590318-f981-41c6-a9a3-33e4ba23967b",
   "metadata": {},
   "source": [
    "#### Conclusion: Yes, it does have a long tail distribution"
   ]
  },
  {
   "cell_type": "markdown",
   "id": "69f016e8-add8-4b52-9536-213801c718a7",
   "metadata": {},
   "source": [
    "### Question 1\n",
    "There's one column with missing values. What is it?"
   ]
  },
  {
   "cell_type": "code",
   "execution_count": 8,
   "id": "9b900279-3121-44b6-a6e4-56f14b73a3e1",
   "metadata": {},
   "outputs": [
    {
     "data": {
      "text/plain": [
       "ram            0\n",
       "storage        0\n",
       "screen         4\n",
       "final_price    0\n",
       "dtype: int64"
      ]
     },
     "execution_count": 8,
     "metadata": {},
     "output_type": "execute_result"
    }
   ],
   "source": [
    "df.isnull().sum()"
   ]
  },
  {
   "cell_type": "markdown",
   "id": "ed9a2419-2837-49e3-b824-e38ec2e908eb",
   "metadata": {},
   "source": [
    "__Answer__: 'screen'"
   ]
  },
  {
   "cell_type": "markdown",
   "id": "aed48d66-d303-4e72-84e4-b52e33abf378",
   "metadata": {},
   "source": [
    "### Question 2\n",
    "What's the median (50% percentile) for variable 'ram'?"
   ]
  },
  {
   "cell_type": "code",
   "execution_count": 9,
   "id": "980106c8-d684-417e-9410-a022e15b6bbf",
   "metadata": {
    "scrolled": true
   },
   "outputs": [
    {
     "data": {
      "text/plain": [
       "np.float64(16.0)"
      ]
     },
     "execution_count": 9,
     "metadata": {},
     "output_type": "execute_result"
    }
   ],
   "source": [
    "df['ram'].median()"
   ]
  },
  {
   "cell_type": "markdown",
   "id": "20f1532b-9e01-4ea1-b25b-3569caab1806",
   "metadata": {},
   "source": [
    "__Answer__: 16"
   ]
  },
  {
   "cell_type": "markdown",
   "id": "3cb52e33-158a-4238-b20f-faf846e31c3f",
   "metadata": {},
   "source": [
    "### Prepare the dataset"
   ]
  },
  {
   "cell_type": "code",
   "execution_count": 10,
   "id": "989fc975-b8ea-492d-ab86-af693f76485e",
   "metadata": {},
   "outputs": [],
   "source": [
    "def prepare_dataset(df, seed):\n",
    "    n=len(df)\n",
    "    idx = np.arange(n)\n",
    "\n",
    "    \n",
    "    np.random.seed(seed)\n",
    "    np.random.shuffle(idx)\n",
    "\n",
    "\n",
    "    n_val = int(0.2 * n)\n",
    "    n_test = int(0.2 * n)\n",
    "    n_train = n - (n_val + n_test)\n",
    "\n",
    "    df_shuffled = df.iloc[idx]\n",
    "\n",
    "    #Split the data into train, validation and test\n",
    "    \n",
    "    df_train = df_shuffled.iloc[:n_train].copy()\n",
    "    df_val = df_shuffled.iloc[n_train:n_train+n_val].copy()\n",
    "    df_test = df_shuffled.iloc[n_train+n_val:].copy()\n",
    "    \n",
    "    \n",
    "    df_train = df_train.reset_index()\n",
    "    df_val = df_val.reset_index()\n",
    "    df_test= df_test.reset_index()\n",
    "    \n",
    "    y_train = df_train.final_price.values #np.log1p(df_train.final_price.values)\n",
    "    y_val = df_val.final_price.values #np.log1p(df_val.final_price.values)\n",
    "    y_test = df_test.final_price.values #np.log1p(df_test.final_price.values)\n",
    "        \n",
    "    \n",
    "    #Remove final_price\n",
    "    del(df_train['final_price'])\n",
    "    del(df_val['final_price'])\n",
    "    del(df_test['final_price'])\n",
    "    \n",
    "    return (df_train, df_val, df_test, y_train, y_val, y_test)\n",
    "    "
   ]
  },
  {
   "cell_type": "markdown",
   "id": "c1aac2e5-4166-4cf6-9c31-9ff7a528756f",
   "metadata": {},
   "source": [
    "### Quesiton 3\n",
    "Question 3. Filling NAs"
   ]
  },
  {
   "cell_type": "markdown",
   "id": "029ce1de-45d1-45ca-b3f4-0777580d50b4",
   "metadata": {},
   "source": [
    "We have two options: fill it with 0 or with the mean of this variable."
   ]
  },
  {
   "cell_type": "markdown",
   "id": "d2ec1327-ad18-41bd-9104-5c925c9c56b4",
   "metadata": {},
   "source": [
    "Try both options. For each, train a linear regression model without regularization using the code from the lessons."
   ]
  },
  {
   "cell_type": "markdown",
   "id": "872be61b-d2dd-47d4-b3fb-56c01bdaf871",
   "metadata": {},
   "source": [
    "For computing the mean, use the training only!"
   ]
  },
  {
   "cell_type": "markdown",
   "id": "61dbeeaa-8775-407f-a7a4-9b2c952931c8",
   "metadata": {},
   "source": [
    "Use the validation dataset to evaluate the models and compare the RMSE of each option."
   ]
  },
  {
   "cell_type": "code",
   "execution_count": 11,
   "id": "cfe21d02-bd9b-499c-beef-f7da45fbf288",
   "metadata": {},
   "outputs": [],
   "source": [
    "df_train, df_val, df_test, y_train, y_val, y_test = prepare_dataset(df, 42)"
   ]
  },
  {
   "cell_type": "code",
   "execution_count": 12,
   "id": "e1fcf821-b2bd-44be-9a66-bdf1500ea523",
   "metadata": {},
   "outputs": [
    {
     "data": {
      "text/plain": [
       "True"
      ]
     },
     "execution_count": 12,
     "metadata": {},
     "output_type": "execute_result"
    }
   ],
   "source": [
    "len(df) == len(df_train) + len(df_val) + len(df_test)"
   ]
  },
  {
   "cell_type": "code",
   "execution_count": 13,
   "id": "3f04ad12-b817-47b4-a144-255305d64236",
   "metadata": {},
   "outputs": [
    {
     "name": "stdout",
     "output_type": "stream",
     "text": [
      "<class 'pandas.core.frame.DataFrame'>\n",
      "RangeIndex: 1296 entries, 0 to 1295\n",
      "Data columns (total 4 columns):\n",
      " #   Column   Non-Null Count  Dtype  \n",
      "---  ------   --------------  -----  \n",
      " 0   index    1296 non-null   int64  \n",
      " 1   ram      1296 non-null   int64  \n",
      " 2   storage  1296 non-null   int64  \n",
      " 3   screen   1293 non-null   float64\n",
      "dtypes: float64(1), int64(3)\n",
      "memory usage: 40.6 KB\n"
     ]
    }
   ],
   "source": [
    "df_train.info()"
   ]
  },
  {
   "cell_type": "code",
   "execution_count": 14,
   "id": "9c0ed007-05ab-4bad-bccf-7b9d58b3c8b1",
   "metadata": {},
   "outputs": [
    {
     "data": {
      "text/plain": [
       "1296"
      ]
     },
     "execution_count": 14,
     "metadata": {},
     "output_type": "execute_result"
    }
   ],
   "source": [
    "len(y_train)"
   ]
  },
  {
   "cell_type": "code",
   "execution_count": 15,
   "id": "10c43d98-6259-4a8f-9621-a35d3b512faf",
   "metadata": {},
   "outputs": [],
   "source": [
    "def prepare_X(df, fill_na_with=0):\n",
    "    #No need to select columns - we did it above\n",
    "    #fill_na_with - has a default value zero\n",
    "    df_c = df.copy()\n",
    "    df_c = df_c.fillna(fill_na_with)\n",
    "    X = df_c.values\n",
    "    return X"
   ]
  },
  {
   "cell_type": "code",
   "execution_count": 16,
   "id": "e0a0b72b-7958-44fd-b32f-4ec50c0d3856",
   "metadata": {},
   "outputs": [],
   "source": [
    "def train_linear_regression(X,y):\n",
    "    ones = np.ones(X.shape[0])\n",
    "    X = np.column_stack([ones, X])\n",
    "\n",
    "    XTX=X.T.dot(X)\n",
    "    XTX_inv = np.linalg.inv(XTX)\n",
    "    w_full = XTX_inv.dot(X.T).dot(y)\n",
    "    return w_full[0], w_full[1:]"
   ]
  },
  {
   "cell_type": "code",
   "execution_count": 17,
   "id": "110dd2d0-b85b-4e1f-ab0a-30e458adfeeb",
   "metadata": {},
   "outputs": [],
   "source": [
    "#Prepare X train filled with zeroes\n",
    "X_train = prepare_X(df_train)\n",
    "w0, w = train_linear_regression(X_train, y_train)\n",
    "\n",
    "X_val = prepare_X(df_val)\n",
    "y_pred = w0+ X_val.dot(w)\n"
   ]
  },
  {
   "cell_type": "markdown",
   "id": "cd6362d0-dc59-4461-9a5c-96140ab2324c",
   "metadata": {},
   "source": [
    "**Root mean squared error** \n",
    "$$RMSE=\\sqrt{ 1/m\\sum_{i=1}^m \\left(g\\left(x_i\\right) - y_i\\right)^2 }$$"
   ]
  },
  {
   "cell_type": "code",
   "execution_count": 18,
   "id": "bbe6bafa-b8e7-476b-bf5a-7a47d8bd5dea",
   "metadata": {},
   "outputs": [],
   "source": [
    "def rmse(y, y_pred):\n",
    "    se = (y - y_pred) ** 2\n",
    "    mse = se.mean()\n",
    "    return np.sqrt(mse)"
   ]
  },
  {
   "cell_type": "code",
   "execution_count": 19,
   "id": "bf57470f-8b7b-4772-9a7c-68659bfe2723",
   "metadata": {},
   "outputs": [
    {
     "name": "stdout",
     "output_type": "stream",
     "text": [
      "When filled with Zeroes RMSE:  598.31\n"
     ]
    }
   ],
   "source": [
    "print(\"When filled with Zeroes RMSE: \", round(rmse(y_val, y_pred),2))"
   ]
  },
  {
   "cell_type": "markdown",
   "id": "d7ac2629-4f1e-43f2-8ce8-4c93d54ec7a6",
   "metadata": {},
   "source": [
    "#### Fill with Mean"
   ]
  },
  {
   "cell_type": "code",
   "execution_count": 20,
   "id": "9caccc7c-a564-433e-85ed-507c7f808a0a",
   "metadata": {},
   "outputs": [],
   "source": [
    "df_train, df_val, df_test, y_train, y_val, y_test = prepare_dataset(df, 42)"
   ]
  },
  {
   "cell_type": "code",
   "execution_count": 21,
   "id": "e43d60ae-cf07-4685-b4f8-d1197f970e57",
   "metadata": {},
   "outputs": [
    {
     "data": {
      "text/plain": [
       "np.float64(15.163534416086618)"
      ]
     },
     "execution_count": 21,
     "metadata": {},
     "output_type": "execute_result"
    }
   ],
   "source": [
    "#We compute mean using only training data!\n",
    "mean = df_train.screen.dropna().mean()\n",
    "mean"
   ]
  },
  {
   "cell_type": "code",
   "execution_count": 22,
   "id": "9dc101e4-582f-46db-9ff4-5bbaae404659",
   "metadata": {},
   "outputs": [],
   "source": [
    "X_train = prepare_X(df_train, mean)\n",
    "w0, w = train_linear_regression(X_train, y_train)\n",
    "\n",
    "X_val = prepare_X(df_val, mean)\n",
    "y_pred = w0+ X_val.dot(w)"
   ]
  },
  {
   "cell_type": "code",
   "execution_count": 23,
   "id": "48d67bf6-d15d-4b5f-8002-ed463e88d090",
   "metadata": {},
   "outputs": [
    {
     "name": "stdout",
     "output_type": "stream",
     "text": [
      "When filled with Mean RMSE:  601.4\n"
     ]
    }
   ],
   "source": [
    "print(\"When filled with Mean RMSE: \", round(rmse(y_val, y_pred),2))"
   ]
  },
  {
   "cell_type": "code",
   "execution_count": 24,
   "id": "edc0cc45-34f1-4502-9d4a-013ef818f448",
   "metadata": {},
   "outputs": [
    {
     "data": {
      "text/plain": [
       "<Axes: ylabel='Count'>"
      ]
     },
     "execution_count": 24,
     "metadata": {},
     "output_type": "execute_result"
    },
    {
     "data": {
      "image/png": "[encoded data removed]",
      "text/plain": [
       "<Figure size 640x480 with 1 Axes>"
      ]
     },
     "metadata": {},
     "output_type": "display_data"
    }
   ],
   "source": [
    "sns.histplot(y_pred, color='red', alpha=0.5, bins=50)\n",
    "sns.histplot(y_val, color='blue', alpha=0.5, bins=50)"
   ]
  },
  {
   "cell_type": "markdown",
   "id": "d5f3b73b-e1a4-4cdd-bc56-1bd5fbccb438",
   "metadata": {},
   "source": [
    "### Question 4"
   ]
  },
  {
   "cell_type": "markdown",
   "id": "5dcd20f5-600d-47a6-88db-edecfb09c490",
   "metadata": {},
   "source": [
    "* Now let's train a regularized linear regression.\n",
    "* For this question, fill the NAs with 0.\n",
    "* Try different values of r from this list: [0, 0.01, 0.1, 1, 5, 10, 100].\n",
    "* Use RMSE to evaluate the model on the validation dataset.\n",
    "* Round the RMSE scores to 2 decimal digits.\n",
    "* Which r gives the best RMSE?"
   ]
  },
  {
   "cell_type": "code",
   "execution_count": 25,
   "id": "9419bfa7-9a9c-4da2-8b36-7dfa20dcf12c",
   "metadata": {},
   "outputs": [],
   "source": [
    "def train_linear_regression_reg(X, y, r:float=0.001):\n",
    "    ones = np.ones(X.shape[0])\n",
    "    X = np.column_stack([ones, X])\n",
    "\n",
    "    XTX=X.T.dot(X)\n",
    "    XTX = XTX + r*np.eye(XTX.shape[0])\n",
    "    \n",
    "    XTX_inv = np.linalg.inv(XTX)\n",
    "    w_full = XTX_inv.dot(X.T).dot(y)\n",
    "    return w_full[0], w_full[1:]\n"
   ]
  },
  {
   "cell_type": "code",
   "execution_count": 26,
   "id": "49fc92f1-6764-4648-ad0c-291c3058dac8",
   "metadata": {},
   "outputs": [
    {
     "name": "stdout",
     "output_type": "stream",
     "text": [
      "r value: 0 \tBias: 723.4460087563663,\t RMSE: 598.30734\n",
      "r value: 0.01 \tBias: 722.7411863658486,\t RMSE: 598.30433\n",
      "r value: 0.1 \tBias: 716.4591021366367,\t RMSE: 598.27775\n",
      "r value: 1 \tBias: 659.1688491443574,\t RMSE: 598.05729\n",
      "r value: 5 \tBias: 486.3846142624667,\t RMSE: 597.63221\n",
      "r value: 10 \tBias: 366.4182736284051,\t RMSE: 597.54904\n",
      "r value: 100 \tBias: 67.80723488311286,\t RMSE: 598.08673\n"
     ]
    }
   ],
   "source": [
    "for r in [0, 0.01, 0.1, 1, 5, 10, 100]:\n",
    "    X_train = prepare_X(df_train)\n",
    "    w0, w = train_linear_regression_reg(X_train, y_train, r=r)\n",
    "    \n",
    "    X_val = prepare_X(df_val)\n",
    "    y_pred = w0+ X_val.dot(w)\n",
    "    \n",
    "    score = round(rmse(y_val, y_pred),5)\n",
    "    print(f\"r value: {r} \\tBias: {w0},\\t RMSE: {score}\")\n"
   ]
  },
  {
   "cell_type": "markdown",
   "id": "02264791-5671-4996-93d0-f39e942862ac",
   "metadata": {},
   "source": [
    "### Question 5"
   ]
  },
  {
   "cell_type": "markdown",
   "id": "f6b76b03-8432-4672-9bbd-e205411b258e",
   "metadata": {},
   "source": [
    "* We used seed 42 for splitting the data. Let's find out how selecting the seed influences our score.\n",
    "* Try different seed values: [0, 1, 2, 3, 4, 5, 6, 7, 8, 9].\n",
    "* For each seed, do the train/validation/test split with 60%/20%/20% distribution.\n",
    "* Fill the missing values with 0 and train a model without regularization.\n",
    "* For each seed, evaluate the model on the validation dataset and collect the RMSE scores.\n",
    "* What's the standard deviation of all the scores? To compute the standard deviation, use np.std.\n",
    "* Round the result to 3 decimal digits (round(std, 3))"
   ]
  },
  {
   "cell_type": "code",
   "execution_count": 27,
   "id": "6d0b8478-8764-43bd-9f86-3eba05d86769",
   "metadata": {},
   "outputs": [],
   "source": [
    "seeds = [0, 1, 2, 3, 4, 5, 6, 7, 8, 9]\n",
    "\n",
    "def train_linear_regression(X,y):\n",
    "    ones = np.ones(X.shape[0])\n",
    "    X = np.column_stack([ones, X])\n",
    "\n",
    "    XTX=X.T.dot(X)\n",
    "    XTX_inv = np.linalg.inv(XTX)\n",
    "    w_full = XTX_inv.dot(X.T).dot(y)\n",
    "    return w_full[0], w_full[1:]\n",
    "\n",
    "def calculate_rmse_for(seed):\n",
    "    df_train, df_val, df_test, y_train, y_val, y_test = prepare_dataset(df, seed)\n",
    "    \n",
    "    X_train = prepare_X(df_train)\n",
    "    w0, w = train_linear_regression(X_train, y_train)\n",
    "    \n",
    "    X_val = prepare_X(df_val)\n",
    "    y_pred = w0+ X_val.dot(w)\n",
    "    \n",
    "    return rmse(y_val, y_pred)"
   ]
  },
  {
   "cell_type": "code",
   "execution_count": 28,
   "id": "99969fb6-ad23-4a2f-9cec-02b79afe0ae7",
   "metadata": {},
   "outputs": [
    {
     "data": {
      "text/plain": [
       "np.float64(598.3073393148994)"
      ]
     },
     "execution_count": 28,
     "metadata": {},
     "output_type": "execute_result"
    }
   ],
   "source": [
    "calculate_rmse_for(42)"
   ]
  },
  {
   "cell_type": "code",
   "execution_count": 29,
   "id": "36dbc2fa-5db1-44d4-9d04-4dfada4e3c62",
   "metadata": {},
   "outputs": [
    {
     "data": {
      "text/plain": [
       "{0: np.float64(566.185865703133),\n",
       " 1: np.float64(636.7597615661615),\n",
       " 2: np.float64(588.972070825863),\n",
       " 3: np.float64(597.5963177776609),\n",
       " 4: np.float64(571.8763042773111),\n",
       " 5: np.float64(573.6794781034947),\n",
       " 6: np.float64(646.9343060563583),\n",
       " 7: np.float64(550.3369862538037),\n",
       " 8: np.float64(587.3918953179838),\n",
       " 9: np.float64(576.5765862899498)}"
      ]
     },
     "execution_count": 29,
     "metadata": {},
     "output_type": "execute_result"
    }
   ],
   "source": [
    "rmse_for_seeds = {k:calculate_rmse_for(k) for k in seeds}\n",
    "rmse_for_seeds"
   ]
  },
  {
   "cell_type": "code",
   "execution_count": 30,
   "id": "78aae7f6-2630-4d11-b1b2-5799de55d316",
   "metadata": {},
   "outputs": [
    {
     "name": "stdout",
     "output_type": "stream",
     "text": [
      "Standard diviation of RMSE: 28.996\n"
     ]
    }
   ],
   "source": [
    "print(\"Standard diviation of RMSE:\",round(np.std(list(rmse_for_seeds.values())),3))"
   ]
  },
  {
   "cell_type": "code",
   "execution_count": 31,
   "id": "86d53589-6a41-484f-b6f1-7fe6e84c0365",
   "metadata": {},
   "outputs": [],
   "source": [
    "#Not even close to any of the answers!"
   ]
  },
  {
   "cell_type": "markdown",
   "id": "220d2304-4d9f-4ce4-b4b0-bcc908c26c50",
   "metadata": {},
   "source": [
    "### Question 6"
   ]
  },
  {
   "cell_type": "markdown",
   "id": "16baff1a-7299-4ce8-bca4-d76dde8291e7",
   "metadata": {},
   "source": [
    "* Split the dataset like previously, use seed 9.\n",
    "* Combine train and validation datasets.\n",
    "* Fill the missing values with 0 and train a model with r=0.001.\n",
    "* What's the RMSE on the test dataset?"
   ]
  },
  {
   "cell_type": "code",
   "execution_count": 32,
   "id": "6e52299c-9f10-4d1f-94d1-676f42a4fc02",
   "metadata": {},
   "outputs": [],
   "source": [
    "seed = 9\n",
    "df_train, df_val, df_test, y_train, y_val, y_test = prepare_dataset(df, seed)\n",
    "\n",
    "\n",
    "#Combine training and validation datasets\n",
    "df_full_train = pd.concat([df_train, df_val])\n",
    "df_full_train.reset_index(inplace=True)"
   ]
  },
  {
   "cell_type": "code",
   "execution_count": 33,
   "id": "4aa0d644-1b5c-4849-9b70-b1e2f9094364",
   "metadata": {},
   "outputs": [],
   "source": [
    "del(df_full_train['level_0'])"
   ]
  },
  {
   "cell_type": "code",
   "execution_count": 34,
   "id": "799d369a-5a36-4a2b-9c52-1dafbe6955e6",
   "metadata": {},
   "outputs": [
    {
     "name": "stdout",
     "output_type": "stream",
     "text": [
      "Total combined records 1728\n",
      "RMSE with 609.6609682768348\n"
     ]
    }
   ],
   "source": [
    "#print(\"Total combined records\", len(df_full_train))\n",
    "assert len(df)==len(df_full_train) + len(df_test)\n",
    "\n",
    "\n",
    "X_full_train = prepare_X(df_full_train)\n",
    "\n",
    "y_full_train = np.concat([y_train, y_val])\n",
    "\n",
    "\n",
    "w0, w = train_linear_regression_reg(X_full_train, y_full_train, r=0.001)\n",
    "\n",
    "X_test = prepare_X(df_test)\n",
    "\n",
    "y_pred = w0+ X_test.dot(w)\n",
    "\n",
    "score = rmse(y_test, y_pred)\n",
    "\n",
    "#RMSE on the TEST dataset\n",
    "print(f\"RMSE with {score}\")"
   ]
  },
  {
   "cell_type": "code",
   "execution_count": null,
   "id": "7fa22404-4655-4b13-bc65-591af065bbca",
   "metadata": {},
   "outputs": [],
   "source": []
  }
 ],
 "metadata": {
  "kernelspec": {
   "display_name": "Python 3 (ipykernel)",
   "language": "python",
   "name": "python3"
  },
  "language_info": {
   "codemirror_mode": {
    "name": "ipython",
    "version": 3
   },
   "file_extension": ".py",
   "mimetype": "text/x-python",
   "name": "python",
   "nbconvert_exporter": "python",
   "pygments_lexer": "ipython3",
   "version": "3.11.10"
  }
 },
 "nbformat": 4,
 "nbformat_minor": 5
}
