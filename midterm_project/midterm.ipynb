{
 "cells": [
  {
   "cell_type": "markdown",
   "id": "f86f41ce-80c4-4a8b-ab3d-26177996aa6e",
   "metadata": {},
   "source": [
    "## Alex Khvatov Midterm project"
   ]
  },
  {
   "cell_type": "markdown",
   "id": "4a674a37-841f-4cc0-9794-d6029eef0d65",
   "metadata": {},
   "source": [
    "The dataset I selected for this project comes from https://archive.ics.uci.edu/dataset/45/heart+disease"
   ]
  },
  {
   "cell_type": "markdown",
   "id": "ec17abba-8fd8-4755-8961-e67c89075f39",
   "metadata": {},
   "source": [
    "This project represents a classification problem given the criteria.\n",
    "\n",
    "    For this project we will try to use "
   ]
  },
  {
   "cell_type": "code",
   "execution_count": 97,
   "id": "e46abccd-791a-4f63-83c8-1c2ac6847355",
   "metadata": {},
   "outputs": [],
   "source": [
    "import pandas as pd\n",
    "import numpy as np\n",
    "from pathlib import Path\n",
    "import matplotlib.pyplot as plt\n",
    "import seaborn as sns\n",
    "\n",
    "pd.options.mode.copy_on_write = True"
   ]
  },
  {
   "cell_type": "markdown",
   "id": "846113bc-0fc2-4ccd-801e-faad64f4054b",
   "metadata": {},
   "source": [
    "### Dataset background:\n",
    "\n",
    "This database contains 76 attributes, but all published experiments refer to using a subset of 14 of them.\n",
    "\n",
    "In particular, the Cleveland database is the only one that has been used by ML researchers to data and this is what we are going to use for this midterm project.\n",
    "\n",
    "\n",
    "The \"goal\" field refers to the presence of heart disease in the patient.  It is integer valued from 0 (no presence) to 4. Experiments with the Cleveland database have concentrated on simply attempting to distinguish presence (values 1,2,3,4) from absence (value 0).  \n",
    "\n",
    "\n",
    "One file has been \"processed\", that one containing the Cleveland database.  All four unprocessed files also exist in this directory.\n",
    "\n",
    "Attribute Information:\n",
    "* Only 14 used\n",
    "    1. #3  (age)       \n",
    "    2. #4  (sex)       \n",
    "    3. #9  (cp) - chest pain        \n",
    "    4. #10 (trestbps)  resting blood pressure\n",
    "    5. #12 (chol)      cholesterol\n",
    "    6. #16 (fbs)       fasting blood sugar\n",
    "    7. #19 (restecg)   resting electrocardiographic results \n",
    "    8. #32 (thalach)   maximum heart rate achieved\n",
    "    9. #38 (exang)     exercise induced angina (1 = yes; 0 = no)\n",
    "    10. #40 (oldpeak)  ST depression induced by exercise relative to rest\n",
    "    11. #41 (slope)    the slope of the peak exercise ST segment \n",
    "    12. #44 (ca)       number of major vessels (0-3) colored by flourosopy \n",
    "    13. #51 (thal)     3 = normal; 6 = fixed defect; 7 = reversable defect (A blood disorder called thalassemia)\n",
    "    14. #58 (num)       (the predicted attribute)\n",
    "\n",
    "<details>\n",
    "       <summary>Complete attribute documentation</summary>\n",
    "       \n",
    "      3 age: age in years\n",
    "      4 sex: sex (1 = male; 0 = female)\n",
    "      9 cp: chest pain type\n",
    "        -- Value 1: typical angina\n",
    "        -- Value 2: atypical angina\n",
    "        -- Value 3: non-anginal pain\n",
    "        -- Value 4: asymptomatic\n",
    "     10 trestbps: resting blood pressure (in mm Hg on admission to the \n",
    "        hospital)\n",
    "     12 chol: serum cholestoral in mg/dl\n",
    "     16 fbs: (fasting blood sugar > 120 mg/dl)  (1 = true; 0 = false)\n",
    "     19 restecg: resting electrocardiographic results\n",
    "        -- Value 0: normal\n",
    "        -- Value 1: having ST-T wave abnormality (T wave inversions and/or ST \n",
    "                    elevation or depression of > 0.05 mV)\n",
    "        -- Value 2: showing probable or definite left ventricular hypertrophy\n",
    "                    by Estes' criteria\n",
    "     32 thalach: maximum heart rate achieved\n",
    "     38 exang: exercise induced angina (1 = yes; 0 = no)\n",
    "     40 oldpeak = ST depression induced by exercise relative to rest\n",
    "     41 slope: the slope of the peak exercise ST segment\n",
    "        -- Value 1: upsloping\n",
    "        -- Value 2: flat\n",
    "        -- Value 3: downsloping\n",
    "     44 ca: number of major vessels (0-3) colored by flourosopy\n",
    "     51 thal: 3 = normal; 6 = fixed defect; 7 = reversable defect (A blood disorder called thalassemia)\n",
    "     58 num: diagnosis of heart disease (angiographic disease status)\n",
    "        -- Value 0: < 50% diameter narrowing\n",
    "        -- Value 1: > 50% diameter narrowing\n",
    "        (in any major vessel: attributes 59 through 68 are vessels)\n",
    "     59 lmt\n",
    "     60 ladprox\n",
    "     61 laddist\n",
    "     62 diag\n",
    "     63 cxmain\n",
    "     64 ramus\n",
    "     65 om1\n",
    "     66 om2\n",
    "     67 rcaprox\n",
    "     68 rcadist\n",
    "     69 lvx1: not used\n",
    "     70 lvx2: not used\n",
    "     71 lvx3: not used\n",
    "     72 lvx4: not used\n",
    "     73 lvf: not used\n",
    "     74 cathef: not used\n",
    "     75 junk: not used\n",
    "     76 name: last name of patient \n",
    "\t(I replaced this with the dummy string \"name\")\n",
    "    \n",
    "    Missing Attribute Values: Several.  Distinguished with value -9.0.\n",
    "</details>"
   ]
  },
  {
   "cell_type": "markdown",
   "id": "8416807a-59bc-4c6e-8c2c-ee8e40c3295e",
   "metadata": {},
   "source": [
    "## Data Preparation"
   ]
  },
  {
   "cell_type": "code",
   "execution_count": 2,
   "id": "8cfafa40-70b2-47a0-83eb-cba68738bcf9",
   "metadata": {},
   "outputs": [],
   "source": [
    "#To make it easier to look up the meanings of columns we are going to create a dictionary of columns-explanations.\n",
    "column_meanings = {'age':'Age', \n",
    "                   'sex': 'Gender',\n",
    "                   'cp': 'Chest Pain',\n",
    "                   'trestbps': 'Resting Blood Pressure',\n",
    "                   'chol' : 'Cholesterol',\n",
    "                   'fbs':'Fasting blood sugar',\n",
    "                   'restecg':'Resting electrocardiographic results',\n",
    "                   'thalach':'Maximum heart rate achieved',\n",
    "                   'exang':'Exercise induced angina (1 = yes; 0 = no)',\n",
    "                   'oldpeak': 'ST depression induced by exercise relative to rest',\n",
    "                   'slope':'The slope of the peak exercise ST segment',\n",
    "                   'ca':'Number of major vessels (0-3) colored by flourosopy',\n",
    "                   'thal':'3 = normal; 6 = fixed defect; 7 = reversable defect (A blood disorder called thalassemia)',\n",
    "                   'num':'The predicted attribute (heart disease diagnosis)'\n",
    "                  }"
   ]
  },
  {
   "cell_type": "code",
   "execution_count": 3,
   "id": "92c80ce2-7e65-45fb-a092-45eb3a666bb7",
   "metadata": {},
   "outputs": [
    {
     "data": {
      "text/html": [
       "<div>\n",
       "<style scoped>\n",
       "    .dataframe tbody tr th:only-of-type {\n",
       "        vertical-align: middle;\n",
       "    }\n",
       "\n",
       "    .dataframe tbody tr th {\n",
       "        vertical-align: top;\n",
       "    }\n",
       "\n",
       "    .dataframe thead th {\n",
       "        text-align: right;\n",
       "    }\n",
       "</style>\n",
       "<table border=\"1\" class=\"dataframe\">\n",
       "  <thead>\n",
       "    <tr style=\"text-align: right;\">\n",
       "      <th></th>\n",
       "      <th>age</th>\n",
       "      <th>sex</th>\n",
       "      <th>cp</th>\n",
       "      <th>trestbps</th>\n",
       "      <th>chol</th>\n",
       "      <th>fbs</th>\n",
       "      <th>restecg</th>\n",
       "      <th>thalach</th>\n",
       "      <th>exang</th>\n",
       "      <th>oldpeak</th>\n",
       "      <th>slope</th>\n",
       "      <th>ca</th>\n",
       "      <th>thal</th>\n",
       "      <th>num</th>\n",
       "    </tr>\n",
       "  </thead>\n",
       "  <tbody>\n",
       "    <tr>\n",
       "      <th>0</th>\n",
       "      <td>63.0</td>\n",
       "      <td>1.0</td>\n",
       "      <td>1.0</td>\n",
       "      <td>145.0</td>\n",
       "      <td>233.0</td>\n",
       "      <td>1.0</td>\n",
       "      <td>2.0</td>\n",
       "      <td>150.0</td>\n",
       "      <td>0.0</td>\n",
       "      <td>2.3</td>\n",
       "      <td>3.0</td>\n",
       "      <td>0.0</td>\n",
       "      <td>6.0</td>\n",
       "      <td>0</td>\n",
       "    </tr>\n",
       "    <tr>\n",
       "      <th>1</th>\n",
       "      <td>67.0</td>\n",
       "      <td>1.0</td>\n",
       "      <td>4.0</td>\n",
       "      <td>160.0</td>\n",
       "      <td>286.0</td>\n",
       "      <td>0.0</td>\n",
       "      <td>2.0</td>\n",
       "      <td>108.0</td>\n",
       "      <td>1.0</td>\n",
       "      <td>1.5</td>\n",
       "      <td>2.0</td>\n",
       "      <td>3.0</td>\n",
       "      <td>3.0</td>\n",
       "      <td>2</td>\n",
       "    </tr>\n",
       "    <tr>\n",
       "      <th>2</th>\n",
       "      <td>67.0</td>\n",
       "      <td>1.0</td>\n",
       "      <td>4.0</td>\n",
       "      <td>120.0</td>\n",
       "      <td>229.0</td>\n",
       "      <td>0.0</td>\n",
       "      <td>2.0</td>\n",
       "      <td>129.0</td>\n",
       "      <td>1.0</td>\n",
       "      <td>2.6</td>\n",
       "      <td>2.0</td>\n",
       "      <td>2.0</td>\n",
       "      <td>7.0</td>\n",
       "      <td>1</td>\n",
       "    </tr>\n",
       "    <tr>\n",
       "      <th>3</th>\n",
       "      <td>37.0</td>\n",
       "      <td>1.0</td>\n",
       "      <td>3.0</td>\n",
       "      <td>130.0</td>\n",
       "      <td>250.0</td>\n",
       "      <td>0.0</td>\n",
       "      <td>0.0</td>\n",
       "      <td>187.0</td>\n",
       "      <td>0.0</td>\n",
       "      <td>3.5</td>\n",
       "      <td>3.0</td>\n",
       "      <td>0.0</td>\n",
       "      <td>3.0</td>\n",
       "      <td>0</td>\n",
       "    </tr>\n",
       "    <tr>\n",
       "      <th>4</th>\n",
       "      <td>41.0</td>\n",
       "      <td>0.0</td>\n",
       "      <td>2.0</td>\n",
       "      <td>130.0</td>\n",
       "      <td>204.0</td>\n",
       "      <td>0.0</td>\n",
       "      <td>2.0</td>\n",
       "      <td>172.0</td>\n",
       "      <td>0.0</td>\n",
       "      <td>1.4</td>\n",
       "      <td>1.0</td>\n",
       "      <td>0.0</td>\n",
       "      <td>3.0</td>\n",
       "      <td>0</td>\n",
       "    </tr>\n",
       "    <tr>\n",
       "      <th>...</th>\n",
       "      <td>...</td>\n",
       "      <td>...</td>\n",
       "      <td>...</td>\n",
       "      <td>...</td>\n",
       "      <td>...</td>\n",
       "      <td>...</td>\n",
       "      <td>...</td>\n",
       "      <td>...</td>\n",
       "      <td>...</td>\n",
       "      <td>...</td>\n",
       "      <td>...</td>\n",
       "      <td>...</td>\n",
       "      <td>...</td>\n",
       "      <td>...</td>\n",
       "    </tr>\n",
       "    <tr>\n",
       "      <th>298</th>\n",
       "      <td>45.0</td>\n",
       "      <td>1.0</td>\n",
       "      <td>1.0</td>\n",
       "      <td>110.0</td>\n",
       "      <td>264.0</td>\n",
       "      <td>0.0</td>\n",
       "      <td>0.0</td>\n",
       "      <td>132.0</td>\n",
       "      <td>0.0</td>\n",
       "      <td>1.2</td>\n",
       "      <td>2.0</td>\n",
       "      <td>0.0</td>\n",
       "      <td>7.0</td>\n",
       "      <td>1</td>\n",
       "    </tr>\n",
       "    <tr>\n",
       "      <th>299</th>\n",
       "      <td>68.0</td>\n",
       "      <td>1.0</td>\n",
       "      <td>4.0</td>\n",
       "      <td>144.0</td>\n",
       "      <td>193.0</td>\n",
       "      <td>1.0</td>\n",
       "      <td>0.0</td>\n",
       "      <td>141.0</td>\n",
       "      <td>0.0</td>\n",
       "      <td>3.4</td>\n",
       "      <td>2.0</td>\n",
       "      <td>2.0</td>\n",
       "      <td>7.0</td>\n",
       "      <td>2</td>\n",
       "    </tr>\n",
       "    <tr>\n",
       "      <th>300</th>\n",
       "      <td>57.0</td>\n",
       "      <td>1.0</td>\n",
       "      <td>4.0</td>\n",
       "      <td>130.0</td>\n",
       "      <td>131.0</td>\n",
       "      <td>0.0</td>\n",
       "      <td>0.0</td>\n",
       "      <td>115.0</td>\n",
       "      <td>1.0</td>\n",
       "      <td>1.2</td>\n",
       "      <td>2.0</td>\n",
       "      <td>1.0</td>\n",
       "      <td>7.0</td>\n",
       "      <td>3</td>\n",
       "    </tr>\n",
       "    <tr>\n",
       "      <th>301</th>\n",
       "      <td>57.0</td>\n",
       "      <td>0.0</td>\n",
       "      <td>2.0</td>\n",
       "      <td>130.0</td>\n",
       "      <td>236.0</td>\n",
       "      <td>0.0</td>\n",
       "      <td>2.0</td>\n",
       "      <td>174.0</td>\n",
       "      <td>0.0</td>\n",
       "      <td>0.0</td>\n",
       "      <td>2.0</td>\n",
       "      <td>1.0</td>\n",
       "      <td>3.0</td>\n",
       "      <td>1</td>\n",
       "    </tr>\n",
       "    <tr>\n",
       "      <th>302</th>\n",
       "      <td>38.0</td>\n",
       "      <td>1.0</td>\n",
       "      <td>3.0</td>\n",
       "      <td>138.0</td>\n",
       "      <td>175.0</td>\n",
       "      <td>0.0</td>\n",
       "      <td>0.0</td>\n",
       "      <td>173.0</td>\n",
       "      <td>0.0</td>\n",
       "      <td>0.0</td>\n",
       "      <td>1.0</td>\n",
       "      <td>?</td>\n",
       "      <td>3.0</td>\n",
       "      <td>0</td>\n",
       "    </tr>\n",
       "  </tbody>\n",
       "</table>\n",
       "<p>303 rows × 14 columns</p>\n",
       "</div>"
      ],
      "text/plain": [
       "      age  sex   cp  trestbps   chol  fbs  restecg  thalach  exang  oldpeak  \\\n",
       "0    63.0  1.0  1.0     145.0  233.0  1.0      2.0    150.0    0.0      2.3   \n",
       "1    67.0  1.0  4.0     160.0  286.0  0.0      2.0    108.0    1.0      1.5   \n",
       "2    67.0  1.0  4.0     120.0  229.0  0.0      2.0    129.0    1.0      2.6   \n",
       "3    37.0  1.0  3.0     130.0  250.0  0.0      0.0    187.0    0.0      3.5   \n",
       "4    41.0  0.0  2.0     130.0  204.0  0.0      2.0    172.0    0.0      1.4   \n",
       "..    ...  ...  ...       ...    ...  ...      ...      ...    ...      ...   \n",
       "298  45.0  1.0  1.0     110.0  264.0  0.0      0.0    132.0    0.0      1.2   \n",
       "299  68.0  1.0  4.0     144.0  193.0  1.0      0.0    141.0    0.0      3.4   \n",
       "300  57.0  1.0  4.0     130.0  131.0  0.0      0.0    115.0    1.0      1.2   \n",
       "301  57.0  0.0  2.0     130.0  236.0  0.0      2.0    174.0    0.0      0.0   \n",
       "302  38.0  1.0  3.0     138.0  175.0  0.0      0.0    173.0    0.0      0.0   \n",
       "\n",
       "     slope   ca thal  num  \n",
       "0      3.0  0.0  6.0    0  \n",
       "1      2.0  3.0  3.0    2  \n",
       "2      2.0  2.0  7.0    1  \n",
       "3      3.0  0.0  3.0    0  \n",
       "4      1.0  0.0  3.0    0  \n",
       "..     ...  ...  ...  ...  \n",
       "298    2.0  0.0  7.0    1  \n",
       "299    2.0  2.0  7.0    2  \n",
       "300    2.0  1.0  7.0    3  \n",
       "301    2.0  1.0  3.0    1  \n",
       "302    1.0    ?  3.0    0  \n",
       "\n",
       "[303 rows x 14 columns]"
      ]
     },
     "execution_count": 3,
     "metadata": {},
     "output_type": "execute_result"
    }
   ],
   "source": [
    "#Columns defined - I will assign a more readable column names in place of abbreviated ones\n",
    "\n",
    "columns = ['age', 'sex', 'cp', 'trestbps', 'chol','fbs', 'restecg', 'thalach', 'exang', 'oldpeak', 'slope', 'ca', 'thal', 'num']\n",
    "\n",
    "pwd = Path.resolve(Path(\"./data/processed.cleveland.data\"))\n",
    "\n",
    "p_cleveland_df = pd.read_csv(pwd, header=None, names= columns )\n",
    "p_cleveland_df"
   ]
  },
  {
   "cell_type": "markdown",
   "id": "25cd76de-71e4-4e73-9a7e-fcf64c66e86b",
   "metadata": {},
   "source": [
    "Now we need to make sure we deal with missing data"
   ]
  },
  {
   "cell_type": "code",
   "execution_count": 4,
   "id": "37a4e098-82a5-4c95-a6ec-9450fab6dcdd",
   "metadata": {},
   "outputs": [
    {
     "data": {
      "text/plain": [
       "age         0\n",
       "sex         0\n",
       "cp          0\n",
       "trestbps    0\n",
       "chol        0\n",
       "fbs         0\n",
       "restecg     0\n",
       "thalach     0\n",
       "exang       0\n",
       "oldpeak     0\n",
       "slope       0\n",
       "ca          0\n",
       "thal        0\n",
       "num         0\n",
       "dtype: int64"
      ]
     },
     "execution_count": 4,
     "metadata": {},
     "output_type": "execute_result"
    }
   ],
   "source": [
    "#Check for null values\n",
    "p_cleveland_df.isnull().sum()"
   ]
  },
  {
   "cell_type": "code",
   "execution_count": 5,
   "id": "edaaf59e-cf15-4304-8514-134152c5a516",
   "metadata": {},
   "outputs": [],
   "source": [
    "string_columns = list(p_cleveland_df.dtypes[p_cleveland_df.dtypes == 'object'].index)\n",
    "for c in string_columns:\n",
    "    p_cleveland_df[c] = p_cleveland_df[c].str.strip()\n",
    "    "
   ]
  },
  {
   "cell_type": "code",
   "execution_count": 6,
   "id": "121493f7-4270-4ec9-9240-1eb6ef26b02a",
   "metadata": {},
   "outputs": [
    {
     "name": "stdout",
     "output_type": "stream",
     "text": [
      "Missing data in ca = 4\n",
      "Missing data in thal = 2\n"
     ]
    }
   ],
   "source": [
    "for c in columns:\n",
    "    col_vals = list(p_cleveland_df[c].values)\n",
    "    if('?' in col_vals):\n",
    "        print(f\"Missing data in {c} = {col_vals.count('?')}\")\n"
   ]
  },
  {
   "cell_type": "code",
   "execution_count": 7,
   "id": "24a678ec-11a8-4fb8-946a-5c1a802e6da4",
   "metadata": {},
   "outputs": [
    {
     "data": {
      "text/html": [
       "<div>\n",
       "<style scoped>\n",
       "    .dataframe tbody tr th:only-of-type {\n",
       "        vertical-align: middle;\n",
       "    }\n",
       "\n",
       "    .dataframe tbody tr th {\n",
       "        vertical-align: top;\n",
       "    }\n",
       "\n",
       "    .dataframe thead th {\n",
       "        text-align: right;\n",
       "    }\n",
       "</style>\n",
       "<table border=\"1\" class=\"dataframe\">\n",
       "  <thead>\n",
       "    <tr style=\"text-align: right;\">\n",
       "      <th></th>\n",
       "      <th>age</th>\n",
       "      <th>sex</th>\n",
       "      <th>cp</th>\n",
       "      <th>trestbps</th>\n",
       "      <th>chol</th>\n",
       "      <th>fbs</th>\n",
       "      <th>restecg</th>\n",
       "      <th>thalach</th>\n",
       "      <th>exang</th>\n",
       "      <th>oldpeak</th>\n",
       "      <th>slope</th>\n",
       "      <th>ca</th>\n",
       "      <th>thal</th>\n",
       "      <th>num</th>\n",
       "    </tr>\n",
       "  </thead>\n",
       "  <tbody>\n",
       "    <tr>\n",
       "      <th>0</th>\n",
       "      <td>63.0</td>\n",
       "      <td>1.0</td>\n",
       "      <td>1.0</td>\n",
       "      <td>145.0</td>\n",
       "      <td>233.0</td>\n",
       "      <td>1.0</td>\n",
       "      <td>2.0</td>\n",
       "      <td>150.0</td>\n",
       "      <td>0.0</td>\n",
       "      <td>2.3</td>\n",
       "      <td>3.0</td>\n",
       "      <td>0.0</td>\n",
       "      <td>6.0</td>\n",
       "      <td>0</td>\n",
       "    </tr>\n",
       "    <tr>\n",
       "      <th>1</th>\n",
       "      <td>67.0</td>\n",
       "      <td>1.0</td>\n",
       "      <td>4.0</td>\n",
       "      <td>160.0</td>\n",
       "      <td>286.0</td>\n",
       "      <td>0.0</td>\n",
       "      <td>2.0</td>\n",
       "      <td>108.0</td>\n",
       "      <td>1.0</td>\n",
       "      <td>1.5</td>\n",
       "      <td>2.0</td>\n",
       "      <td>3.0</td>\n",
       "      <td>3.0</td>\n",
       "      <td>2</td>\n",
       "    </tr>\n",
       "    <tr>\n",
       "      <th>2</th>\n",
       "      <td>67.0</td>\n",
       "      <td>1.0</td>\n",
       "      <td>4.0</td>\n",
       "      <td>120.0</td>\n",
       "      <td>229.0</td>\n",
       "      <td>0.0</td>\n",
       "      <td>2.0</td>\n",
       "      <td>129.0</td>\n",
       "      <td>1.0</td>\n",
       "      <td>2.6</td>\n",
       "      <td>2.0</td>\n",
       "      <td>2.0</td>\n",
       "      <td>7.0</td>\n",
       "      <td>1</td>\n",
       "    </tr>\n",
       "    <tr>\n",
       "      <th>3</th>\n",
       "      <td>37.0</td>\n",
       "      <td>1.0</td>\n",
       "      <td>3.0</td>\n",
       "      <td>130.0</td>\n",
       "      <td>250.0</td>\n",
       "      <td>0.0</td>\n",
       "      <td>0.0</td>\n",
       "      <td>187.0</td>\n",
       "      <td>0.0</td>\n",
       "      <td>3.5</td>\n",
       "      <td>3.0</td>\n",
       "      <td>0.0</td>\n",
       "      <td>3.0</td>\n",
       "      <td>0</td>\n",
       "    </tr>\n",
       "    <tr>\n",
       "      <th>4</th>\n",
       "      <td>41.0</td>\n",
       "      <td>0.0</td>\n",
       "      <td>2.0</td>\n",
       "      <td>130.0</td>\n",
       "      <td>204.0</td>\n",
       "      <td>0.0</td>\n",
       "      <td>2.0</td>\n",
       "      <td>172.0</td>\n",
       "      <td>0.0</td>\n",
       "      <td>1.4</td>\n",
       "      <td>1.0</td>\n",
       "      <td>0.0</td>\n",
       "      <td>3.0</td>\n",
       "      <td>0</td>\n",
       "    </tr>\n",
       "    <tr>\n",
       "      <th>...</th>\n",
       "      <td>...</td>\n",
       "      <td>...</td>\n",
       "      <td>...</td>\n",
       "      <td>...</td>\n",
       "      <td>...</td>\n",
       "      <td>...</td>\n",
       "      <td>...</td>\n",
       "      <td>...</td>\n",
       "      <td>...</td>\n",
       "      <td>...</td>\n",
       "      <td>...</td>\n",
       "      <td>...</td>\n",
       "      <td>...</td>\n",
       "      <td>...</td>\n",
       "    </tr>\n",
       "    <tr>\n",
       "      <th>298</th>\n",
       "      <td>45.0</td>\n",
       "      <td>1.0</td>\n",
       "      <td>1.0</td>\n",
       "      <td>110.0</td>\n",
       "      <td>264.0</td>\n",
       "      <td>0.0</td>\n",
       "      <td>0.0</td>\n",
       "      <td>132.0</td>\n",
       "      <td>0.0</td>\n",
       "      <td>1.2</td>\n",
       "      <td>2.0</td>\n",
       "      <td>0.0</td>\n",
       "      <td>7.0</td>\n",
       "      <td>1</td>\n",
       "    </tr>\n",
       "    <tr>\n",
       "      <th>299</th>\n",
       "      <td>68.0</td>\n",
       "      <td>1.0</td>\n",
       "      <td>4.0</td>\n",
       "      <td>144.0</td>\n",
       "      <td>193.0</td>\n",
       "      <td>1.0</td>\n",
       "      <td>0.0</td>\n",
       "      <td>141.0</td>\n",
       "      <td>0.0</td>\n",
       "      <td>3.4</td>\n",
       "      <td>2.0</td>\n",
       "      <td>2.0</td>\n",
       "      <td>7.0</td>\n",
       "      <td>2</td>\n",
       "    </tr>\n",
       "    <tr>\n",
       "      <th>300</th>\n",
       "      <td>57.0</td>\n",
       "      <td>1.0</td>\n",
       "      <td>4.0</td>\n",
       "      <td>130.0</td>\n",
       "      <td>131.0</td>\n",
       "      <td>0.0</td>\n",
       "      <td>0.0</td>\n",
       "      <td>115.0</td>\n",
       "      <td>1.0</td>\n",
       "      <td>1.2</td>\n",
       "      <td>2.0</td>\n",
       "      <td>1.0</td>\n",
       "      <td>7.0</td>\n",
       "      <td>3</td>\n",
       "    </tr>\n",
       "    <tr>\n",
       "      <th>301</th>\n",
       "      <td>57.0</td>\n",
       "      <td>0.0</td>\n",
       "      <td>2.0</td>\n",
       "      <td>130.0</td>\n",
       "      <td>236.0</td>\n",
       "      <td>0.0</td>\n",
       "      <td>2.0</td>\n",
       "      <td>174.0</td>\n",
       "      <td>0.0</td>\n",
       "      <td>0.0</td>\n",
       "      <td>2.0</td>\n",
       "      <td>1.0</td>\n",
       "      <td>3.0</td>\n",
       "      <td>1</td>\n",
       "    </tr>\n",
       "    <tr>\n",
       "      <th>302</th>\n",
       "      <td>38.0</td>\n",
       "      <td>1.0</td>\n",
       "      <td>3.0</td>\n",
       "      <td>138.0</td>\n",
       "      <td>175.0</td>\n",
       "      <td>0.0</td>\n",
       "      <td>0.0</td>\n",
       "      <td>173.0</td>\n",
       "      <td>0.0</td>\n",
       "      <td>0.0</td>\n",
       "      <td>1.0</td>\n",
       "      <td>0.0</td>\n",
       "      <td>3.0</td>\n",
       "      <td>0</td>\n",
       "    </tr>\n",
       "  </tbody>\n",
       "</table>\n",
       "<p>301 rows × 14 columns</p>\n",
       "</div>"
      ],
      "text/plain": [
       "      age  sex   cp  trestbps   chol  fbs  restecg  thalach  exang  oldpeak  \\\n",
       "0    63.0  1.0  1.0     145.0  233.0  1.0      2.0    150.0    0.0      2.3   \n",
       "1    67.0  1.0  4.0     160.0  286.0  0.0      2.0    108.0    1.0      1.5   \n",
       "2    67.0  1.0  4.0     120.0  229.0  0.0      2.0    129.0    1.0      2.6   \n",
       "3    37.0  1.0  3.0     130.0  250.0  0.0      0.0    187.0    0.0      3.5   \n",
       "4    41.0  0.0  2.0     130.0  204.0  0.0      2.0    172.0    0.0      1.4   \n",
       "..    ...  ...  ...       ...    ...  ...      ...      ...    ...      ...   \n",
       "298  45.0  1.0  1.0     110.0  264.0  0.0      0.0    132.0    0.0      1.2   \n",
       "299  68.0  1.0  4.0     144.0  193.0  1.0      0.0    141.0    0.0      3.4   \n",
       "300  57.0  1.0  4.0     130.0  131.0  0.0      0.0    115.0    1.0      1.2   \n",
       "301  57.0  0.0  2.0     130.0  236.0  0.0      2.0    174.0    0.0      0.0   \n",
       "302  38.0  1.0  3.0     138.0  175.0  0.0      0.0    173.0    0.0      0.0   \n",
       "\n",
       "     slope   ca thal  num  \n",
       "0      3.0  0.0  6.0    0  \n",
       "1      2.0  3.0  3.0    2  \n",
       "2      2.0  2.0  7.0    1  \n",
       "3      3.0  0.0  3.0    0  \n",
       "4      1.0  0.0  3.0    0  \n",
       "..     ...  ...  ...  ...  \n",
       "298    2.0  0.0  7.0    1  \n",
       "299    2.0  2.0  7.0    2  \n",
       "300    2.0  1.0  7.0    3  \n",
       "301    2.0  1.0  3.0    1  \n",
       "302    1.0  0.0  3.0    0  \n",
       "\n",
       "[301 rows x 14 columns]"
      ]
     },
     "execution_count": 7,
     "metadata": {},
     "output_type": "execute_result"
    }
   ],
   "source": [
    "#Since we cannot impute the value for categorical value column - we are going to drop the missing 'thal' rows\n",
    "p_cleveland_df = p_cleveland_df[p_cleveland_df['thal']!='?']\n",
    "\n",
    "#Missing data for 'ca' column (number of major vessels (0-3) colored by flourosopy) we are going to set to 0\n",
    "p_cleveland_df.loc[p_cleveland_df['ca']=='?', 'ca'] = 0.0\n",
    "p_cleveland_df\n",
    "\n"
   ]
  },
  {
   "cell_type": "code",
   "execution_count": 8,
   "id": "4bfb63d5-c64f-4a6f-971a-bea34a4d4c2f",
   "metadata": {},
   "outputs": [
    {
     "data": {
      "text/plain": [
       "['age',\n",
       " 'sex',\n",
       " 'cp',\n",
       " 'trestbps',\n",
       " 'chol',\n",
       " 'fbs',\n",
       " 'restecg',\n",
       " 'thalach',\n",
       " 'exang',\n",
       " 'oldpeak',\n",
       " 'slope',\n",
       " 'ca',\n",
       " 'thal',\n",
       " 'num']"
      ]
     },
     "execution_count": 8,
     "metadata": {},
     "output_type": "execute_result"
    }
   ],
   "source": [
    "list(p_cleveland_df.columns)"
   ]
  },
  {
   "cell_type": "code",
   "execution_count": 9,
   "id": "329ea4c4-4535-4888-b2a2-2a8b43906de9",
   "metadata": {},
   "outputs": [
    {
     "data": {
      "text/plain": [
       "age          41\n",
       "sex           2\n",
       "cp            4\n",
       "trestbps     50\n",
       "chol        152\n",
       "fbs           2\n",
       "restecg       3\n",
       "thalach      91\n",
       "exang         2\n",
       "oldpeak      40\n",
       "slope         3\n",
       "ca            5\n",
       "thal          3\n",
       "num           5\n",
       "dtype: int64"
      ]
     },
     "execution_count": 9,
     "metadata": {},
     "output_type": "execute_result"
    }
   ],
   "source": [
    "p_cleveland_df.nunique()"
   ]
  },
  {
   "cell_type": "code",
   "execution_count": 10,
   "id": "53a9270a-6f7b-4f25-8231-c33bd1bd5a57",
   "metadata": {},
   "outputs": [
    {
     "data": {
      "text/plain": [
       "age         0\n",
       "sex         0\n",
       "cp          0\n",
       "trestbps    0\n",
       "chol        0\n",
       "fbs         0\n",
       "restecg     0\n",
       "thalach     0\n",
       "exang       0\n",
       "oldpeak     0\n",
       "slope       0\n",
       "ca          0\n",
       "thal        0\n",
       "num         0\n",
       "dtype: int64"
      ]
     },
     "execution_count": 10,
     "metadata": {},
     "output_type": "execute_result"
    }
   ],
   "source": [
    "p_cleveland_df.isna().sum()"
   ]
  },
  {
   "cell_type": "code",
   "execution_count": 11,
   "id": "a161534f-91e3-4615-b6fe-a3fd97aa171a",
   "metadata": {},
   "outputs": [
    {
     "data": {
      "text/plain": [
       "age         float64\n",
       "sex         float64\n",
       "cp          float64\n",
       "trestbps    float64\n",
       "chol        float64\n",
       "fbs         float64\n",
       "restecg     float64\n",
       "thalach     float64\n",
       "exang       float64\n",
       "oldpeak     float64\n",
       "slope       float64\n",
       "ca           object\n",
       "thal         object\n",
       "num           int64\n",
       "dtype: object"
      ]
     },
     "execution_count": 11,
     "metadata": {},
     "output_type": "execute_result"
    }
   ],
   "source": [
    "p_cleveland_df.dtypes"
   ]
  },
  {
   "cell_type": "code",
   "execution_count": 12,
   "id": "74378ba5-2b6f-43d7-b6e3-46d13e5eac97",
   "metadata": {},
   "outputs": [
    {
     "data": {
      "text/html": [
       "<div>\n",
       "<style scoped>\n",
       "    .dataframe tbody tr th:only-of-type {\n",
       "        vertical-align: middle;\n",
       "    }\n",
       "\n",
       "    .dataframe tbody tr th {\n",
       "        vertical-align: top;\n",
       "    }\n",
       "\n",
       "    .dataframe thead th {\n",
       "        text-align: right;\n",
       "    }\n",
       "</style>\n",
       "<table border=\"1\" class=\"dataframe\">\n",
       "  <thead>\n",
       "    <tr style=\"text-align: right;\">\n",
       "      <th></th>\n",
       "      <th>age</th>\n",
       "      <th>sex</th>\n",
       "      <th>cp</th>\n",
       "      <th>trestbps</th>\n",
       "      <th>chol</th>\n",
       "      <th>fbs</th>\n",
       "      <th>restecg</th>\n",
       "      <th>thalach</th>\n",
       "      <th>exang</th>\n",
       "      <th>oldpeak</th>\n",
       "      <th>slope</th>\n",
       "      <th>ca</th>\n",
       "      <th>thal</th>\n",
       "      <th>num</th>\n",
       "    </tr>\n",
       "  </thead>\n",
       "  <tbody>\n",
       "    <tr>\n",
       "      <th>0</th>\n",
       "      <td>63.0</td>\n",
       "      <td>1.0</td>\n",
       "      <td>1.0</td>\n",
       "      <td>145.0</td>\n",
       "      <td>233.0</td>\n",
       "      <td>1.0</td>\n",
       "      <td>2.0</td>\n",
       "      <td>150.0</td>\n",
       "      <td>0.0</td>\n",
       "      <td>2.3</td>\n",
       "      <td>3.0</td>\n",
       "      <td>0.0</td>\n",
       "      <td>6.0</td>\n",
       "      <td>0</td>\n",
       "    </tr>\n",
       "    <tr>\n",
       "      <th>1</th>\n",
       "      <td>67.0</td>\n",
       "      <td>1.0</td>\n",
       "      <td>4.0</td>\n",
       "      <td>160.0</td>\n",
       "      <td>286.0</td>\n",
       "      <td>0.0</td>\n",
       "      <td>2.0</td>\n",
       "      <td>108.0</td>\n",
       "      <td>1.0</td>\n",
       "      <td>1.5</td>\n",
       "      <td>2.0</td>\n",
       "      <td>3.0</td>\n",
       "      <td>3.0</td>\n",
       "      <td>2</td>\n",
       "    </tr>\n",
       "    <tr>\n",
       "      <th>2</th>\n",
       "      <td>67.0</td>\n",
       "      <td>1.0</td>\n",
       "      <td>4.0</td>\n",
       "      <td>120.0</td>\n",
       "      <td>229.0</td>\n",
       "      <td>0.0</td>\n",
       "      <td>2.0</td>\n",
       "      <td>129.0</td>\n",
       "      <td>1.0</td>\n",
       "      <td>2.6</td>\n",
       "      <td>2.0</td>\n",
       "      <td>2.0</td>\n",
       "      <td>7.0</td>\n",
       "      <td>1</td>\n",
       "    </tr>\n",
       "    <tr>\n",
       "      <th>3</th>\n",
       "      <td>37.0</td>\n",
       "      <td>1.0</td>\n",
       "      <td>3.0</td>\n",
       "      <td>130.0</td>\n",
       "      <td>250.0</td>\n",
       "      <td>0.0</td>\n",
       "      <td>0.0</td>\n",
       "      <td>187.0</td>\n",
       "      <td>0.0</td>\n",
       "      <td>3.5</td>\n",
       "      <td>3.0</td>\n",
       "      <td>0.0</td>\n",
       "      <td>3.0</td>\n",
       "      <td>0</td>\n",
       "    </tr>\n",
       "    <tr>\n",
       "      <th>4</th>\n",
       "      <td>41.0</td>\n",
       "      <td>0.0</td>\n",
       "      <td>2.0</td>\n",
       "      <td>130.0</td>\n",
       "      <td>204.0</td>\n",
       "      <td>0.0</td>\n",
       "      <td>2.0</td>\n",
       "      <td>172.0</td>\n",
       "      <td>0.0</td>\n",
       "      <td>1.4</td>\n",
       "      <td>1.0</td>\n",
       "      <td>0.0</td>\n",
       "      <td>3.0</td>\n",
       "      <td>0</td>\n",
       "    </tr>\n",
       "    <tr>\n",
       "      <th>...</th>\n",
       "      <td>...</td>\n",
       "      <td>...</td>\n",
       "      <td>...</td>\n",
       "      <td>...</td>\n",
       "      <td>...</td>\n",
       "      <td>...</td>\n",
       "      <td>...</td>\n",
       "      <td>...</td>\n",
       "      <td>...</td>\n",
       "      <td>...</td>\n",
       "      <td>...</td>\n",
       "      <td>...</td>\n",
       "      <td>...</td>\n",
       "      <td>...</td>\n",
       "    </tr>\n",
       "    <tr>\n",
       "      <th>298</th>\n",
       "      <td>45.0</td>\n",
       "      <td>1.0</td>\n",
       "      <td>1.0</td>\n",
       "      <td>110.0</td>\n",
       "      <td>264.0</td>\n",
       "      <td>0.0</td>\n",
       "      <td>0.0</td>\n",
       "      <td>132.0</td>\n",
       "      <td>0.0</td>\n",
       "      <td>1.2</td>\n",
       "      <td>2.0</td>\n",
       "      <td>0.0</td>\n",
       "      <td>7.0</td>\n",
       "      <td>1</td>\n",
       "    </tr>\n",
       "    <tr>\n",
       "      <th>299</th>\n",
       "      <td>68.0</td>\n",
       "      <td>1.0</td>\n",
       "      <td>4.0</td>\n",
       "      <td>144.0</td>\n",
       "      <td>193.0</td>\n",
       "      <td>1.0</td>\n",
       "      <td>0.0</td>\n",
       "      <td>141.0</td>\n",
       "      <td>0.0</td>\n",
       "      <td>3.4</td>\n",
       "      <td>2.0</td>\n",
       "      <td>2.0</td>\n",
       "      <td>7.0</td>\n",
       "      <td>2</td>\n",
       "    </tr>\n",
       "    <tr>\n",
       "      <th>300</th>\n",
       "      <td>57.0</td>\n",
       "      <td>1.0</td>\n",
       "      <td>4.0</td>\n",
       "      <td>130.0</td>\n",
       "      <td>131.0</td>\n",
       "      <td>0.0</td>\n",
       "      <td>0.0</td>\n",
       "      <td>115.0</td>\n",
       "      <td>1.0</td>\n",
       "      <td>1.2</td>\n",
       "      <td>2.0</td>\n",
       "      <td>1.0</td>\n",
       "      <td>7.0</td>\n",
       "      <td>3</td>\n",
       "    </tr>\n",
       "    <tr>\n",
       "      <th>301</th>\n",
       "      <td>57.0</td>\n",
       "      <td>0.0</td>\n",
       "      <td>2.0</td>\n",
       "      <td>130.0</td>\n",
       "      <td>236.0</td>\n",
       "      <td>0.0</td>\n",
       "      <td>2.0</td>\n",
       "      <td>174.0</td>\n",
       "      <td>0.0</td>\n",
       "      <td>0.0</td>\n",
       "      <td>2.0</td>\n",
       "      <td>1.0</td>\n",
       "      <td>3.0</td>\n",
       "      <td>1</td>\n",
       "    </tr>\n",
       "    <tr>\n",
       "      <th>302</th>\n",
       "      <td>38.0</td>\n",
       "      <td>1.0</td>\n",
       "      <td>3.0</td>\n",
       "      <td>138.0</td>\n",
       "      <td>175.0</td>\n",
       "      <td>0.0</td>\n",
       "      <td>0.0</td>\n",
       "      <td>173.0</td>\n",
       "      <td>0.0</td>\n",
       "      <td>0.0</td>\n",
       "      <td>1.0</td>\n",
       "      <td>0.0</td>\n",
       "      <td>3.0</td>\n",
       "      <td>0</td>\n",
       "    </tr>\n",
       "  </tbody>\n",
       "</table>\n",
       "<p>301 rows × 14 columns</p>\n",
       "</div>"
      ],
      "text/plain": [
       "      age  sex   cp  trestbps   chol  fbs  restecg  thalach  exang  oldpeak  \\\n",
       "0    63.0  1.0  1.0     145.0  233.0  1.0      2.0    150.0    0.0      2.3   \n",
       "1    67.0  1.0  4.0     160.0  286.0  0.0      2.0    108.0    1.0      1.5   \n",
       "2    67.0  1.0  4.0     120.0  229.0  0.0      2.0    129.0    1.0      2.6   \n",
       "3    37.0  1.0  3.0     130.0  250.0  0.0      0.0    187.0    0.0      3.5   \n",
       "4    41.0  0.0  2.0     130.0  204.0  0.0      2.0    172.0    0.0      1.4   \n",
       "..    ...  ...  ...       ...    ...  ...      ...      ...    ...      ...   \n",
       "298  45.0  1.0  1.0     110.0  264.0  0.0      0.0    132.0    0.0      1.2   \n",
       "299  68.0  1.0  4.0     144.0  193.0  1.0      0.0    141.0    0.0      3.4   \n",
       "300  57.0  1.0  4.0     130.0  131.0  0.0      0.0    115.0    1.0      1.2   \n",
       "301  57.0  0.0  2.0     130.0  236.0  0.0      2.0    174.0    0.0      0.0   \n",
       "302  38.0  1.0  3.0     138.0  175.0  0.0      0.0    173.0    0.0      0.0   \n",
       "\n",
       "     slope   ca thal  num  \n",
       "0      3.0  0.0  6.0    0  \n",
       "1      2.0  3.0  3.0    2  \n",
       "2      2.0  2.0  7.0    1  \n",
       "3      3.0  0.0  3.0    0  \n",
       "4      1.0  0.0  3.0    0  \n",
       "..     ...  ...  ...  ...  \n",
       "298    2.0  0.0  7.0    1  \n",
       "299    2.0  2.0  7.0    2  \n",
       "300    2.0  1.0  7.0    3  \n",
       "301    2.0  1.0  3.0    1  \n",
       "302    1.0  0.0  3.0    0  \n",
       "\n",
       "[301 rows x 14 columns]"
      ]
     },
     "execution_count": 12,
     "metadata": {},
     "output_type": "execute_result"
    }
   ],
   "source": [
    "p_cleveland_df"
   ]
  },
  {
   "cell_type": "code",
   "execution_count": 13,
   "id": "0d1ed978-4137-487f-8853-b96f8c8ce8c0",
   "metadata": {},
   "outputs": [],
   "source": [
    "#all columns can be converted to type int\n",
    "int_columns = ['age', 'sex', 'cp', 'trestbps', 'chol','fbs', 'restecg', 'thalach', 'exang', 'slope', 'ca', 'thal', 'num']\n",
    "float_columns = ['oldpeak']\n",
    "\n",
    "\n",
    "for c in int_columns:\n",
    "    p_cleveland_df[c] = pd.to_numeric(p_cleveland_df[c], errors='coerce')\n",
    "    p_cleveland_df[c] = p_cleveland_df[c].astype(int)\n"
   ]
  },
  {
   "cell_type": "code",
   "execution_count": 14,
   "id": "5915d1fa-0eb5-410e-ab42-31544f623b14",
   "metadata": {},
   "outputs": [
    {
     "data": {
      "text/plain": [
       "age           int64\n",
       "sex           int64\n",
       "cp            int64\n",
       "trestbps      int64\n",
       "chol          int64\n",
       "fbs           int64\n",
       "restecg       int64\n",
       "thalach       int64\n",
       "exang         int64\n",
       "oldpeak     float64\n",
       "slope         int64\n",
       "ca            int64\n",
       "thal          int64\n",
       "num           int64\n",
       "dtype: object"
      ]
     },
     "execution_count": 14,
     "metadata": {},
     "output_type": "execute_result"
    }
   ],
   "source": [
    "p_cleveland_df.dtypes"
   ]
  },
  {
   "cell_type": "code",
   "execution_count": 15,
   "id": "ccbb771a-e8f2-4c8e-9015-e6c0a8ecd37c",
   "metadata": {},
   "outputs": [
    {
     "data": {
      "text/html": [
       "<div>\n",
       "<style scoped>\n",
       "    .dataframe tbody tr th:only-of-type {\n",
       "        vertical-align: middle;\n",
       "    }\n",
       "\n",
       "    .dataframe tbody tr th {\n",
       "        vertical-align: top;\n",
       "    }\n",
       "\n",
       "    .dataframe thead th {\n",
       "        text-align: right;\n",
       "    }\n",
       "</style>\n",
       "<table border=\"1\" class=\"dataframe\">\n",
       "  <thead>\n",
       "    <tr style=\"text-align: right;\">\n",
       "      <th></th>\n",
       "      <th>age</th>\n",
       "      <th>sex</th>\n",
       "      <th>cp</th>\n",
       "      <th>trestbps</th>\n",
       "      <th>chol</th>\n",
       "      <th>fbs</th>\n",
       "      <th>restecg</th>\n",
       "      <th>thalach</th>\n",
       "      <th>exang</th>\n",
       "      <th>oldpeak</th>\n",
       "      <th>slope</th>\n",
       "      <th>ca</th>\n",
       "      <th>thal</th>\n",
       "      <th>num</th>\n",
       "    </tr>\n",
       "  </thead>\n",
       "  <tbody>\n",
       "    <tr>\n",
       "      <th>0</th>\n",
       "      <td>63</td>\n",
       "      <td>1</td>\n",
       "      <td>1</td>\n",
       "      <td>145</td>\n",
       "      <td>233</td>\n",
       "      <td>1</td>\n",
       "      <td>2</td>\n",
       "      <td>150</td>\n",
       "      <td>0</td>\n",
       "      <td>2.3</td>\n",
       "      <td>3</td>\n",
       "      <td>0</td>\n",
       "      <td>6</td>\n",
       "      <td>0</td>\n",
       "    </tr>\n",
       "    <tr>\n",
       "      <th>1</th>\n",
       "      <td>67</td>\n",
       "      <td>1</td>\n",
       "      <td>4</td>\n",
       "      <td>160</td>\n",
       "      <td>286</td>\n",
       "      <td>0</td>\n",
       "      <td>2</td>\n",
       "      <td>108</td>\n",
       "      <td>1</td>\n",
       "      <td>1.5</td>\n",
       "      <td>2</td>\n",
       "      <td>3</td>\n",
       "      <td>3</td>\n",
       "      <td>2</td>\n",
       "    </tr>\n",
       "    <tr>\n",
       "      <th>2</th>\n",
       "      <td>67</td>\n",
       "      <td>1</td>\n",
       "      <td>4</td>\n",
       "      <td>120</td>\n",
       "      <td>229</td>\n",
       "      <td>0</td>\n",
       "      <td>2</td>\n",
       "      <td>129</td>\n",
       "      <td>1</td>\n",
       "      <td>2.6</td>\n",
       "      <td>2</td>\n",
       "      <td>2</td>\n",
       "      <td>7</td>\n",
       "      <td>1</td>\n",
       "    </tr>\n",
       "    <tr>\n",
       "      <th>3</th>\n",
       "      <td>37</td>\n",
       "      <td>1</td>\n",
       "      <td>3</td>\n",
       "      <td>130</td>\n",
       "      <td>250</td>\n",
       "      <td>0</td>\n",
       "      <td>0</td>\n",
       "      <td>187</td>\n",
       "      <td>0</td>\n",
       "      <td>3.5</td>\n",
       "      <td>3</td>\n",
       "      <td>0</td>\n",
       "      <td>3</td>\n",
       "      <td>0</td>\n",
       "    </tr>\n",
       "    <tr>\n",
       "      <th>4</th>\n",
       "      <td>41</td>\n",
       "      <td>0</td>\n",
       "      <td>2</td>\n",
       "      <td>130</td>\n",
       "      <td>204</td>\n",
       "      <td>0</td>\n",
       "      <td>2</td>\n",
       "      <td>172</td>\n",
       "      <td>0</td>\n",
       "      <td>1.4</td>\n",
       "      <td>1</td>\n",
       "      <td>0</td>\n",
       "      <td>3</td>\n",
       "      <td>0</td>\n",
       "    </tr>\n",
       "    <tr>\n",
       "      <th>...</th>\n",
       "      <td>...</td>\n",
       "      <td>...</td>\n",
       "      <td>...</td>\n",
       "      <td>...</td>\n",
       "      <td>...</td>\n",
       "      <td>...</td>\n",
       "      <td>...</td>\n",
       "      <td>...</td>\n",
       "      <td>...</td>\n",
       "      <td>...</td>\n",
       "      <td>...</td>\n",
       "      <td>...</td>\n",
       "      <td>...</td>\n",
       "      <td>...</td>\n",
       "    </tr>\n",
       "    <tr>\n",
       "      <th>298</th>\n",
       "      <td>45</td>\n",
       "      <td>1</td>\n",
       "      <td>1</td>\n",
       "      <td>110</td>\n",
       "      <td>264</td>\n",
       "      <td>0</td>\n",
       "      <td>0</td>\n",
       "      <td>132</td>\n",
       "      <td>0</td>\n",
       "      <td>1.2</td>\n",
       "      <td>2</td>\n",
       "      <td>0</td>\n",
       "      <td>7</td>\n",
       "      <td>1</td>\n",
       "    </tr>\n",
       "    <tr>\n",
       "      <th>299</th>\n",
       "      <td>68</td>\n",
       "      <td>1</td>\n",
       "      <td>4</td>\n",
       "      <td>144</td>\n",
       "      <td>193</td>\n",
       "      <td>1</td>\n",
       "      <td>0</td>\n",
       "      <td>141</td>\n",
       "      <td>0</td>\n",
       "      <td>3.4</td>\n",
       "      <td>2</td>\n",
       "      <td>2</td>\n",
       "      <td>7</td>\n",
       "      <td>2</td>\n",
       "    </tr>\n",
       "    <tr>\n",
       "      <th>300</th>\n",
       "      <td>57</td>\n",
       "      <td>1</td>\n",
       "      <td>4</td>\n",
       "      <td>130</td>\n",
       "      <td>131</td>\n",
       "      <td>0</td>\n",
       "      <td>0</td>\n",
       "      <td>115</td>\n",
       "      <td>1</td>\n",
       "      <td>1.2</td>\n",
       "      <td>2</td>\n",
       "      <td>1</td>\n",
       "      <td>7</td>\n",
       "      <td>3</td>\n",
       "    </tr>\n",
       "    <tr>\n",
       "      <th>301</th>\n",
       "      <td>57</td>\n",
       "      <td>0</td>\n",
       "      <td>2</td>\n",
       "      <td>130</td>\n",
       "      <td>236</td>\n",
       "      <td>0</td>\n",
       "      <td>2</td>\n",
       "      <td>174</td>\n",
       "      <td>0</td>\n",
       "      <td>0.0</td>\n",
       "      <td>2</td>\n",
       "      <td>1</td>\n",
       "      <td>3</td>\n",
       "      <td>1</td>\n",
       "    </tr>\n",
       "    <tr>\n",
       "      <th>302</th>\n",
       "      <td>38</td>\n",
       "      <td>1</td>\n",
       "      <td>3</td>\n",
       "      <td>138</td>\n",
       "      <td>175</td>\n",
       "      <td>0</td>\n",
       "      <td>0</td>\n",
       "      <td>173</td>\n",
       "      <td>0</td>\n",
       "      <td>0.0</td>\n",
       "      <td>1</td>\n",
       "      <td>0</td>\n",
       "      <td>3</td>\n",
       "      <td>0</td>\n",
       "    </tr>\n",
       "  </tbody>\n",
       "</table>\n",
       "<p>301 rows × 14 columns</p>\n",
       "</div>"
      ],
      "text/plain": [
       "     age  sex  cp  trestbps  chol  fbs  restecg  thalach  exang  oldpeak  \\\n",
       "0     63    1   1       145   233    1        2      150      0      2.3   \n",
       "1     67    1   4       160   286    0        2      108      1      1.5   \n",
       "2     67    1   4       120   229    0        2      129      1      2.6   \n",
       "3     37    1   3       130   250    0        0      187      0      3.5   \n",
       "4     41    0   2       130   204    0        2      172      0      1.4   \n",
       "..   ...  ...  ..       ...   ...  ...      ...      ...    ...      ...   \n",
       "298   45    1   1       110   264    0        0      132      0      1.2   \n",
       "299   68    1   4       144   193    1        0      141      0      3.4   \n",
       "300   57    1   4       130   131    0        0      115      1      1.2   \n",
       "301   57    0   2       130   236    0        2      174      0      0.0   \n",
       "302   38    1   3       138   175    0        0      173      0      0.0   \n",
       "\n",
       "     slope  ca  thal  num  \n",
       "0        3   0     6    0  \n",
       "1        2   3     3    2  \n",
       "2        2   2     7    1  \n",
       "3        3   0     3    0  \n",
       "4        1   0     3    0  \n",
       "..     ...  ..   ...  ...  \n",
       "298      2   0     7    1  \n",
       "299      2   2     7    2  \n",
       "300      2   1     7    3  \n",
       "301      2   1     3    1  \n",
       "302      1   0     3    0  \n",
       "\n",
       "[301 rows x 14 columns]"
      ]
     },
     "execution_count": 15,
     "metadata": {},
     "output_type": "execute_result"
    }
   ],
   "source": [
    "p_cleveland_df"
   ]
  },
  {
   "cell_type": "code",
   "execution_count": 16,
   "id": "03c3e7bb-f678-4e8b-afa7-6785f6bf89ac",
   "metadata": {},
   "outputs": [],
   "source": [
    "#At this point we have 'clean' dataset.\n",
    "#Because 'num' can be 0 - for healthy and other numbers for having presence of a heart disease we can change all the numbers to 1\n",
    "p_cleveland_df.loc[p_cleveland_df['num']!=0, 'num'] = 1"
   ]
  },
  {
   "cell_type": "code",
   "execution_count": 17,
   "id": "4dc6736e-0667-468a-bacc-c989cf8e12ac",
   "metadata": {},
   "outputs": [
    {
     "data": {
      "text/plain": [
       "age          41\n",
       "sex           2\n",
       "cp            4\n",
       "trestbps     50\n",
       "chol        152\n",
       "fbs           2\n",
       "restecg       3\n",
       "thalach      91\n",
       "exang         2\n",
       "oldpeak      40\n",
       "slope         3\n",
       "ca            4\n",
       "thal          3\n",
       "num           2\n",
       "dtype: int64"
      ]
     },
     "execution_count": 17,
     "metadata": {},
     "output_type": "execute_result"
    }
   ],
   "source": [
    "p_cleveland_df.nunique()\n",
    "#Based on the above output we can identify 'age', 'trestbps', 'chol', 'thalach', 'oldpeak' as numeric columns and the rest as categorical\n"
   ]
  },
  {
   "cell_type": "markdown",
   "id": "d0017442-8980-4159-937e-a0c7df51f4ad",
   "metadata": {},
   "source": [
    "__We need to convert categorical variables to String for later one-hot encoding because for numerical variables Dict Vectorizer does not transform - leaves as-is__"
   ]
  },
  {
   "cell_type": "code",
   "execution_count": 18,
   "id": "52ca5f17-10fc-4dec-8f2d-eec12091ba32",
   "metadata": {},
   "outputs": [],
   "source": [
    "categorical_columns = ['sex', 'cp', 'fbs', 'restecg',  'exang',  'slope', 'ca', 'thal']\n",
    "for c in categorical_columns:\n",
    "    p_cleveland_df[c] = p_cleveland_df[c].astype(str)"
   ]
  },
  {
   "cell_type": "code",
   "execution_count": 19,
   "id": "e47020df-fefe-4bc9-b85d-6d38ec71c187",
   "metadata": {},
   "outputs": [
    {
     "data": {
      "text/html": [
       "<div>\n",
       "<style scoped>\n",
       "    .dataframe tbody tr th:only-of-type {\n",
       "        vertical-align: middle;\n",
       "    }\n",
       "\n",
       "    .dataframe tbody tr th {\n",
       "        vertical-align: top;\n",
       "    }\n",
       "\n",
       "    .dataframe thead th {\n",
       "        text-align: right;\n",
       "    }\n",
       "</style>\n",
       "<table border=\"1\" class=\"dataframe\">\n",
       "  <thead>\n",
       "    <tr style=\"text-align: right;\">\n",
       "      <th></th>\n",
       "      <th>0</th>\n",
       "      <th>1</th>\n",
       "      <th>2</th>\n",
       "      <th>3</th>\n",
       "      <th>4</th>\n",
       "    </tr>\n",
       "  </thead>\n",
       "  <tbody>\n",
       "    <tr>\n",
       "      <th>age</th>\n",
       "      <td>63</td>\n",
       "      <td>67</td>\n",
       "      <td>67</td>\n",
       "      <td>37</td>\n",
       "      <td>41</td>\n",
       "    </tr>\n",
       "    <tr>\n",
       "      <th>sex</th>\n",
       "      <td>1</td>\n",
       "      <td>1</td>\n",
       "      <td>1</td>\n",
       "      <td>1</td>\n",
       "      <td>0</td>\n",
       "    </tr>\n",
       "    <tr>\n",
       "      <th>cp</th>\n",
       "      <td>1</td>\n",
       "      <td>4</td>\n",
       "      <td>4</td>\n",
       "      <td>3</td>\n",
       "      <td>2</td>\n",
       "    </tr>\n",
       "    <tr>\n",
       "      <th>trestbps</th>\n",
       "      <td>145</td>\n",
       "      <td>160</td>\n",
       "      <td>120</td>\n",
       "      <td>130</td>\n",
       "      <td>130</td>\n",
       "    </tr>\n",
       "    <tr>\n",
       "      <th>chol</th>\n",
       "      <td>233</td>\n",
       "      <td>286</td>\n",
       "      <td>229</td>\n",
       "      <td>250</td>\n",
       "      <td>204</td>\n",
       "    </tr>\n",
       "    <tr>\n",
       "      <th>fbs</th>\n",
       "      <td>1</td>\n",
       "      <td>0</td>\n",
       "      <td>0</td>\n",
       "      <td>0</td>\n",
       "      <td>0</td>\n",
       "    </tr>\n",
       "    <tr>\n",
       "      <th>restecg</th>\n",
       "      <td>2</td>\n",
       "      <td>2</td>\n",
       "      <td>2</td>\n",
       "      <td>0</td>\n",
       "      <td>2</td>\n",
       "    </tr>\n",
       "    <tr>\n",
       "      <th>thalach</th>\n",
       "      <td>150</td>\n",
       "      <td>108</td>\n",
       "      <td>129</td>\n",
       "      <td>187</td>\n",
       "      <td>172</td>\n",
       "    </tr>\n",
       "    <tr>\n",
       "      <th>exang</th>\n",
       "      <td>0</td>\n",
       "      <td>1</td>\n",
       "      <td>1</td>\n",
       "      <td>0</td>\n",
       "      <td>0</td>\n",
       "    </tr>\n",
       "    <tr>\n",
       "      <th>oldpeak</th>\n",
       "      <td>2.3</td>\n",
       "      <td>1.5</td>\n",
       "      <td>2.6</td>\n",
       "      <td>3.5</td>\n",
       "      <td>1.4</td>\n",
       "    </tr>\n",
       "    <tr>\n",
       "      <th>slope</th>\n",
       "      <td>3</td>\n",
       "      <td>2</td>\n",
       "      <td>2</td>\n",
       "      <td>3</td>\n",
       "      <td>1</td>\n",
       "    </tr>\n",
       "    <tr>\n",
       "      <th>ca</th>\n",
       "      <td>0</td>\n",
       "      <td>3</td>\n",
       "      <td>2</td>\n",
       "      <td>0</td>\n",
       "      <td>0</td>\n",
       "    </tr>\n",
       "    <tr>\n",
       "      <th>thal</th>\n",
       "      <td>6</td>\n",
       "      <td>3</td>\n",
       "      <td>7</td>\n",
       "      <td>3</td>\n",
       "      <td>3</td>\n",
       "    </tr>\n",
       "    <tr>\n",
       "      <th>num</th>\n",
       "      <td>0</td>\n",
       "      <td>1</td>\n",
       "      <td>1</td>\n",
       "      <td>0</td>\n",
       "      <td>0</td>\n",
       "    </tr>\n",
       "  </tbody>\n",
       "</table>\n",
       "</div>"
      ],
      "text/plain": [
       "            0    1    2    3    4\n",
       "age        63   67   67   37   41\n",
       "sex         1    1    1    1    0\n",
       "cp          1    4    4    3    2\n",
       "trestbps  145  160  120  130  130\n",
       "chol      233  286  229  250  204\n",
       "fbs         1    0    0    0    0\n",
       "restecg     2    2    2    0    2\n",
       "thalach   150  108  129  187  172\n",
       "exang       0    1    1    0    0\n",
       "oldpeak   2.3  1.5  2.6  3.5  1.4\n",
       "slope       3    2    2    3    1\n",
       "ca          0    3    2    0    0\n",
       "thal        6    3    7    3    3\n",
       "num         0    1    1    0    0"
      ]
     },
     "execution_count": 19,
     "metadata": {},
     "output_type": "execute_result"
    }
   ],
   "source": [
    "p_cleveland_df.head().T"
   ]
  },
  {
   "cell_type": "code",
   "execution_count": 20,
   "id": "9ce8d6d0-49e1-4f28-bcb8-12c8b9c49df2",
   "metadata": {},
   "outputs": [],
   "source": [
    "from sklearn.model_selection import train_test_split"
   ]
  },
  {
   "cell_type": "code",
   "execution_count": 21,
   "id": "203e2f47-5fb7-497e-af63-f4022456f2e2",
   "metadata": {},
   "outputs": [],
   "source": [
    "df_full_train, df_test = train_test_split(p_cleveland_df, test_size = 0.2, random_state=1)\n",
    "df_train, df_val = train_test_split(df_full_train, test_size = 0.25, random_state=1)"
   ]
  },
  {
   "cell_type": "code",
   "execution_count": 22,
   "id": "733e4269-ac08-4d37-b10f-1fa762fe11e1",
   "metadata": {},
   "outputs": [],
   "source": [
    "df_train.reset_index(drop=True, inplace=True)\n",
    "df_val.reset_index(drop=True, inplace=True)\n",
    "df_test.reset_index(drop=True, inplace=True)"
   ]
  },
  {
   "cell_type": "code",
   "execution_count": 23,
   "id": "24715de8-31d1-4899-9256-403463f04fd9",
   "metadata": {},
   "outputs": [],
   "source": [
    "y_train = df_train.num.values\n",
    "y_val = df_val.num.values\n",
    "y_test = df_test.num.values"
   ]
  },
  {
   "cell_type": "code",
   "execution_count": 24,
   "id": "dd98decc-1493-4b5f-bc13-39a8a0d1cb13",
   "metadata": {},
   "outputs": [],
   "source": [
    "del df_train['num']\n",
    "del df_val['num']\n",
    "del df_test['num']"
   ]
  },
  {
   "cell_type": "markdown",
   "id": "eae1b3dd-2c0b-4bfd-b186-15bbd2e60d2e",
   "metadata": {},
   "source": [
    "## EDA (Exploratory Data Analysis)"
   ]
  },
  {
   "cell_type": "code",
   "execution_count": 25,
   "id": "4abf6fa3-3932-4936-b331-c004c1b1b1b1",
   "metadata": {},
   "outputs": [],
   "source": [
    "df_full_train = df_full_train.reset_index(drop=True)\n"
   ]
  },
  {
   "cell_type": "code",
   "execution_count": 26,
   "id": "1a7df5c8-7739-4d05-9ef9-47d122825adb",
   "metadata": {},
   "outputs": [
    {
     "data": {
      "text/plain": [
       "num\n",
       "0    0.529167\n",
       "1    0.470833\n",
       "Name: proportion, dtype: float64"
      ]
     },
     "execution_count": 26,
     "metadata": {},
     "output_type": "execute_result"
    }
   ],
   "source": [
    "df_full_train.num.value_counts(normalize=True)"
   ]
  },
  {
   "cell_type": "code",
   "execution_count": 27,
   "id": "29d3446c-b75f-4a49-8d88-ddc5aa598ce7",
   "metadata": {},
   "outputs": [],
   "source": [
    "#in our train dataset 47% of the patients have been diagnosed with heart disease (heart disease rate)"
   ]
  },
  {
   "cell_type": "code",
   "execution_count": 28,
   "id": "631d3813-feab-440d-b786-4bf834db1019",
   "metadata": {},
   "outputs": [
    {
     "data": {
      "text/plain": [
       "np.float64(0.47)"
      ]
     },
     "execution_count": 28,
     "metadata": {},
     "output_type": "execute_result"
    }
   ],
   "source": [
    "global_heart_disease_rate = df_full_train.num.mean()\n",
    "round(global_heart_disease_rate, 2)"
   ]
  },
  {
   "cell_type": "code",
   "execution_count": 29,
   "id": "764854fa-d041-4fde-a77b-fa7c061bc14e",
   "metadata": {},
   "outputs": [],
   "source": [
    "# the reason mean gives churn rate is b/c in binary viarable is xi is 0 or 1 the sum of ones gives mean"
   ]
  },
  {
   "cell_type": "markdown",
   "id": "bd1e4ef6-100e-4f16-8bbe-41818f908a84",
   "metadata": {},
   "source": [
    "**Mean** \n",
    "$$M=1/n\\sum_{i=1}^n x_i$$"
   ]
  },
  {
   "cell_type": "code",
   "execution_count": 30,
   "id": "4965df81-f7a1-4b23-858f-05b634454ed2",
   "metadata": {},
   "outputs": [
    {
     "data": {
      "text/plain": [
       "age           int64\n",
       "sex          object\n",
       "cp           object\n",
       "trestbps      int64\n",
       "chol          int64\n",
       "fbs          object\n",
       "restecg      object\n",
       "thalach       int64\n",
       "exang        object\n",
       "oldpeak     float64\n",
       "slope        object\n",
       "ca           object\n",
       "thal         object\n",
       "num           int64\n",
       "dtype: object"
      ]
     },
     "execution_count": 30,
     "metadata": {},
     "output_type": "execute_result"
    }
   ],
   "source": [
    "df_full_train.dtypes"
   ]
  },
  {
   "cell_type": "markdown",
   "id": "1842a148-67f3-482d-9541-bfcbf7dd3eaf",
   "metadata": {},
   "source": [
    "## Columns "
   ]
  },
  {
   "cell_type": "code",
   "execution_count": 31,
   "id": "ec8b6beb-f0e1-4c4a-a827-2d54b8f9cfb4",
   "metadata": {},
   "outputs": [],
   "source": [
    "categorical_columns = ['sex', 'cp', 'fbs', 'restecg',  'exang',  'slope', 'ca', 'thal']\n",
    "numeric_columns = ['age', 'trestbps', 'chol', 'thalach','oldpeak']"
   ]
  },
  {
   "cell_type": "markdown",
   "id": "58f4f778-dd1a-4554-89ef-89c89818bbd4",
   "metadata": {},
   "source": [
    "## Heart Disease Rate and Risk Factor"
   ]
  },
  {
   "cell_type": "code",
   "execution_count": 32,
   "id": "8bb8e3b0-f581-4aed-9771-c059b4aa5058",
   "metadata": {},
   "outputs": [
    {
     "name": "stdout",
     "output_type": "stream",
     "text": [
      "heart_disease_in_males=nan \n",
      "heart_disease_in_females=nan\n",
      "global_heart_disease_rate=np.float64(0.4708333333333333)\n"
     ]
    }
   ],
   "source": [
    "# sex (1 = male; 0 = female)\n",
    "heart_disease_in_males = df_full_train[df_full_train.sex == 1].num.mean()\n",
    "heart_disease_in_females = df_full_train[df_full_train.sex == 0].num.mean()\n",
    "print(f\"{heart_disease_in_males=} \\n{heart_disease_in_females=}\")\n",
    "print(f\"{global_heart_disease_rate=}\")"
   ]
  },
  {
   "cell_type": "code",
   "execution_count": 33,
   "id": "cc1db959-0717-41ae-bef3-c19aafcd23e5",
   "metadata": {
    "scrolled": true
   },
   "outputs": [
    {
     "name": "stdout",
     "output_type": "stream",
     "text": [
      "            Gender            \n"
     ]
    },
    {
     "data": {
      "text/html": [
       "<div>\n",
       "<style scoped>\n",
       "    .dataframe tbody tr th:only-of-type {\n",
       "        vertical-align: middle;\n",
       "    }\n",
       "\n",
       "    .dataframe tbody tr th {\n",
       "        vertical-align: top;\n",
       "    }\n",
       "\n",
       "    .dataframe thead th {\n",
       "        text-align: right;\n",
       "    }\n",
       "</style>\n",
       "<table border=\"1\" class=\"dataframe\">\n",
       "  <thead>\n",
       "    <tr style=\"text-align: right;\">\n",
       "      <th></th>\n",
       "      <th>mean</th>\n",
       "      <th>count</th>\n",
       "      <th>diff</th>\n",
       "      <th>risk</th>\n",
       "    </tr>\n",
       "    <tr>\n",
       "      <th>sex</th>\n",
       "      <th></th>\n",
       "      <th></th>\n",
       "      <th></th>\n",
       "      <th></th>\n",
       "    </tr>\n",
       "  </thead>\n",
       "  <tbody>\n",
       "    <tr>\n",
       "      <th>0</th>\n",
       "      <td>0.269231</td>\n",
       "      <td>78</td>\n",
       "      <td>-0.201603</td>\n",
       "      <td>0.571818</td>\n",
       "    </tr>\n",
       "    <tr>\n",
       "      <th>1</th>\n",
       "      <td>0.567901</td>\n",
       "      <td>162</td>\n",
       "      <td>0.097068</td>\n",
       "      <td>1.206162</td>\n",
       "    </tr>\n",
       "  </tbody>\n",
       "</table>\n",
       "</div>"
      ],
      "text/plain": [
       "         mean  count      diff      risk\n",
       "sex                                     \n",
       "0    0.269231     78 -0.201603  0.571818\n",
       "1    0.567901    162  0.097068  1.206162"
      ]
     },
     "metadata": {},
     "output_type": "display_data"
    },
    {
     "name": "stdout",
     "output_type": "stream",
     "text": [
      "\n",
      "\n",
      "          Chest Pain          \n"
     ]
    },
    {
     "data": {
      "text/html": [
       "<div>\n",
       "<style scoped>\n",
       "    .dataframe tbody tr th:only-of-type {\n",
       "        vertical-align: middle;\n",
       "    }\n",
       "\n",
       "    .dataframe tbody tr th {\n",
       "        vertical-align: top;\n",
       "    }\n",
       "\n",
       "    .dataframe thead th {\n",
       "        text-align: right;\n",
       "    }\n",
       "</style>\n",
       "<table border=\"1\" class=\"dataframe\">\n",
       "  <thead>\n",
       "    <tr style=\"text-align: right;\">\n",
       "      <th></th>\n",
       "      <th>mean</th>\n",
       "      <th>count</th>\n",
       "      <th>diff</th>\n",
       "      <th>risk</th>\n",
       "    </tr>\n",
       "    <tr>\n",
       "      <th>cp</th>\n",
       "      <th></th>\n",
       "      <th></th>\n",
       "      <th></th>\n",
       "      <th></th>\n",
       "    </tr>\n",
       "  </thead>\n",
       "  <tbody>\n",
       "    <tr>\n",
       "      <th>1</th>\n",
       "      <td>0.368421</td>\n",
       "      <td>19</td>\n",
       "      <td>-0.102412</td>\n",
       "      <td>0.782487</td>\n",
       "    </tr>\n",
       "    <tr>\n",
       "      <th>2</th>\n",
       "      <td>0.189189</td>\n",
       "      <td>37</td>\n",
       "      <td>-0.281644</td>\n",
       "      <td>0.401818</td>\n",
       "    </tr>\n",
       "    <tr>\n",
       "      <th>3</th>\n",
       "      <td>0.231884</td>\n",
       "      <td>69</td>\n",
       "      <td>-0.238949</td>\n",
       "      <td>0.492497</td>\n",
       "    </tr>\n",
       "    <tr>\n",
       "      <th>4</th>\n",
       "      <td>0.721739</td>\n",
       "      <td>115</td>\n",
       "      <td>0.250906</td>\n",
       "      <td>1.532897</td>\n",
       "    </tr>\n",
       "  </tbody>\n",
       "</table>\n",
       "</div>"
      ],
      "text/plain": [
       "        mean  count      diff      risk\n",
       "cp                                     \n",
       "1   0.368421     19 -0.102412  0.782487\n",
       "2   0.189189     37 -0.281644  0.401818\n",
       "3   0.231884     69 -0.238949  0.492497\n",
       "4   0.721739    115  0.250906  1.532897"
      ]
     },
     "metadata": {},
     "output_type": "display_data"
    },
    {
     "name": "stdout",
     "output_type": "stream",
     "text": [
      "\n",
      "\n",
      "     Fasting blood sugar      \n"
     ]
    },
    {
     "data": {
      "text/html": [
       "<div>\n",
       "<style scoped>\n",
       "    .dataframe tbody tr th:only-of-type {\n",
       "        vertical-align: middle;\n",
       "    }\n",
       "\n",
       "    .dataframe tbody tr th {\n",
       "        vertical-align: top;\n",
       "    }\n",
       "\n",
       "    .dataframe thead th {\n",
       "        text-align: right;\n",
       "    }\n",
       "</style>\n",
       "<table border=\"1\" class=\"dataframe\">\n",
       "  <thead>\n",
       "    <tr style=\"text-align: right;\">\n",
       "      <th></th>\n",
       "      <th>mean</th>\n",
       "      <th>count</th>\n",
       "      <th>diff</th>\n",
       "      <th>risk</th>\n",
       "    </tr>\n",
       "    <tr>\n",
       "      <th>fbs</th>\n",
       "      <th></th>\n",
       "      <th></th>\n",
       "      <th></th>\n",
       "      <th></th>\n",
       "    </tr>\n",
       "  </thead>\n",
       "  <tbody>\n",
       "    <tr>\n",
       "      <th>0</th>\n",
       "      <td>0.480392</td>\n",
       "      <td>204</td>\n",
       "      <td>0.009559</td>\n",
       "      <td>1.020302</td>\n",
       "    </tr>\n",
       "    <tr>\n",
       "      <th>1</th>\n",
       "      <td>0.416667</td>\n",
       "      <td>36</td>\n",
       "      <td>-0.054167</td>\n",
       "      <td>0.884956</td>\n",
       "    </tr>\n",
       "  </tbody>\n",
       "</table>\n",
       "</div>"
      ],
      "text/plain": [
       "         mean  count      diff      risk\n",
       "fbs                                     \n",
       "0    0.480392    204  0.009559  1.020302\n",
       "1    0.416667     36 -0.054167  0.884956"
      ]
     },
     "metadata": {},
     "output_type": "display_data"
    },
    {
     "name": "stdout",
     "output_type": "stream",
     "text": [
      "\n",
      "\n",
      "Resting electrocardiographic results\n"
     ]
    },
    {
     "data": {
      "text/html": [
       "<div>\n",
       "<style scoped>\n",
       "    .dataframe tbody tr th:only-of-type {\n",
       "        vertical-align: middle;\n",
       "    }\n",
       "\n",
       "    .dataframe tbody tr th {\n",
       "        vertical-align: top;\n",
       "    }\n",
       "\n",
       "    .dataframe thead th {\n",
       "        text-align: right;\n",
       "    }\n",
       "</style>\n",
       "<table border=\"1\" class=\"dataframe\">\n",
       "  <thead>\n",
       "    <tr style=\"text-align: right;\">\n",
       "      <th></th>\n",
       "      <th>mean</th>\n",
       "      <th>count</th>\n",
       "      <th>diff</th>\n",
       "      <th>risk</th>\n",
       "    </tr>\n",
       "    <tr>\n",
       "      <th>restecg</th>\n",
       "      <th></th>\n",
       "      <th></th>\n",
       "      <th></th>\n",
       "      <th></th>\n",
       "    </tr>\n",
       "  </thead>\n",
       "  <tbody>\n",
       "    <tr>\n",
       "      <th>0</th>\n",
       "      <td>0.377049</td>\n",
       "      <td>122</td>\n",
       "      <td>-0.093784</td>\n",
       "      <td>0.800812</td>\n",
       "    </tr>\n",
       "    <tr>\n",
       "      <th>1</th>\n",
       "      <td>1.000000</td>\n",
       "      <td>2</td>\n",
       "      <td>0.529167</td>\n",
       "      <td>2.123894</td>\n",
       "    </tr>\n",
       "    <tr>\n",
       "      <th>2</th>\n",
       "      <td>0.560345</td>\n",
       "      <td>116</td>\n",
       "      <td>0.089511</td>\n",
       "      <td>1.190113</td>\n",
       "    </tr>\n",
       "  </tbody>\n",
       "</table>\n",
       "</div>"
      ],
      "text/plain": [
       "             mean  count      diff      risk\n",
       "restecg                                     \n",
       "0        0.377049    122 -0.093784  0.800812\n",
       "1        1.000000      2  0.529167  2.123894\n",
       "2        0.560345    116  0.089511  1.190113"
      ]
     },
     "metadata": {},
     "output_type": "display_data"
    },
    {
     "name": "stdout",
     "output_type": "stream",
     "text": [
      "\n",
      "\n",
      "Exercise induced angina (1 = yes; 0 = no)\n"
     ]
    },
    {
     "data": {
      "text/html": [
       "<div>\n",
       "<style scoped>\n",
       "    .dataframe tbody tr th:only-of-type {\n",
       "        vertical-align: middle;\n",
       "    }\n",
       "\n",
       "    .dataframe tbody tr th {\n",
       "        vertical-align: top;\n",
       "    }\n",
       "\n",
       "    .dataframe thead th {\n",
       "        text-align: right;\n",
       "    }\n",
       "</style>\n",
       "<table border=\"1\" class=\"dataframe\">\n",
       "  <thead>\n",
       "    <tr style=\"text-align: right;\">\n",
       "      <th></th>\n",
       "      <th>mean</th>\n",
       "      <th>count</th>\n",
       "      <th>diff</th>\n",
       "      <th>risk</th>\n",
       "    </tr>\n",
       "    <tr>\n",
       "      <th>exang</th>\n",
       "      <th></th>\n",
       "      <th></th>\n",
       "      <th></th>\n",
       "      <th></th>\n",
       "    </tr>\n",
       "  </thead>\n",
       "  <tbody>\n",
       "    <tr>\n",
       "      <th>0</th>\n",
       "      <td>0.327044</td>\n",
       "      <td>159</td>\n",
       "      <td>-0.143789</td>\n",
       "      <td>0.694607</td>\n",
       "    </tr>\n",
       "    <tr>\n",
       "      <th>1</th>\n",
       "      <td>0.753086</td>\n",
       "      <td>81</td>\n",
       "      <td>0.282253</td>\n",
       "      <td>1.599476</td>\n",
       "    </tr>\n",
       "  </tbody>\n",
       "</table>\n",
       "</div>"
      ],
      "text/plain": [
       "           mean  count      diff      risk\n",
       "exang                                     \n",
       "0      0.327044    159 -0.143789  0.694607\n",
       "1      0.753086     81  0.282253  1.599476"
      ]
     },
     "metadata": {},
     "output_type": "display_data"
    },
    {
     "name": "stdout",
     "output_type": "stream",
     "text": [
      "\n",
      "\n",
      "The slope of the peak exercise ST segment\n"
     ]
    },
    {
     "data": {
      "text/html": [
       "<div>\n",
       "<style scoped>\n",
       "    .dataframe tbody tr th:only-of-type {\n",
       "        vertical-align: middle;\n",
       "    }\n",
       "\n",
       "    .dataframe tbody tr th {\n",
       "        vertical-align: top;\n",
       "    }\n",
       "\n",
       "    .dataframe thead th {\n",
       "        text-align: right;\n",
       "    }\n",
       "</style>\n",
       "<table border=\"1\" class=\"dataframe\">\n",
       "  <thead>\n",
       "    <tr style=\"text-align: right;\">\n",
       "      <th></th>\n",
       "      <th>mean</th>\n",
       "      <th>count</th>\n",
       "      <th>diff</th>\n",
       "      <th>risk</th>\n",
       "    </tr>\n",
       "    <tr>\n",
       "      <th>slope</th>\n",
       "      <th></th>\n",
       "      <th></th>\n",
       "      <th></th>\n",
       "      <th></th>\n",
       "    </tr>\n",
       "  </thead>\n",
       "  <tbody>\n",
       "    <tr>\n",
       "      <th>1</th>\n",
       "      <td>0.280702</td>\n",
       "      <td>114</td>\n",
       "      <td>-0.190132</td>\n",
       "      <td>0.596181</td>\n",
       "    </tr>\n",
       "    <tr>\n",
       "      <th>2</th>\n",
       "      <td>0.636364</td>\n",
       "      <td>110</td>\n",
       "      <td>0.165530</td>\n",
       "      <td>1.351569</td>\n",
       "    </tr>\n",
       "    <tr>\n",
       "      <th>3</th>\n",
       "      <td>0.687500</td>\n",
       "      <td>16</td>\n",
       "      <td>0.216667</td>\n",
       "      <td>1.460177</td>\n",
       "    </tr>\n",
       "  </tbody>\n",
       "</table>\n",
       "</div>"
      ],
      "text/plain": [
       "           mean  count      diff      risk\n",
       "slope                                     \n",
       "1      0.280702    114 -0.190132  0.596181\n",
       "2      0.636364    110  0.165530  1.351569\n",
       "3      0.687500     16  0.216667  1.460177"
      ]
     },
     "metadata": {},
     "output_type": "display_data"
    },
    {
     "name": "stdout",
     "output_type": "stream",
     "text": [
      "\n",
      "\n",
      "Number of major vessels (0-3) colored by flourosopy\n"
     ]
    },
    {
     "data": {
      "text/html": [
       "<div>\n",
       "<style scoped>\n",
       "    .dataframe tbody tr th:only-of-type {\n",
       "        vertical-align: middle;\n",
       "    }\n",
       "\n",
       "    .dataframe tbody tr th {\n",
       "        vertical-align: top;\n",
       "    }\n",
       "\n",
       "    .dataframe thead th {\n",
       "        text-align: right;\n",
       "    }\n",
       "</style>\n",
       "<table border=\"1\" class=\"dataframe\">\n",
       "  <thead>\n",
       "    <tr style=\"text-align: right;\">\n",
       "      <th></th>\n",
       "      <th>mean</th>\n",
       "      <th>count</th>\n",
       "      <th>diff</th>\n",
       "      <th>risk</th>\n",
       "    </tr>\n",
       "    <tr>\n",
       "      <th>ca</th>\n",
       "      <th></th>\n",
       "      <th></th>\n",
       "      <th></th>\n",
       "      <th></th>\n",
       "    </tr>\n",
       "  </thead>\n",
       "  <tbody>\n",
       "    <tr>\n",
       "      <th>0</th>\n",
       "      <td>0.283688</td>\n",
       "      <td>141</td>\n",
       "      <td>-0.187145</td>\n",
       "      <td>0.602523</td>\n",
       "    </tr>\n",
       "    <tr>\n",
       "      <th>1</th>\n",
       "      <td>0.685185</td>\n",
       "      <td>54</td>\n",
       "      <td>0.214352</td>\n",
       "      <td>1.455261</td>\n",
       "    </tr>\n",
       "    <tr>\n",
       "      <th>2</th>\n",
       "      <td>0.806452</td>\n",
       "      <td>31</td>\n",
       "      <td>0.335618</td>\n",
       "      <td>1.712818</td>\n",
       "    </tr>\n",
       "    <tr>\n",
       "      <th>3</th>\n",
       "      <td>0.785714</td>\n",
       "      <td>14</td>\n",
       "      <td>0.314881</td>\n",
       "      <td>1.668774</td>\n",
       "    </tr>\n",
       "  </tbody>\n",
       "</table>\n",
       "</div>"
      ],
      "text/plain": [
       "        mean  count      diff      risk\n",
       "ca                                     \n",
       "0   0.283688    141 -0.187145  0.602523\n",
       "1   0.685185     54  0.214352  1.455261\n",
       "2   0.806452     31  0.335618  1.712818\n",
       "3   0.785714     14  0.314881  1.668774"
      ]
     },
     "metadata": {},
     "output_type": "display_data"
    },
    {
     "name": "stdout",
     "output_type": "stream",
     "text": [
      "\n",
      "\n",
      "3 = normal; 6 = fixed defect; 7 = reversable defect (A blood disorder called thalassemia)\n"
     ]
    },
    {
     "data": {
      "text/html": [
       "<div>\n",
       "<style scoped>\n",
       "    .dataframe tbody tr th:only-of-type {\n",
       "        vertical-align: middle;\n",
       "    }\n",
       "\n",
       "    .dataframe tbody tr th {\n",
       "        vertical-align: top;\n",
       "    }\n",
       "\n",
       "    .dataframe thead th {\n",
       "        text-align: right;\n",
       "    }\n",
       "</style>\n",
       "<table border=\"1\" class=\"dataframe\">\n",
       "  <thead>\n",
       "    <tr style=\"text-align: right;\">\n",
       "      <th></th>\n",
       "      <th>mean</th>\n",
       "      <th>count</th>\n",
       "      <th>diff</th>\n",
       "      <th>risk</th>\n",
       "    </tr>\n",
       "    <tr>\n",
       "      <th>thal</th>\n",
       "      <th></th>\n",
       "      <th></th>\n",
       "      <th></th>\n",
       "      <th></th>\n",
       "    </tr>\n",
       "  </thead>\n",
       "  <tbody>\n",
       "    <tr>\n",
       "      <th>3</th>\n",
       "      <td>0.248120</td>\n",
       "      <td>133</td>\n",
       "      <td>-0.222713</td>\n",
       "      <td>0.526981</td>\n",
       "    </tr>\n",
       "    <tr>\n",
       "      <th>6</th>\n",
       "      <td>0.583333</td>\n",
       "      <td>12</td>\n",
       "      <td>0.112500</td>\n",
       "      <td>1.238938</td>\n",
       "    </tr>\n",
       "    <tr>\n",
       "      <th>7</th>\n",
       "      <td>0.768421</td>\n",
       "      <td>95</td>\n",
       "      <td>0.297588</td>\n",
       "      <td>1.632045</td>\n",
       "    </tr>\n",
       "  </tbody>\n",
       "</table>\n",
       "</div>"
      ],
      "text/plain": [
       "          mean  count      diff      risk\n",
       "thal                                     \n",
       "3     0.248120    133 -0.222713  0.526981\n",
       "6     0.583333     12  0.112500  1.238938\n",
       "7     0.768421     95  0.297588  1.632045"
      ]
     },
     "metadata": {},
     "output_type": "display_data"
    },
    {
     "name": "stdout",
     "output_type": "stream",
     "text": [
      "\n",
      "\n"
     ]
    }
   ],
   "source": [
    "for c in categorical_columns:\n",
    "    print(f\"{column_meanings[c].center(30)}\")\n",
    "    df_group = df_full_train.groupby(c).num.agg(['mean', 'count'])\n",
    "    df_group['diff'] = df_group['mean'] - global_heart_disease_rate\n",
    "    df_group['risk'] = df_group['mean'] / global_heart_disease_rate\n",
    "    display(df_group)\n",
    "    print()\n",
    "    print()"
   ]
  },
  {
   "cell_type": "markdown",
   "id": "c4e797dd-cdec-4fd1-bc1a-f4efda5737a1",
   "metadata": {},
   "source": [
    "### Conclusion\n",
    "\n",
    "1. Males (1) are more likely to be diagnosed with heart disease than females\n",
    "2. Asymptomatic chest pain leads to heart disease than other types of chest pain\n",
    "3. Higher fasting blood sugar leads to heart disease, but not sugnificantly\n",
    "4. Patinet with resting electrocardiographic results (Value 1:) having ST-T wave abnormality (T wave inversions and/or ST elevation or depression of > 0.05 mV) are at sugnificant risk to be diagnosed\n",
    "5. Exercise induced angina if identified (1) has a higher risk of being diagnosed with heart disease\n",
    "6. The slope of the peak exercise ST segment when flat (2) is at moderat risk of being diagnosed\n",
    "7. When number of major vessels (0-3) colored by flourosopy is higher - the risk is higher than none (0). NOTE: this column had 4 values missing and replaced with 0, which may lead to a skewed results.\n",
    "8. Higher risk of having a diagnosis for patients with a thalassemia - a presence of a disorder (values other than 3)."
   ]
  },
  {
   "cell_type": "markdown",
   "id": "88b544d7-459f-4f1d-814e-d919c1963382",
   "metadata": {},
   "source": [
    "## Mutual information as a measure of relative importance of categorical variables"
   ]
  },
  {
   "cell_type": "code",
   "execution_count": 34,
   "id": "d9750a6a-7833-4033-865b-33e8cecd543c",
   "metadata": {},
   "outputs": [],
   "source": [
    "from sklearn.metrics import mutual_info_score"
   ]
  },
  {
   "cell_type": "code",
   "execution_count": 35,
   "id": "3600da88-e07f-42ec-8f9e-c62f14784d29",
   "metadata": {},
   "outputs": [],
   "source": [
    "def mutual_info_heart_disease_score(series):\n",
    "    return mutual_info_score(series, df_full_train.num)"
   ]
  },
  {
   "cell_type": "code",
   "execution_count": 36,
   "id": "9bce89d0-4594-4058-988e-99535f535f41",
   "metadata": {},
   "outputs": [
    {
     "data": {
      "text/plain": [
       "thal       0.132791\n",
       "cp         0.125540\n",
       "ca         0.107134\n",
       "exang      0.084066\n",
       "slope      0.067643\n",
       "sex        0.040504\n",
       "restecg    0.023130\n",
       "fbs        0.001044\n",
       "dtype: float64"
      ]
     },
     "execution_count": 36,
     "metadata": {},
     "output_type": "execute_result"
    }
   ],
   "source": [
    "mi = df_full_train[categorical_columns].apply(mutual_info_heart_disease_score)\n",
    "mi.sort_values(ascending=False)"
   ]
  },
  {
   "cell_type": "markdown",
   "id": "34082f3b-47c8-43e7-921a-4eb258b3ef31",
   "metadata": {},
   "source": [
    "### Conclusion\n",
    "Relative important columns to being diagnosed with a heart disease is blood disorder (thal), chst pain (cp) and number vessels colored on flouroscopy. The least important feature is fasting blood sugar (fbs)"
   ]
  },
  {
   "cell_type": "markdown",
   "id": "7a30ba90-319b-4c7f-9a7b-f99f24135848",
   "metadata": {},
   "source": [
    "## Correlation (Pearson correlation)\n",
    "\n",
    "Correlation coefficient - way to measure degrees of dependencies betwee two variables\n",
    "\n",
    "$$-1 <= r <= 1$$\n",
    "\n",
    "0.0 to -0.1 - no correlation\n",
    "0.0 to 0.1 - no correlation\n",
    "\n",
    "0.2 to 0.5 - moderate correlation\n",
    "\n",
    "0.6 to 1 - strong\n",
    "\n",
    "$$y \\exists \\{0,1\\}, x \\exists \\mathbb{R}$$"
   ]
  },
  {
   "cell_type": "code",
   "execution_count": 37,
   "id": "ef23ed94-4dd7-4dc0-b674-a1258dfa5c39",
   "metadata": {},
   "outputs": [
    {
     "data": {
      "text/plain": [
       "age         0.231747\n",
       "trestbps    0.147038\n",
       "chol        0.087461\n",
       "thalach    -0.438380\n",
       "oldpeak     0.437680\n",
       "dtype: float64"
      ]
     },
     "execution_count": 37,
     "metadata": {},
     "output_type": "execute_result"
    }
   ],
   "source": [
    "df_full_train[numeric_columns].corrwith(df_full_train.num)"
   ]
  },
  {
   "cell_type": "markdown",
   "id": "357f52e4-0dad-4a72-a663-fa9b71aee958",
   "metadata": {},
   "source": [
    "### Conclusion\n",
    "\n",
    "Maximum heart rate achieved (thalach) has negative correlation to being diagnosed with a heart disease: the higher the rate - the less chance to be diagnosed.\n",
    "The higher the ST depression induced by exercise relative to rest (oldpeak) the higher the risk of being diagnosed.\n",
    "Age has moderate correlation to being diagnosed.\n",
    "Cholesterold has the least correlation to heart disease diagnosis.\n",
    "\n"
   ]
  },
  {
   "cell_type": "markdown",
   "id": "f30886c9-64d7-4758-81ae-d9b818438719",
   "metadata": {},
   "source": [
    "## One-hot encoding (of categorical variables)"
   ]
  },
  {
   "cell_type": "code",
   "execution_count": 38,
   "id": "797c1f9f-b326-4b86-8025-59c0a1e5a2fc",
   "metadata": {},
   "outputs": [],
   "source": [
    "from sklearn.feature_extraction import DictVectorizer"
   ]
  },
  {
   "cell_type": "code",
   "execution_count": 39,
   "id": "7f5c9af0-cec7-4ed2-8b65-388ca3d656bd",
   "metadata": {},
   "outputs": [],
   "source": [
    "dv = DictVectorizer(sparse=False)"
   ]
  },
  {
   "cell_type": "code",
   "execution_count": 40,
   "id": "cec97e5f-2a48-416b-9132-3b05e7de7732",
   "metadata": {},
   "outputs": [],
   "source": [
    "train_dicts=df_train[categorical_columns + numeric_columns].to_dict(orient='records')"
   ]
  },
  {
   "cell_type": "code",
   "execution_count": 41,
   "id": "5215e74b-8971-4c47-af10-a4de41a1f7bc",
   "metadata": {},
   "outputs": [],
   "source": [
    "dv = DictVectorizer(sparse=False)\n",
    "X_train = dv.fit_transform(train_dicts)"
   ]
  },
  {
   "cell_type": "code",
   "execution_count": 42,
   "id": "6a9dd074-b6ed-44a4-88d6-d60490948d8e",
   "metadata": {},
   "outputs": [
    {
     "data": {
      "text/plain": [
       "array(['age', 'ca=0', 'ca=1', 'ca=2', 'ca=3', 'chol', 'cp=1', 'cp=2',\n",
       "       'cp=3', 'cp=4', 'exang=0', 'exang=1', 'fbs=0', 'fbs=1', 'oldpeak',\n",
       "       'restecg=0', 'restecg=1', 'restecg=2', 'sex=0', 'sex=1', 'slope=1',\n",
       "       'slope=2', 'slope=3', 'thal=3', 'thal=6', 'thal=7', 'thalach',\n",
       "       'trestbps'], dtype=object)"
      ]
     },
     "execution_count": 42,
     "metadata": {},
     "output_type": "execute_result"
    }
   ],
   "source": [
    "dv.get_feature_names_out()"
   ]
  },
  {
   "cell_type": "code",
   "execution_count": 43,
   "id": "0f1723c5-a223-4eba-8033-a7bc048a511a",
   "metadata": {},
   "outputs": [],
   "source": [
    "# Validation dictionaries\n",
    "val_dicts = df_val[categorical_columns + numeric_columns].to_dict(orient='records')"
   ]
  },
  {
   "cell_type": "code",
   "execution_count": 44,
   "id": "c88e867a-7598-4b9c-9661-c91b2947c0d7",
   "metadata": {},
   "outputs": [],
   "source": [
    "X_val = dv.transform(val_dicts)"
   ]
  },
  {
   "cell_type": "markdown",
   "id": "76352213-005d-4518-b99f-cc7dbf9700eb",
   "metadata": {},
   "source": [
    "### Train logistic regression model"
   ]
  },
  {
   "cell_type": "code",
   "execution_count": 45,
   "id": "c8d02e5c-01f3-4e9e-b9ae-999badae38e7",
   "metadata": {},
   "outputs": [],
   "source": [
    "from sklearn.linear_model import LogisticRegression"
   ]
  },
  {
   "cell_type": "code",
   "execution_count": 46,
   "id": "d98af8c2-38b8-4eda-869a-cc1bda34ba0e",
   "metadata": {},
   "outputs": [],
   "source": [
    "model = LogisticRegression(solver='liblinear', C=1.0, max_iter=1000, random_state=42)"
   ]
  },
  {
   "cell_type": "code",
   "execution_count": 47,
   "id": "bf96c82e-1ef1-4346-af88-3063a5cccc9e",
   "metadata": {},
   "outputs": [
    {
     "data": {
      "text/html": [
       "<style>#sk-container-id-1 {\n",
       "  /* Definition of color scheme common for light and dark mode */\n",
       "  --sklearn-color-text: black;\n",
       "  --sklearn-color-line: gray;\n",
       "  /* Definition of color scheme for unfitted estimators */\n",
       "  --sklearn-color-unfitted-level-0: #fff5e6;\n",
       "  --sklearn-color-unfitted-level-1: #f6e4d2;\n",
       "  --sklearn-color-unfitted-level-2: #ffe0b3;\n",
       "  --sklearn-color-unfitted-level-3: chocolate;\n",
       "  /* Definition of color scheme for fitted estimators */\n",
       "  --sklearn-color-fitted-level-0: #f0f8ff;\n",
       "  --sklearn-color-fitted-level-1: #d4ebff;\n",
       "  --sklearn-color-fitted-level-2: #b3dbfd;\n",
       "  --sklearn-color-fitted-level-3: cornflowerblue;\n",
       "\n",
       "  /* Specific color for light theme */\n",
       "  --sklearn-color-text-on-default-background: var(--sg-text-color, var(--theme-code-foreground, var(--jp-content-font-color1, black)));\n",
       "  --sklearn-color-background: var(--sg-background-color, var(--theme-background, var(--jp-layout-color0, white)));\n",
       "  --sklearn-color-border-box: var(--sg-text-color, var(--theme-code-foreground, var(--jp-content-font-color1, black)));\n",
       "  --sklearn-color-icon: #696969;\n",
       "\n",
       "  @media (prefers-color-scheme: dark) {\n",
       "    /* Redefinition of color scheme for dark theme */\n",
       "    --sklearn-color-text-on-default-background: var(--sg-text-color, var(--theme-code-foreground, var(--jp-content-font-color1, white)));\n",
       "    --sklearn-color-background: var(--sg-background-color, var(--theme-background, var(--jp-layout-color0, #111)));\n",
       "    --sklearn-color-border-box: var(--sg-text-color, var(--theme-code-foreground, var(--jp-content-font-color1, white)));\n",
       "    --sklearn-color-icon: #878787;\n",
       "  }\n",
       "}\n",
       "\n",
       "#sk-container-id-1 {\n",
       "  color: var(--sklearn-color-text);\n",
       "}\n",
       "\n",
       "#sk-container-id-1 pre {\n",
       "  padding: 0;\n",
       "}\n",
       "\n",
       "#sk-container-id-1 input.sk-hidden--visually {\n",
       "  border: 0;\n",
       "  clip: rect(1px 1px 1px 1px);\n",
       "  clip: rect(1px, 1px, 1px, 1px);\n",
       "  height: 1px;\n",
       "  margin: -1px;\n",
       "  overflow: hidden;\n",
       "  padding: 0;\n",
       "  position: absolute;\n",
       "  width: 1px;\n",
       "}\n",
       "\n",
       "#sk-container-id-1 div.sk-dashed-wrapped {\n",
       "  border: 1px dashed var(--sklearn-color-line);\n",
       "  margin: 0 0.4em 0.5em 0.4em;\n",
       "  box-sizing: border-box;\n",
       "  padding-bottom: 0.4em;\n",
       "  background-color: var(--sklearn-color-background);\n",
       "}\n",
       "\n",
       "#sk-container-id-1 div.sk-container {\n",
       "  /* jupyter's `normalize.less` sets `[hidden] { display: none; }`\n",
       "     but bootstrap.min.css set `[hidden] { display: none !important; }`\n",
       "     so we also need the `!important` here to be able to override the\n",
       "     default hidden behavior on the sphinx rendered scikit-learn.org.\n",
       "     See: https://github.com/scikit-learn/scikit-learn/issues/21755 */\n",
       "  display: inline-block !important;\n",
       "  position: relative;\n",
       "}\n",
       "\n",
       "#sk-container-id-1 div.sk-text-repr-fallback {\n",
       "  display: none;\n",
       "}\n",
       "\n",
       "div.sk-parallel-item,\n",
       "div.sk-serial,\n",
       "div.sk-item {\n",
       "  /* draw centered vertical line to link estimators */\n",
       "  background-image: linear-gradient(var(--sklearn-color-text-on-default-background), var(--sklearn-color-text-on-default-background));\n",
       "  background-size: 2px 100%;\n",
       "  background-repeat: no-repeat;\n",
       "  background-position: center center;\n",
       "}\n",
       "\n",
       "/* Parallel-specific style estimator block */\n",
       "\n",
       "#sk-container-id-1 div.sk-parallel-item::after {\n",
       "  content: \"\";\n",
       "  width: 100%;\n",
       "  border-bottom: 2px solid var(--sklearn-color-text-on-default-background);\n",
       "  flex-grow: 1;\n",
       "}\n",
       "\n",
       "#sk-container-id-1 div.sk-parallel {\n",
       "  display: flex;\n",
       "  align-items: stretch;\n",
       "  justify-content: center;\n",
       "  background-color: var(--sklearn-color-background);\n",
       "  position: relative;\n",
       "}\n",
       "\n",
       "#sk-container-id-1 div.sk-parallel-item {\n",
       "  display: flex;\n",
       "  flex-direction: column;\n",
       "}\n",
       "\n",
       "#sk-container-id-1 div.sk-parallel-item:first-child::after {\n",
       "  align-self: flex-end;\n",
       "  width: 50%;\n",
       "}\n",
       "\n",
       "#sk-container-id-1 div.sk-parallel-item:last-child::after {\n",
       "  align-self: flex-start;\n",
       "  width: 50%;\n",
       "}\n",
       "\n",
       "#sk-container-id-1 div.sk-parallel-item:only-child::after {\n",
       "  width: 0;\n",
       "}\n",
       "\n",
       "/* Serial-specific style estimator block */\n",
       "\n",
       "#sk-container-id-1 div.sk-serial {\n",
       "  display: flex;\n",
       "  flex-direction: column;\n",
       "  align-items: center;\n",
       "  background-color: var(--sklearn-color-background);\n",
       "  padding-right: 1em;\n",
       "  padding-left: 1em;\n",
       "}\n",
       "\n",
       "\n",
       "/* Toggleable style: style used for estimator/Pipeline/ColumnTransformer box that is\n",
       "clickable and can be expanded/collapsed.\n",
       "- Pipeline and ColumnTransformer use this feature and define the default style\n",
       "- Estimators will overwrite some part of the style using the `sk-estimator` class\n",
       "*/\n",
       "\n",
       "/* Pipeline and ColumnTransformer style (default) */\n",
       "\n",
       "#sk-container-id-1 div.sk-toggleable {\n",
       "  /* Default theme specific background. It is overwritten whether we have a\n",
       "  specific estimator or a Pipeline/ColumnTransformer */\n",
       "  background-color: var(--sklearn-color-background);\n",
       "}\n",
       "\n",
       "/* Toggleable label */\n",
       "#sk-container-id-1 label.sk-toggleable__label {\n",
       "  cursor: pointer;\n",
       "  display: block;\n",
       "  width: 100%;\n",
       "  margin-bottom: 0;\n",
       "  padding: 0.5em;\n",
       "  box-sizing: border-box;\n",
       "  text-align: center;\n",
       "}\n",
       "\n",
       "#sk-container-id-1 label.sk-toggleable__label-arrow:before {\n",
       "  /* Arrow on the left of the label */\n",
       "  content: \"▸\";\n",
       "  float: left;\n",
       "  margin-right: 0.25em;\n",
       "  color: var(--sklearn-color-icon);\n",
       "}\n",
       "\n",
       "#sk-container-id-1 label.sk-toggleable__label-arrow:hover:before {\n",
       "  color: var(--sklearn-color-text);\n",
       "}\n",
       "\n",
       "/* Toggleable content - dropdown */\n",
       "\n",
       "#sk-container-id-1 div.sk-toggleable__content {\n",
       "  max-height: 0;\n",
       "  max-width: 0;\n",
       "  overflow: hidden;\n",
       "  text-align: left;\n",
       "  /* unfitted */\n",
       "  background-color: var(--sklearn-color-unfitted-level-0);\n",
       "}\n",
       "\n",
       "#sk-container-id-1 div.sk-toggleable__content.fitted {\n",
       "  /* fitted */\n",
       "  background-color: var(--sklearn-color-fitted-level-0);\n",
       "}\n",
       "\n",
       "#sk-container-id-1 div.sk-toggleable__content pre {\n",
       "  margin: 0.2em;\n",
       "  border-radius: 0.25em;\n",
       "  color: var(--sklearn-color-text);\n",
       "  /* unfitted */\n",
       "  background-color: var(--sklearn-color-unfitted-level-0);\n",
       "}\n",
       "\n",
       "#sk-container-id-1 div.sk-toggleable__content.fitted pre {\n",
       "  /* unfitted */\n",
       "  background-color: var(--sklearn-color-fitted-level-0);\n",
       "}\n",
       "\n",
       "#sk-container-id-1 input.sk-toggleable__control:checked~div.sk-toggleable__content {\n",
       "  /* Expand drop-down */\n",
       "  max-height: 200px;\n",
       "  max-width: 100%;\n",
       "  overflow: auto;\n",
       "}\n",
       "\n",
       "#sk-container-id-1 input.sk-toggleable__control:checked~label.sk-toggleable__label-arrow:before {\n",
       "  content: \"▾\";\n",
       "}\n",
       "\n",
       "/* Pipeline/ColumnTransformer-specific style */\n",
       "\n",
       "#sk-container-id-1 div.sk-label input.sk-toggleable__control:checked~label.sk-toggleable__label {\n",
       "  color: var(--sklearn-color-text);\n",
       "  background-color: var(--sklearn-color-unfitted-level-2);\n",
       "}\n",
       "\n",
       "#sk-container-id-1 div.sk-label.fitted input.sk-toggleable__control:checked~label.sk-toggleable__label {\n",
       "  background-color: var(--sklearn-color-fitted-level-2);\n",
       "}\n",
       "\n",
       "/* Estimator-specific style */\n",
       "\n",
       "/* Colorize estimator box */\n",
       "#sk-container-id-1 div.sk-estimator input.sk-toggleable__control:checked~label.sk-toggleable__label {\n",
       "  /* unfitted */\n",
       "  background-color: var(--sklearn-color-unfitted-level-2);\n",
       "}\n",
       "\n",
       "#sk-container-id-1 div.sk-estimator.fitted input.sk-toggleable__control:checked~label.sk-toggleable__label {\n",
       "  /* fitted */\n",
       "  background-color: var(--sklearn-color-fitted-level-2);\n",
       "}\n",
       "\n",
       "#sk-container-id-1 div.sk-label label.sk-toggleable__label,\n",
       "#sk-container-id-1 div.sk-label label {\n",
       "  /* The background is the default theme color */\n",
       "  color: var(--sklearn-color-text-on-default-background);\n",
       "}\n",
       "\n",
       "/* On hover, darken the color of the background */\n",
       "#sk-container-id-1 div.sk-label:hover label.sk-toggleable__label {\n",
       "  color: var(--sklearn-color-text);\n",
       "  background-color: var(--sklearn-color-unfitted-level-2);\n",
       "}\n",
       "\n",
       "/* Label box, darken color on hover, fitted */\n",
       "#sk-container-id-1 div.sk-label.fitted:hover label.sk-toggleable__label.fitted {\n",
       "  color: var(--sklearn-color-text);\n",
       "  background-color: var(--sklearn-color-fitted-level-2);\n",
       "}\n",
       "\n",
       "/* Estimator label */\n",
       "\n",
       "#sk-container-id-1 div.sk-label label {\n",
       "  font-family: monospace;\n",
       "  font-weight: bold;\n",
       "  display: inline-block;\n",
       "  line-height: 1.2em;\n",
       "}\n",
       "\n",
       "#sk-container-id-1 div.sk-label-container {\n",
       "  text-align: center;\n",
       "}\n",
       "\n",
       "/* Estimator-specific */\n",
       "#sk-container-id-1 div.sk-estimator {\n",
       "  font-family: monospace;\n",
       "  border: 1px dotted var(--sklearn-color-border-box);\n",
       "  border-radius: 0.25em;\n",
       "  box-sizing: border-box;\n",
       "  margin-bottom: 0.5em;\n",
       "  /* unfitted */\n",
       "  background-color: var(--sklearn-color-unfitted-level-0);\n",
       "}\n",
       "\n",
       "#sk-container-id-1 div.sk-estimator.fitted {\n",
       "  /* fitted */\n",
       "  background-color: var(--sklearn-color-fitted-level-0);\n",
       "}\n",
       "\n",
       "/* on hover */\n",
       "#sk-container-id-1 div.sk-estimator:hover {\n",
       "  /* unfitted */\n",
       "  background-color: var(--sklearn-color-unfitted-level-2);\n",
       "}\n",
       "\n",
       "#sk-container-id-1 div.sk-estimator.fitted:hover {\n",
       "  /* fitted */\n",
       "  background-color: var(--sklearn-color-fitted-level-2);\n",
       "}\n",
       "\n",
       "/* Specification for estimator info (e.g. \"i\" and \"?\") */\n",
       "\n",
       "/* Common style for \"i\" and \"?\" */\n",
       "\n",
       ".sk-estimator-doc-link,\n",
       "a:link.sk-estimator-doc-link,\n",
       "a:visited.sk-estimator-doc-link {\n",
       "  float: right;\n",
       "  font-size: smaller;\n",
       "  line-height: 1em;\n",
       "  font-family: monospace;\n",
       "  background-color: var(--sklearn-color-background);\n",
       "  border-radius: 1em;\n",
       "  height: 1em;\n",
       "  width: 1em;\n",
       "  text-decoration: none !important;\n",
       "  margin-left: 1ex;\n",
       "  /* unfitted */\n",
       "  border: var(--sklearn-color-unfitted-level-1) 1pt solid;\n",
       "  color: var(--sklearn-color-unfitted-level-1);\n",
       "}\n",
       "\n",
       ".sk-estimator-doc-link.fitted,\n",
       "a:link.sk-estimator-doc-link.fitted,\n",
       "a:visited.sk-estimator-doc-link.fitted {\n",
       "  /* fitted */\n",
       "  border: var(--sklearn-color-fitted-level-1) 1pt solid;\n",
       "  color: var(--sklearn-color-fitted-level-1);\n",
       "}\n",
       "\n",
       "/* On hover */\n",
       "div.sk-estimator:hover .sk-estimator-doc-link:hover,\n",
       ".sk-estimator-doc-link:hover,\n",
       "div.sk-label-container:hover .sk-estimator-doc-link:hover,\n",
       ".sk-estimator-doc-link:hover {\n",
       "  /* unfitted */\n",
       "  background-color: var(--sklearn-color-unfitted-level-3);\n",
       "  color: var(--sklearn-color-background);\n",
       "  text-decoration: none;\n",
       "}\n",
       "\n",
       "div.sk-estimator.fitted:hover .sk-estimator-doc-link.fitted:hover,\n",
       ".sk-estimator-doc-link.fitted:hover,\n",
       "div.sk-label-container:hover .sk-estimator-doc-link.fitted:hover,\n",
       ".sk-estimator-doc-link.fitted:hover {\n",
       "  /* fitted */\n",
       "  background-color: var(--sklearn-color-fitted-level-3);\n",
       "  color: var(--sklearn-color-background);\n",
       "  text-decoration: none;\n",
       "}\n",
       "\n",
       "/* Span, style for the box shown on hovering the info icon */\n",
       ".sk-estimator-doc-link span {\n",
       "  display: none;\n",
       "  z-index: 9999;\n",
       "  position: relative;\n",
       "  font-weight: normal;\n",
       "  right: .2ex;\n",
       "  padding: .5ex;\n",
       "  margin: .5ex;\n",
       "  width: min-content;\n",
       "  min-width: 20ex;\n",
       "  max-width: 50ex;\n",
       "  color: var(--sklearn-color-text);\n",
       "  box-shadow: 2pt 2pt 4pt #999;\n",
       "  /* unfitted */\n",
       "  background: var(--sklearn-color-unfitted-level-0);\n",
       "  border: .5pt solid var(--sklearn-color-unfitted-level-3);\n",
       "}\n",
       "\n",
       ".sk-estimator-doc-link.fitted span {\n",
       "  /* fitted */\n",
       "  background: var(--sklearn-color-fitted-level-0);\n",
       "  border: var(--sklearn-color-fitted-level-3);\n",
       "}\n",
       "\n",
       ".sk-estimator-doc-link:hover span {\n",
       "  display: block;\n",
       "}\n",
       "\n",
       "/* \"?\"-specific style due to the `<a>` HTML tag */\n",
       "\n",
       "#sk-container-id-1 a.estimator_doc_link {\n",
       "  float: right;\n",
       "  font-size: 1rem;\n",
       "  line-height: 1em;\n",
       "  font-family: monospace;\n",
       "  background-color: var(--sklearn-color-background);\n",
       "  border-radius: 1rem;\n",
       "  height: 1rem;\n",
       "  width: 1rem;\n",
       "  text-decoration: none;\n",
       "  /* unfitted */\n",
       "  color: var(--sklearn-color-unfitted-level-1);\n",
       "  border: var(--sklearn-color-unfitted-level-1) 1pt solid;\n",
       "}\n",
       "\n",
       "#sk-container-id-1 a.estimator_doc_link.fitted {\n",
       "  /* fitted */\n",
       "  border: var(--sklearn-color-fitted-level-1) 1pt solid;\n",
       "  color: var(--sklearn-color-fitted-level-1);\n",
       "}\n",
       "\n",
       "/* On hover */\n",
       "#sk-container-id-1 a.estimator_doc_link:hover {\n",
       "  /* unfitted */\n",
       "  background-color: var(--sklearn-color-unfitted-level-3);\n",
       "  color: var(--sklearn-color-background);\n",
       "  text-decoration: none;\n",
       "}\n",
       "\n",
       "#sk-container-id-1 a.estimator_doc_link.fitted:hover {\n",
       "  /* fitted */\n",
       "  background-color: var(--sklearn-color-fitted-level-3);\n",
       "}\n",
       "</style><div id=\"sk-container-id-1\" class=\"sk-top-container\"><div class=\"sk-text-repr-fallback\"><pre>LogisticRegression(max_iter=1000, random_state=42, solver=&#x27;liblinear&#x27;)</pre><b>In a Jupyter environment, please rerun this cell to show the HTML representation or trust the notebook. <br />On GitHub, the HTML representation is unable to render, please try loading this page with nbviewer.org.</b></div><div class=\"sk-container\" hidden><div class=\"sk-item\"><div class=\"sk-estimator fitted sk-toggleable\"><input class=\"sk-toggleable__control sk-hidden--visually\" id=\"sk-estimator-id-1\" type=\"checkbox\" checked><label for=\"sk-estimator-id-1\" class=\"sk-toggleable__label fitted sk-toggleable__label-arrow fitted\">&nbsp;&nbsp;LogisticRegression<a class=\"sk-estimator-doc-link fitted\" rel=\"noreferrer\" target=\"_blank\" href=\"https://scikit-learn.org/1.5/modules/generated/sklearn.linear_model.LogisticRegression.html\">?<span>Documentation for LogisticRegression</span></a><span class=\"sk-estimator-doc-link fitted\">i<span>Fitted</span></span></label><div class=\"sk-toggleable__content fitted\"><pre>LogisticRegression(max_iter=1000, random_state=42, solver=&#x27;liblinear&#x27;)</pre></div> </div></div></div></div>"
      ],
      "text/plain": [
       "LogisticRegression(max_iter=1000, random_state=42, solver='liblinear')"
      ]
     },
     "execution_count": 47,
     "metadata": {},
     "output_type": "execute_result"
    }
   ],
   "source": [
    "model.fit(X_train, y_train)"
   ]
  },
  {
   "cell_type": "code",
   "execution_count": 48,
   "id": "da82ae86-591a-4f8a-bd46-e41f422c28a4",
   "metadata": {},
   "outputs": [],
   "source": [
    "#here threshold is adjusted to 0.55 b/c of the study made below\n",
    "y_pred = model.predict_proba(X_val)[:, 1]\n",
    "y_decision = (y_pred >= 0.55)"
   ]
  },
  {
   "cell_type": "code",
   "execution_count": 49,
   "id": "95f4000a-15f1-48e7-a147-a6e6fd167dcc",
   "metadata": {},
   "outputs": [
    {
     "name": "stdout",
     "output_type": "stream",
     "text": [
      "Answer: Accuracy 0.83\n"
     ]
    }
   ],
   "source": [
    "accuracy = round((y_val == y_decision).mean(),2)\n",
    "print(f\"Answer: Accuracy {accuracy}\")"
   ]
  },
  {
   "cell_type": "code",
   "execution_count": 50,
   "id": "e4b4af37-e37c-4b6c-9160-d2933bf0de4b",
   "metadata": {},
   "outputs": [],
   "source": [
    "#Now let's train a regularized logistic regression."
   ]
  },
  {
   "cell_type": "code",
   "execution_count": 51,
   "id": "70931120-4153-4a48-8f4c-26d57c3bb716",
   "metadata": {},
   "outputs": [],
   "source": [
    "def check_for_accuracy(c):\n",
    "    model = LogisticRegression(solver='liblinear', C=c, max_iter=1000, random_state=42)\n",
    "    model.fit(X_train, y_train)\n",
    "    y_pred = model.predict_proba(X_val)[:, 1]\n",
    "    y_decision = (y_pred >= 0.5)\n",
    "    accuracy = round((y_val == y_decision).mean(),3)\n",
    "    #print(f\"Answer: Accuracy {accuracy}\")\n",
    "    return accuracy"
   ]
  },
  {
   "cell_type": "code",
   "execution_count": 52,
   "id": "47421028-4fc5-4014-a767-6d1ca8236a63",
   "metadata": {},
   "outputs": [
    {
     "data": {
      "text/plain": [
       "[(0.01, np.float64(0.817)),\n",
       " (100, np.float64(0.817)),\n",
       " (1, np.float64(0.833)),\n",
       " (10, np.float64(0.833)),\n",
       " (0.1, np.float64(0.867))]"
      ]
     },
     "execution_count": 52,
     "metadata": {},
     "output_type": "execute_result"
    }
   ],
   "source": [
    "accuracies = [(c, check_for_accuracy(c)) for c in [0.01, 0.1, 1, 10, 100]]\n",
    "sorted_accuracies = sorted(accuracies, key=lambda x: x[1])\n",
    "sorted_accuracies"
   ]
  },
  {
   "cell_type": "markdown",
   "id": "68a4013b-fbf4-4025-8326-0e93bd360abc",
   "metadata": {},
   "source": [
    "In our case best regularization parameter (C) is 0.1\n",
    "\n",
    "C=0.1"
   ]
  },
  {
   "cell_type": "markdown",
   "id": "382d843a-43b7-4f5e-9d56-b3211be7157d",
   "metadata": {},
   "source": [
    "## Final logistic regression model"
   ]
  },
  {
   "cell_type": "code",
   "execution_count": 53,
   "id": "40b5703c-c683-4829-8dd8-68e2e6834297",
   "metadata": {},
   "outputs": [
    {
     "data": {
      "text/html": [
       "<style>#sk-container-id-2 {\n",
       "  /* Definition of color scheme common for light and dark mode */\n",
       "  --sklearn-color-text: black;\n",
       "  --sklearn-color-line: gray;\n",
       "  /* Definition of color scheme for unfitted estimators */\n",
       "  --sklearn-color-unfitted-level-0: #fff5e6;\n",
       "  --sklearn-color-unfitted-level-1: #f6e4d2;\n",
       "  --sklearn-color-unfitted-level-2: #ffe0b3;\n",
       "  --sklearn-color-unfitted-level-3: chocolate;\n",
       "  /* Definition of color scheme for fitted estimators */\n",
       "  --sklearn-color-fitted-level-0: #f0f8ff;\n",
       "  --sklearn-color-fitted-level-1: #d4ebff;\n",
       "  --sklearn-color-fitted-level-2: #b3dbfd;\n",
       "  --sklearn-color-fitted-level-3: cornflowerblue;\n",
       "\n",
       "  /* Specific color for light theme */\n",
       "  --sklearn-color-text-on-default-background: var(--sg-text-color, var(--theme-code-foreground, var(--jp-content-font-color1, black)));\n",
       "  --sklearn-color-background: var(--sg-background-color, var(--theme-background, var(--jp-layout-color0, white)));\n",
       "  --sklearn-color-border-box: var(--sg-text-color, var(--theme-code-foreground, var(--jp-content-font-color1, black)));\n",
       "  --sklearn-color-icon: #696969;\n",
       "\n",
       "  @media (prefers-color-scheme: dark) {\n",
       "    /* Redefinition of color scheme for dark theme */\n",
       "    --sklearn-color-text-on-default-background: var(--sg-text-color, var(--theme-code-foreground, var(--jp-content-font-color1, white)));\n",
       "    --sklearn-color-background: var(--sg-background-color, var(--theme-background, var(--jp-layout-color0, #111)));\n",
       "    --sklearn-color-border-box: var(--sg-text-color, var(--theme-code-foreground, var(--jp-content-font-color1, white)));\n",
       "    --sklearn-color-icon: #878787;\n",
       "  }\n",
       "}\n",
       "\n",
       "#sk-container-id-2 {\n",
       "  color: var(--sklearn-color-text);\n",
       "}\n",
       "\n",
       "#sk-container-id-2 pre {\n",
       "  padding: 0;\n",
       "}\n",
       "\n",
       "#sk-container-id-2 input.sk-hidden--visually {\n",
       "  border: 0;\n",
       "  clip: rect(1px 1px 1px 1px);\n",
       "  clip: rect(1px, 1px, 1px, 1px);\n",
       "  height: 1px;\n",
       "  margin: -1px;\n",
       "  overflow: hidden;\n",
       "  padding: 0;\n",
       "  position: absolute;\n",
       "  width: 1px;\n",
       "}\n",
       "\n",
       "#sk-container-id-2 div.sk-dashed-wrapped {\n",
       "  border: 1px dashed var(--sklearn-color-line);\n",
       "  margin: 0 0.4em 0.5em 0.4em;\n",
       "  box-sizing: border-box;\n",
       "  padding-bottom: 0.4em;\n",
       "  background-color: var(--sklearn-color-background);\n",
       "}\n",
       "\n",
       "#sk-container-id-2 div.sk-container {\n",
       "  /* jupyter's `normalize.less` sets `[hidden] { display: none; }`\n",
       "     but bootstrap.min.css set `[hidden] { display: none !important; }`\n",
       "     so we also need the `!important` here to be able to override the\n",
       "     default hidden behavior on the sphinx rendered scikit-learn.org.\n",
       "     See: https://github.com/scikit-learn/scikit-learn/issues/21755 */\n",
       "  display: inline-block !important;\n",
       "  position: relative;\n",
       "}\n",
       "\n",
       "#sk-container-id-2 div.sk-text-repr-fallback {\n",
       "  display: none;\n",
       "}\n",
       "\n",
       "div.sk-parallel-item,\n",
       "div.sk-serial,\n",
       "div.sk-item {\n",
       "  /* draw centered vertical line to link estimators */\n",
       "  background-image: linear-gradient(var(--sklearn-color-text-on-default-background), var(--sklearn-color-text-on-default-background));\n",
       "  background-size: 2px 100%;\n",
       "  background-repeat: no-repeat;\n",
       "  background-position: center center;\n",
       "}\n",
       "\n",
       "/* Parallel-specific style estimator block */\n",
       "\n",
       "#sk-container-id-2 div.sk-parallel-item::after {\n",
       "  content: \"\";\n",
       "  width: 100%;\n",
       "  border-bottom: 2px solid var(--sklearn-color-text-on-default-background);\n",
       "  flex-grow: 1;\n",
       "}\n",
       "\n",
       "#sk-container-id-2 div.sk-parallel {\n",
       "  display: flex;\n",
       "  align-items: stretch;\n",
       "  justify-content: center;\n",
       "  background-color: var(--sklearn-color-background);\n",
       "  position: relative;\n",
       "}\n",
       "\n",
       "#sk-container-id-2 div.sk-parallel-item {\n",
       "  display: flex;\n",
       "  flex-direction: column;\n",
       "}\n",
       "\n",
       "#sk-container-id-2 div.sk-parallel-item:first-child::after {\n",
       "  align-self: flex-end;\n",
       "  width: 50%;\n",
       "}\n",
       "\n",
       "#sk-container-id-2 div.sk-parallel-item:last-child::after {\n",
       "  align-self: flex-start;\n",
       "  width: 50%;\n",
       "}\n",
       "\n",
       "#sk-container-id-2 div.sk-parallel-item:only-child::after {\n",
       "  width: 0;\n",
       "}\n",
       "\n",
       "/* Serial-specific style estimator block */\n",
       "\n",
       "#sk-container-id-2 div.sk-serial {\n",
       "  display: flex;\n",
       "  flex-direction: column;\n",
       "  align-items: center;\n",
       "  background-color: var(--sklearn-color-background);\n",
       "  padding-right: 1em;\n",
       "  padding-left: 1em;\n",
       "}\n",
       "\n",
       "\n",
       "/* Toggleable style: style used for estimator/Pipeline/ColumnTransformer box that is\n",
       "clickable and can be expanded/collapsed.\n",
       "- Pipeline and ColumnTransformer use this feature and define the default style\n",
       "- Estimators will overwrite some part of the style using the `sk-estimator` class\n",
       "*/\n",
       "\n",
       "/* Pipeline and ColumnTransformer style (default) */\n",
       "\n",
       "#sk-container-id-2 div.sk-toggleable {\n",
       "  /* Default theme specific background. It is overwritten whether we have a\n",
       "  specific estimator or a Pipeline/ColumnTransformer */\n",
       "  background-color: var(--sklearn-color-background);\n",
       "}\n",
       "\n",
       "/* Toggleable label */\n",
       "#sk-container-id-2 label.sk-toggleable__label {\n",
       "  cursor: pointer;\n",
       "  display: block;\n",
       "  width: 100%;\n",
       "  margin-bottom: 0;\n",
       "  padding: 0.5em;\n",
       "  box-sizing: border-box;\n",
       "  text-align: center;\n",
       "}\n",
       "\n",
       "#sk-container-id-2 label.sk-toggleable__label-arrow:before {\n",
       "  /* Arrow on the left of the label */\n",
       "  content: \"▸\";\n",
       "  float: left;\n",
       "  margin-right: 0.25em;\n",
       "  color: var(--sklearn-color-icon);\n",
       "}\n",
       "\n",
       "#sk-container-id-2 label.sk-toggleable__label-arrow:hover:before {\n",
       "  color: var(--sklearn-color-text);\n",
       "}\n",
       "\n",
       "/* Toggleable content - dropdown */\n",
       "\n",
       "#sk-container-id-2 div.sk-toggleable__content {\n",
       "  max-height: 0;\n",
       "  max-width: 0;\n",
       "  overflow: hidden;\n",
       "  text-align: left;\n",
       "  /* unfitted */\n",
       "  background-color: var(--sklearn-color-unfitted-level-0);\n",
       "}\n",
       "\n",
       "#sk-container-id-2 div.sk-toggleable__content.fitted {\n",
       "  /* fitted */\n",
       "  background-color: var(--sklearn-color-fitted-level-0);\n",
       "}\n",
       "\n",
       "#sk-container-id-2 div.sk-toggleable__content pre {\n",
       "  margin: 0.2em;\n",
       "  border-radius: 0.25em;\n",
       "  color: var(--sklearn-color-text);\n",
       "  /* unfitted */\n",
       "  background-color: var(--sklearn-color-unfitted-level-0);\n",
       "}\n",
       "\n",
       "#sk-container-id-2 div.sk-toggleable__content.fitted pre {\n",
       "  /* unfitted */\n",
       "  background-color: var(--sklearn-color-fitted-level-0);\n",
       "}\n",
       "\n",
       "#sk-container-id-2 input.sk-toggleable__control:checked~div.sk-toggleable__content {\n",
       "  /* Expand drop-down */\n",
       "  max-height: 200px;\n",
       "  max-width: 100%;\n",
       "  overflow: auto;\n",
       "}\n",
       "\n",
       "#sk-container-id-2 input.sk-toggleable__control:checked~label.sk-toggleable__label-arrow:before {\n",
       "  content: \"▾\";\n",
       "}\n",
       "\n",
       "/* Pipeline/ColumnTransformer-specific style */\n",
       "\n",
       "#sk-container-id-2 div.sk-label input.sk-toggleable__control:checked~label.sk-toggleable__label {\n",
       "  color: var(--sklearn-color-text);\n",
       "  background-color: var(--sklearn-color-unfitted-level-2);\n",
       "}\n",
       "\n",
       "#sk-container-id-2 div.sk-label.fitted input.sk-toggleable__control:checked~label.sk-toggleable__label {\n",
       "  background-color: var(--sklearn-color-fitted-level-2);\n",
       "}\n",
       "\n",
       "/* Estimator-specific style */\n",
       "\n",
       "/* Colorize estimator box */\n",
       "#sk-container-id-2 div.sk-estimator input.sk-toggleable__control:checked~label.sk-toggleable__label {\n",
       "  /* unfitted */\n",
       "  background-color: var(--sklearn-color-unfitted-level-2);\n",
       "}\n",
       "\n",
       "#sk-container-id-2 div.sk-estimator.fitted input.sk-toggleable__control:checked~label.sk-toggleable__label {\n",
       "  /* fitted */\n",
       "  background-color: var(--sklearn-color-fitted-level-2);\n",
       "}\n",
       "\n",
       "#sk-container-id-2 div.sk-label label.sk-toggleable__label,\n",
       "#sk-container-id-2 div.sk-label label {\n",
       "  /* The background is the default theme color */\n",
       "  color: var(--sklearn-color-text-on-default-background);\n",
       "}\n",
       "\n",
       "/* On hover, darken the color of the background */\n",
       "#sk-container-id-2 div.sk-label:hover label.sk-toggleable__label {\n",
       "  color: var(--sklearn-color-text);\n",
       "  background-color: var(--sklearn-color-unfitted-level-2);\n",
       "}\n",
       "\n",
       "/* Label box, darken color on hover, fitted */\n",
       "#sk-container-id-2 div.sk-label.fitted:hover label.sk-toggleable__label.fitted {\n",
       "  color: var(--sklearn-color-text);\n",
       "  background-color: var(--sklearn-color-fitted-level-2);\n",
       "}\n",
       "\n",
       "/* Estimator label */\n",
       "\n",
       "#sk-container-id-2 div.sk-label label {\n",
       "  font-family: monospace;\n",
       "  font-weight: bold;\n",
       "  display: inline-block;\n",
       "  line-height: 1.2em;\n",
       "}\n",
       "\n",
       "#sk-container-id-2 div.sk-label-container {\n",
       "  text-align: center;\n",
       "}\n",
       "\n",
       "/* Estimator-specific */\n",
       "#sk-container-id-2 div.sk-estimator {\n",
       "  font-family: monospace;\n",
       "  border: 1px dotted var(--sklearn-color-border-box);\n",
       "  border-radius: 0.25em;\n",
       "  box-sizing: border-box;\n",
       "  margin-bottom: 0.5em;\n",
       "  /* unfitted */\n",
       "  background-color: var(--sklearn-color-unfitted-level-0);\n",
       "}\n",
       "\n",
       "#sk-container-id-2 div.sk-estimator.fitted {\n",
       "  /* fitted */\n",
       "  background-color: var(--sklearn-color-fitted-level-0);\n",
       "}\n",
       "\n",
       "/* on hover */\n",
       "#sk-container-id-2 div.sk-estimator:hover {\n",
       "  /* unfitted */\n",
       "  background-color: var(--sklearn-color-unfitted-level-2);\n",
       "}\n",
       "\n",
       "#sk-container-id-2 div.sk-estimator.fitted:hover {\n",
       "  /* fitted */\n",
       "  background-color: var(--sklearn-color-fitted-level-2);\n",
       "}\n",
       "\n",
       "/* Specification for estimator info (e.g. \"i\" and \"?\") */\n",
       "\n",
       "/* Common style for \"i\" and \"?\" */\n",
       "\n",
       ".sk-estimator-doc-link,\n",
       "a:link.sk-estimator-doc-link,\n",
       "a:visited.sk-estimator-doc-link {\n",
       "  float: right;\n",
       "  font-size: smaller;\n",
       "  line-height: 1em;\n",
       "  font-family: monospace;\n",
       "  background-color: var(--sklearn-color-background);\n",
       "  border-radius: 1em;\n",
       "  height: 1em;\n",
       "  width: 1em;\n",
       "  text-decoration: none !important;\n",
       "  margin-left: 1ex;\n",
       "  /* unfitted */\n",
       "  border: var(--sklearn-color-unfitted-level-1) 1pt solid;\n",
       "  color: var(--sklearn-color-unfitted-level-1);\n",
       "}\n",
       "\n",
       ".sk-estimator-doc-link.fitted,\n",
       "a:link.sk-estimator-doc-link.fitted,\n",
       "a:visited.sk-estimator-doc-link.fitted {\n",
       "  /* fitted */\n",
       "  border: var(--sklearn-color-fitted-level-1) 1pt solid;\n",
       "  color: var(--sklearn-color-fitted-level-1);\n",
       "}\n",
       "\n",
       "/* On hover */\n",
       "div.sk-estimator:hover .sk-estimator-doc-link:hover,\n",
       ".sk-estimator-doc-link:hover,\n",
       "div.sk-label-container:hover .sk-estimator-doc-link:hover,\n",
       ".sk-estimator-doc-link:hover {\n",
       "  /* unfitted */\n",
       "  background-color: var(--sklearn-color-unfitted-level-3);\n",
       "  color: var(--sklearn-color-background);\n",
       "  text-decoration: none;\n",
       "}\n",
       "\n",
       "div.sk-estimator.fitted:hover .sk-estimator-doc-link.fitted:hover,\n",
       ".sk-estimator-doc-link.fitted:hover,\n",
       "div.sk-label-container:hover .sk-estimator-doc-link.fitted:hover,\n",
       ".sk-estimator-doc-link.fitted:hover {\n",
       "  /* fitted */\n",
       "  background-color: var(--sklearn-color-fitted-level-3);\n",
       "  color: var(--sklearn-color-background);\n",
       "  text-decoration: none;\n",
       "}\n",
       "\n",
       "/* Span, style for the box shown on hovering the info icon */\n",
       ".sk-estimator-doc-link span {\n",
       "  display: none;\n",
       "  z-index: 9999;\n",
       "  position: relative;\n",
       "  font-weight: normal;\n",
       "  right: .2ex;\n",
       "  padding: .5ex;\n",
       "  margin: .5ex;\n",
       "  width: min-content;\n",
       "  min-width: 20ex;\n",
       "  max-width: 50ex;\n",
       "  color: var(--sklearn-color-text);\n",
       "  box-shadow: 2pt 2pt 4pt #999;\n",
       "  /* unfitted */\n",
       "  background: var(--sklearn-color-unfitted-level-0);\n",
       "  border: .5pt solid var(--sklearn-color-unfitted-level-3);\n",
       "}\n",
       "\n",
       ".sk-estimator-doc-link.fitted span {\n",
       "  /* fitted */\n",
       "  background: var(--sklearn-color-fitted-level-0);\n",
       "  border: var(--sklearn-color-fitted-level-3);\n",
       "}\n",
       "\n",
       ".sk-estimator-doc-link:hover span {\n",
       "  display: block;\n",
       "}\n",
       "\n",
       "/* \"?\"-specific style due to the `<a>` HTML tag */\n",
       "\n",
       "#sk-container-id-2 a.estimator_doc_link {\n",
       "  float: right;\n",
       "  font-size: 1rem;\n",
       "  line-height: 1em;\n",
       "  font-family: monospace;\n",
       "  background-color: var(--sklearn-color-background);\n",
       "  border-radius: 1rem;\n",
       "  height: 1rem;\n",
       "  width: 1rem;\n",
       "  text-decoration: none;\n",
       "  /* unfitted */\n",
       "  color: var(--sklearn-color-unfitted-level-1);\n",
       "  border: var(--sklearn-color-unfitted-level-1) 1pt solid;\n",
       "}\n",
       "\n",
       "#sk-container-id-2 a.estimator_doc_link.fitted {\n",
       "  /* fitted */\n",
       "  border: var(--sklearn-color-fitted-level-1) 1pt solid;\n",
       "  color: var(--sklearn-color-fitted-level-1);\n",
       "}\n",
       "\n",
       "/* On hover */\n",
       "#sk-container-id-2 a.estimator_doc_link:hover {\n",
       "  /* unfitted */\n",
       "  background-color: var(--sklearn-color-unfitted-level-3);\n",
       "  color: var(--sklearn-color-background);\n",
       "  text-decoration: none;\n",
       "}\n",
       "\n",
       "#sk-container-id-2 a.estimator_doc_link.fitted:hover {\n",
       "  /* fitted */\n",
       "  background-color: var(--sklearn-color-fitted-level-3);\n",
       "}\n",
       "</style><div id=\"sk-container-id-2\" class=\"sk-top-container\"><div class=\"sk-text-repr-fallback\"><pre>LogisticRegression(C=0.1, max_iter=1000, random_state=42, solver=&#x27;liblinear&#x27;)</pre><b>In a Jupyter environment, please rerun this cell to show the HTML representation or trust the notebook. <br />On GitHub, the HTML representation is unable to render, please try loading this page with nbviewer.org.</b></div><div class=\"sk-container\" hidden><div class=\"sk-item\"><div class=\"sk-estimator fitted sk-toggleable\"><input class=\"sk-toggleable__control sk-hidden--visually\" id=\"sk-estimator-id-2\" type=\"checkbox\" checked><label for=\"sk-estimator-id-2\" class=\"sk-toggleable__label fitted sk-toggleable__label-arrow fitted\">&nbsp;&nbsp;LogisticRegression<a class=\"sk-estimator-doc-link fitted\" rel=\"noreferrer\" target=\"_blank\" href=\"https://scikit-learn.org/1.5/modules/generated/sklearn.linear_model.LogisticRegression.html\">?<span>Documentation for LogisticRegression</span></a><span class=\"sk-estimator-doc-link fitted\">i<span>Fitted</span></span></label><div class=\"sk-toggleable__content fitted\"><pre>LogisticRegression(C=0.1, max_iter=1000, random_state=42, solver=&#x27;liblinear&#x27;)</pre></div> </div></div></div></div>"
      ],
      "text/plain": [
       "LogisticRegression(C=0.1, max_iter=1000, random_state=42, solver='liblinear')"
      ]
     },
     "execution_count": 53,
     "metadata": {},
     "output_type": "execute_result"
    }
   ],
   "source": [
    "dicts_full_train = df_full_train[categorical_columns + numeric_columns].to_dict(orient='records')\n",
    "dv = DictVectorizer(sparse=False)\n",
    "X_full_train = dv.fit_transform(dicts_full_train)\n",
    "y_full_train = df_full_train.num.values\n",
    "\n",
    "\n",
    "logistic_regression_model = LogisticRegression(solver='liblinear', C=0.1, max_iter=1000, random_state=42)\n",
    "logistic_regression_model.fit(X_full_train, y_full_train)"
   ]
  },
  {
   "cell_type": "code",
   "execution_count": 54,
   "id": "4ef0c8c5-36e7-4653-ade2-c80e3207f013",
   "metadata": {},
   "outputs": [],
   "source": [
    "dicts_test = df_test[categorical_columns + numeric_columns].to_dict(orient='records')\n",
    "X_test = dv.transform(dicts_test)"
   ]
  },
  {
   "cell_type": "code",
   "execution_count": 55,
   "id": "099bcd4a-a7ea-4868-b6bf-9019ddf10bda",
   "metadata": {},
   "outputs": [],
   "source": [
    "y_pred = logistic_regression_model.predict_proba(X_test)[:,1]"
   ]
  },
  {
   "cell_type": "code",
   "execution_count": 56,
   "id": "18d1b02c-1bf0-4154-b01e-025288011ce8",
   "metadata": {},
   "outputs": [
    {
     "name": "stdout",
     "output_type": "stream",
     "text": [
      "Accuracy of the final model: 0.9016393442622951\n"
     ]
    }
   ],
   "source": [
    "heart_disease_pred = (y_pred >= 0.55)\n",
    "print(f\"Accuracy of the final model: {(heart_disease_pred == y_test).mean()}\")"
   ]
  },
  {
   "cell_type": "markdown",
   "id": "35674a4a-0449-495f-8cdb-19e6007ad996",
   "metadata": {},
   "source": [
    "### Let's check for accuracy using sklern:"
   ]
  },
  {
   "cell_type": "code",
   "execution_count": 57,
   "id": "aea33d77-1196-4017-8ba0-8890705790d1",
   "metadata": {},
   "outputs": [],
   "source": [
    "from sklearn.metrics import accuracy_score"
   ]
  },
  {
   "cell_type": "code",
   "execution_count": 58,
   "id": "8b85c471-0fd3-48c6-9c8e-499f05a15426",
   "metadata": {},
   "outputs": [],
   "source": [
    "y_pred = logistic_regression_model.predict_proba(X_val)[:,1]"
   ]
  },
  {
   "cell_type": "code",
   "execution_count": 59,
   "id": "8719e7d8-4ce2-4b61-9460-a12dc8dda9ce",
   "metadata": {},
   "outputs": [
    {
     "data": {
      "text/plain": [
       "0.8666666666666667"
      ]
     },
     "execution_count": 59,
     "metadata": {},
     "output_type": "execute_result"
    }
   ],
   "source": [
    "accuracy_score(y_val, y_pred >= 0.5)"
   ]
  },
  {
   "cell_type": "code",
   "execution_count": 60,
   "id": "ed1446b5-d853-4639-9c87-5349235f86f3",
   "metadata": {},
   "outputs": [
    {
     "name": "stdout",
     "output_type": "stream",
     "text": [
      "0.00  0.450\n",
      "0.05  0.483\n",
      "0.10  0.567\n",
      "0.15  0.650\n",
      "0.20  0.733\n",
      "0.25  0.750\n",
      "0.30  0.800\n",
      "0.35  0.833\n",
      "0.40  0.883\n",
      "0.45  0.883\n",
      "0.50  0.867\n",
      "0.55  0.883\n",
      "0.60  0.883\n",
      "0.65  0.883\n",
      "0.70  0.883\n",
      "0.75  0.867\n",
      "0.80  0.817\n",
      "0.85  0.783\n",
      "0.90  0.733\n",
      "0.95  0.717\n",
      "1.00  0.550\n"
     ]
    }
   ],
   "source": [
    "threshholds = np.linspace(0, 1, 21)\n",
    "scores = []\n",
    "\n",
    "for t in threshholds:\n",
    "    score = accuracy_score(y_val, y_pred >= t)\n",
    "    scores.append(score)\n",
    "    print(\"%.2f  %.3f\" % (t, score))"
   ]
  },
  {
   "cell_type": "code",
   "execution_count": 61,
   "id": "92eb0cc4-e52c-48ba-a6df-eb6e79ca441d",
   "metadata": {},
   "outputs": [
    {
     "data": {
      "image/png": "[encoded data removed]",
      "text/plain": [
       "<Figure size 640x480 with 1 Axes>"
      ]
     },
     "metadata": {},
     "output_type": "display_data"
    }
   ],
   "source": [
    "plt.subplots()\n",
    "plt.plot(threshholds, scores)\n",
    "plt.grid()"
   ]
  },
  {
   "cell_type": "markdown",
   "id": "43639f61-48d5-452c-8378-736e33cd3297",
   "metadata": {},
   "source": [
    "### Conclusion: Our model givs best accuracy when t=0.55 or t=0.45, but NOT at t=0.5"
   ]
  },
  {
   "cell_type": "markdown",
   "id": "d64aa80c-95c4-4b69-8a85-21bbacf61a16",
   "metadata": {},
   "source": [
    "### Let's plot the ROC with sklearn"
   ]
  },
  {
   "cell_type": "code",
   "execution_count": 62,
   "id": "fd057a47-40b2-4607-ba21-401f03cc6549",
   "metadata": {},
   "outputs": [],
   "source": [
    "from sklearn.metrics import roc_curve"
   ]
  },
  {
   "cell_type": "code",
   "execution_count": 63,
   "id": "906a3e4a-d916-4781-99a8-9d25015099b4",
   "metadata": {},
   "outputs": [],
   "source": [
    "#making sure we are using the right 'y_pred'\n",
    "y_pred = logistic_regression_model.predict_proba(X_val)[:,1]"
   ]
  },
  {
   "cell_type": "code",
   "execution_count": 64,
   "id": "dd718296-6f32-4beb-b883-9964f323543c",
   "metadata": {},
   "outputs": [],
   "source": [
    "fpr, tpr, thresholds = roc_curve(y_val, y_pred)"
   ]
  },
  {
   "cell_type": "code",
   "execution_count": 65,
   "id": "77e73e03-f475-46bf-ba8c-16113966c1a1",
   "metadata": {},
   "outputs": [
    {
     "data": {
      "image/png": "[encoded data removed]",
      "text/plain": [
       "<Figure size 500x500 with 1 Axes>"
      ]
     },
     "metadata": {},
     "output_type": "display_data"
    }
   ],
   "source": [
    "plt.figure(figsize=(5,5))\n",
    "\n",
    "plt.plot(fpr, tpr, label=\"Model\")\n",
    "plt.plot([0,1], [0,1], label= 'random', linestyle='--')\n",
    "\n",
    "plt.xlabel(\"FPR\")\n",
    "plt.ylabel(\"TPR\")\n",
    "plt.legend()\n",
    "plt.grid()"
   ]
  },
  {
   "cell_type": "markdown",
   "id": "e23403e0-b671-42cc-a74a-acee2a6f3c6a",
   "metadata": {},
   "source": [
    "### By the shape of the roc curve we may conclude that we have a good model"
   ]
  },
  {
   "cell_type": "code",
   "execution_count": 66,
   "id": "6a0f01f1-5d4c-4853-ab1e-c76bd66bf019",
   "metadata": {},
   "outputs": [],
   "source": [
    "from sklearn.metrics import roc_auc_score\n",
    "from sklearn.model_selection import KFold\n",
    "from tqdm.auto import tqdm"
   ]
  },
  {
   "cell_type": "code",
   "execution_count": 67,
   "id": "2424d0cb-398e-4a0b-b5a4-bab0337e7c22",
   "metadata": {},
   "outputs": [
    {
     "data": {
      "text/plain": [
       "np.float64(0.9438832772166106)"
      ]
     },
     "execution_count": 67,
     "metadata": {},
     "output_type": "execute_result"
    }
   ],
   "source": [
    "roc_auc_score(y_val, y_pred)"
   ]
  },
  {
   "cell_type": "code",
   "execution_count": 68,
   "id": "7f6c8790-017e-458c-af9c-aa0d3242cd56",
   "metadata": {},
   "outputs": [],
   "source": [
    "# Let's perform K-FOLD cross validation\n",
    "def train(df_train, y_train, C=1.0):\n",
    "    dicts = df_train[categorical_columns + numeric_columns].to_dict(orient='records')\n",
    "\n",
    "    dv = DictVectorizer(sparse=False)\n",
    "    X_train=dv.fit_transform(dicts)\n",
    "\n",
    "    model = LogisticRegression(C=C, max_iter=5000)\n",
    "    model.fit(X_train, y_train)\n",
    "    return dv, model\n",
    "\n",
    "def predict(df, dv, model):\n",
    "    dicts = df[categorical_columns + numeric_columns].to_dict(orient = \"records\")\n",
    "    X=dv.transform(dicts)\n",
    "    y_pred = model.predict_proba(X)[:,1]\n",
    "    return y_pred"
   ]
  },
  {
   "cell_type": "code",
   "execution_count": 69,
   "id": "868d3c17-17cd-44ce-afbd-14c48f39a1ca",
   "metadata": {},
   "outputs": [
    {
     "data": {
      "application/vnd.jupyter.widget-view+json": {
       "model_id": "4597b9c964f84915a86517eecfd5b78b",
       "version_major": 2,
       "version_minor": 0
      },
      "text/plain": [
       "  0%|          | 0/7 [00:00<?, ?it/s]"
      ]
     },
     "metadata": {},
     "output_type": "display_data"
    },
    {
     "name": "stdout",
     "output_type": "stream",
     "text": [
      "C=0.001 0.76131 +- 0.07529\n",
      "C=0.01 0.82505 +- 0.05120\n",
      "C=0.1 0.89538 +- 0.02548\n",
      "C=0.5 0.90340 +- 0.03266\n",
      "C=1 0.90337 +- 0.03130\n",
      "C=5 0.90406 +- 0.03253\n",
      "C=10 0.90192 +- 0.02856\n"
     ]
    }
   ],
   "source": [
    "n_splits = 5\n",
    "\n",
    "for C in tqdm([0.001, 0.01, 0.1, 0.5, 1, 5, 10]): \n",
    "\n",
    "    scores = []\n",
    "    \n",
    "    kfold = KFold(n_splits, shuffle=True, random_state=1)\n",
    "\n",
    "    \n",
    "    for train_idx, val_idx in kfold.split(df_full_train):\n",
    "        df_train = df_full_train.iloc[train_idx]\n",
    "        df_val = df_full_train.iloc[val_idx]\n",
    "    \n",
    "        y_train = df_train.num.values\n",
    "        y_val = df_val.num.values\n",
    "        \n",
    "        dv, model = train(df_train, y_train, C=C)\n",
    "        y_pred = predict(df_val, dv, model)\n",
    "        auc = roc_auc_score(y_val, y_pred)\n",
    "        scores.append(auc)\n",
    "\n",
    "    print('C=%s %.5f +- %.5f' % (C, np.mean(scores), np.std(scores)))\n"
   ]
  },
  {
   "cell_type": "code",
   "execution_count": 148,
   "id": "2b66f267-122f-4de6-a9a8-977b52121e4e",
   "metadata": {},
   "outputs": [
    {
     "name": "stdout",
     "output_type": "stream",
     "text": [
      "Final model auc=0.9522\n"
     ]
    }
   ],
   "source": [
    "# C=5 gives the best performance\n",
    "# Now we need to train our FINAL model on the full train dataset and evaluate on test dataset\n",
    "\n",
    "dv, model = train(df_full_train, df_full_train.num.values, C=1.0)\n",
    "\n",
    "y_pred = predict(df_test, dv, model)\n",
    "\n",
    "auc = roc_auc_score(y_test, y_pred)\n",
    "print(f\"Final model {auc=:.4}\")"
   ]
  },
  {
   "cell_type": "markdown",
   "id": "2b31de39-aee9-419a-a63b-2c1842b86bcf",
   "metadata": {},
   "source": [
    "## Decision tree"
   ]
  },
  {
   "cell_type": "code",
   "execution_count": 71,
   "id": "ebf1d9aa-050e-4547-ac0c-08da3554d04d",
   "metadata": {},
   "outputs": [],
   "source": [
    "from sklearn.tree import DecisionTreeClassifier\n",
    "from sklearn.feature_extraction import DictVectorizer\n",
    "from sklearn.metrics import roc_auc_score"
   ]
  },
  {
   "cell_type": "code",
   "execution_count": 85,
   "id": "6beff974-03d0-4397-b973-5209dacd8059",
   "metadata": {},
   "outputs": [],
   "source": [
    "train_dicts=df_train[categorical_columns + numeric_columns].to_dict(orient='records')\n",
    "\n",
    "dv = DictVectorizer(sparse=False)\n",
    "X_train = dv.fit_transform(train_dicts)\n",
    "y_train = df_train.num.values\n",
    "y_val = df_val.num.values\n",
    "\n",
    "val_dict = df_val.to_dict(orient='records')\n",
    "X_val = dv.transform(val_dict)"
   ]
  },
  {
   "cell_type": "code",
   "execution_count": 86,
   "id": "3312ccd4-9b99-422a-b3f7-463b8709c031",
   "metadata": {},
   "outputs": [
    {
     "name": "stdout",
     "output_type": "stream",
     "text": [
      "   1 -> 0.667\n",
      "   2 -> 0.750\n",
      "   3 -> 0.868\n",
      "   4 -> 0.859\n",
      "   5 -> 0.789\n",
      "   6 -> 0.766\n",
      "  10 -> 0.750\n",
      "  15 -> 0.771\n",
      "  20 -> 0.771\n",
      "None -> 0.771\n"
     ]
    }
   ],
   "source": [
    "for d in [1,2,3,4,5,6,10,15,20, None]:\n",
    "    dt = DecisionTreeClassifier(max_depth=d)\n",
    "    dt.fit(X_train, y_train)\n",
    "    y_pred = dt.predict_proba(X_val)[:,1]\n",
    "    auc = roc_auc_score(y_val, y_pred)\n",
    "\n",
    "    print('%4s -> %.3f' % (d, auc))"
   ]
  },
  {
   "cell_type": "code",
   "execution_count": 87,
   "id": "000b4394-b360-42a8-85a8-6a4b1da18aa7",
   "metadata": {},
   "outputs": [],
   "source": [
    "#The best tree depth: 3"
   ]
  },
  {
   "cell_type": "code",
   "execution_count": 102,
   "id": "9c5c7605-e8dd-4b28-8362-9cae12932b08",
   "metadata": {},
   "outputs": [],
   "source": [
    "#let's create a dataframe of different combinations of depth and min sample leaves.\n",
    "scores = []\n",
    "\n",
    "for d in [2,3,4,5,6, 7, 10, 15, 20, None]:\n",
    "    for s in [1,2,5,10,15,20,50]:\n",
    "        dt = DecisionTreeClassifier(max_depth=d, min_samples_leaf=s)\n",
    "        dt.fit(X_train, y_train)\n",
    "        y_pred = dt.predict_proba(X_val)[:,1]\n",
    "        auc = roc_auc_score(y_val, y_pred)\n",
    "    \n",
    "        scores.append((d, s, auc))\n",
    "    "
   ]
  },
  {
   "cell_type": "code",
   "execution_count": 110,
   "id": "b22a2ba7-b7f1-42d3-9539-fdb7f33413bb",
   "metadata": {},
   "outputs": [
    {
     "data": {
      "text/html": [
       "<div>\n",
       "<style scoped>\n",
       "    .dataframe tbody tr th:only-of-type {\n",
       "        vertical-align: middle;\n",
       "    }\n",
       "\n",
       "    .dataframe tbody tr th {\n",
       "        vertical-align: top;\n",
       "    }\n",
       "\n",
       "    .dataframe thead tr th {\n",
       "        text-align: left;\n",
       "    }\n",
       "\n",
       "    .dataframe thead tr:last-of-type th {\n",
       "        text-align: right;\n",
       "    }\n",
       "</style>\n",
       "<table border=\"1\" class=\"dataframe\">\n",
       "  <thead>\n",
       "    <tr>\n",
       "      <th></th>\n",
       "      <th colspan=\"10\" halign=\"left\">auc</th>\n",
       "    </tr>\n",
       "    <tr>\n",
       "      <th>max_depth</th>\n",
       "      <th>NaN</th>\n",
       "      <th>2.0</th>\n",
       "      <th>3.0</th>\n",
       "      <th>4.0</th>\n",
       "      <th>5.0</th>\n",
       "      <th>6.0</th>\n",
       "      <th>7.0</th>\n",
       "      <th>10.0</th>\n",
       "      <th>15.0</th>\n",
       "      <th>20.0</th>\n",
       "    </tr>\n",
       "    <tr>\n",
       "      <th>min_samples_leaf</th>\n",
       "      <th></th>\n",
       "      <th></th>\n",
       "      <th></th>\n",
       "      <th></th>\n",
       "      <th></th>\n",
       "      <th></th>\n",
       "      <th></th>\n",
       "      <th></th>\n",
       "      <th></th>\n",
       "      <th></th>\n",
       "    </tr>\n",
       "  </thead>\n",
       "  <tbody>\n",
       "    <tr>\n",
       "      <th>1</th>\n",
       "      <td>0.7708</td>\n",
       "      <td>0.7500</td>\n",
       "      <td>0.8681</td>\n",
       "      <td>0.8585</td>\n",
       "      <td>0.7891</td>\n",
       "      <td>0.7873</td>\n",
       "      <td>0.7656</td>\n",
       "      <td>0.7500</td>\n",
       "      <td>0.7917</td>\n",
       "      <td>0.7708</td>\n",
       "    </tr>\n",
       "    <tr>\n",
       "      <th>2</th>\n",
       "      <td>0.7830</td>\n",
       "      <td>0.7500</td>\n",
       "      <td>0.8681</td>\n",
       "      <td>0.8585</td>\n",
       "      <td>0.7925</td>\n",
       "      <td>0.7873</td>\n",
       "      <td>0.7873</td>\n",
       "      <td>0.7830</td>\n",
       "      <td>0.7873</td>\n",
       "      <td>0.7656</td>\n",
       "    </tr>\n",
       "    <tr>\n",
       "      <th>5</th>\n",
       "      <td>0.8299</td>\n",
       "      <td>0.7500</td>\n",
       "      <td>0.8681</td>\n",
       "      <td>0.8533</td>\n",
       "      <td>0.8299</td>\n",
       "      <td>0.8342</td>\n",
       "      <td>0.8342</td>\n",
       "      <td>0.8342</td>\n",
       "      <td>0.8299</td>\n",
       "      <td>0.8342</td>\n",
       "    </tr>\n",
       "    <tr>\n",
       "      <th>10</th>\n",
       "      <td>0.8576</td>\n",
       "      <td>0.7500</td>\n",
       "      <td>0.8681</td>\n",
       "      <td>0.8576</td>\n",
       "      <td>0.8576</td>\n",
       "      <td>0.8576</td>\n",
       "      <td>0.8576</td>\n",
       "      <td>0.8576</td>\n",
       "      <td>0.8576</td>\n",
       "      <td>0.8576</td>\n",
       "    </tr>\n",
       "    <tr>\n",
       "      <th>15</th>\n",
       "      <td>0.8524</td>\n",
       "      <td>0.7500</td>\n",
       "      <td>0.8524</td>\n",
       "      <td>0.8524</td>\n",
       "      <td>0.8524</td>\n",
       "      <td>0.8524</td>\n",
       "      <td>0.8524</td>\n",
       "      <td>0.8524</td>\n",
       "      <td>0.8524</td>\n",
       "      <td>0.8524</td>\n",
       "    </tr>\n",
       "    <tr>\n",
       "      <th>20</th>\n",
       "      <td>0.8212</td>\n",
       "      <td>0.7500</td>\n",
       "      <td>0.8212</td>\n",
       "      <td>0.7569</td>\n",
       "      <td>0.7569</td>\n",
       "      <td>0.8212</td>\n",
       "      <td>0.7569</td>\n",
       "      <td>0.7569</td>\n",
       "      <td>0.8212</td>\n",
       "      <td>0.8212</td>\n",
       "    </tr>\n",
       "    <tr>\n",
       "      <th>50</th>\n",
       "      <td>0.6458</td>\n",
       "      <td>0.6806</td>\n",
       "      <td>0.6806</td>\n",
       "      <td>0.6458</td>\n",
       "      <td>0.6806</td>\n",
       "      <td>0.6806</td>\n",
       "      <td>0.6458</td>\n",
       "      <td>0.6806</td>\n",
       "      <td>0.6806</td>\n",
       "      <td>0.6806</td>\n",
       "    </tr>\n",
       "  </tbody>\n",
       "</table>\n",
       "</div>"
      ],
      "text/plain": [
       "                     auc                                                  \\\n",
       "max_depth            NaN    2.0     3.0     4.0     5.0     6.0     7.0    \n",
       "min_samples_leaf                                                           \n",
       "1                 0.7708  0.7500  0.8681  0.8585  0.7891  0.7873  0.7656   \n",
       "2                 0.7830  0.7500  0.8681  0.8585  0.7925  0.7873  0.7873   \n",
       "5                 0.8299  0.7500  0.8681  0.8533  0.8299  0.8342  0.8342   \n",
       "10                0.8576  0.7500  0.8681  0.8576  0.8576  0.8576  0.8576   \n",
       "15                0.8524  0.7500  0.8524  0.8524  0.8524  0.8524  0.8524   \n",
       "20                0.8212  0.7500  0.8212  0.7569  0.7569  0.8212  0.7569   \n",
       "50                0.6458  0.6806  0.6806  0.6458  0.6806  0.6806  0.6458   \n",
       "\n",
       "                                          \n",
       "max_depth           10.0    15.0    20.0  \n",
       "min_samples_leaf                          \n",
       "1                 0.7500  0.7917  0.7708  \n",
       "2                 0.7830  0.7873  0.7656  \n",
       "5                 0.8342  0.8299  0.8342  \n",
       "10                0.8576  0.8576  0.8576  \n",
       "15                0.8524  0.8524  0.8524  \n",
       "20                0.7569  0.8212  0.8212  \n",
       "50                0.6806  0.6806  0.6806  "
      ]
     },
     "execution_count": 110,
     "metadata": {},
     "output_type": "execute_result"
    }
   ],
   "source": [
    "columns=['max_depth', 'min_samples_leaf', 'auc']\n",
    "df_scores = pd.DataFrame(scores, columns=columns)\n",
    "df_scores_pivot = df_scores.pivot(index='min_samples_leaf', columns = ['max_depth'], values=['auc'])\n",
    "df_scores_pivot.round(4)"
   ]
  },
  {
   "cell_type": "code",
   "execution_count": 107,
   "id": "10b178a9-60d9-4da3-9622-c6cffe9917de",
   "metadata": {},
   "outputs": [
    {
     "data": {
      "image/png": "[encoded data removed]",
      "text/plain": [
       "<Figure size 1000x800 with 2 Axes>"
      ]
     },
     "metadata": {},
     "output_type": "display_data"
    }
   ],
   "source": [
    "plt.figure(figsize=(10, 8))\n",
    "sns.heatmap(df_scores_pivot, annot=True, fmt='.4f')\n",
    "plt.show()"
   ]
  },
  {
   "cell_type": "markdown",
   "id": "b4d99c17-9c74-49d6-b6dd-268b17df6d44",
   "metadata": {},
   "source": [
    "#### The final decision tree classifier model should have 5 leafs and the max depth of 3"
   ]
  },
  {
   "cell_type": "code",
   "execution_count": 118,
   "id": "12e7a030-8326-4e81-97e8-234c1c389390",
   "metadata": {},
   "outputs": [
    {
     "name": "stdout",
     "output_type": "stream",
     "text": [
      "Final DecisionTreeClassifier model roc_auc_score(y_val, y_pred)=0.8681\n"
     ]
    }
   ],
   "source": [
    "\n",
    "dt = DecisionTreeClassifier(max_depth=3, min_samples_leaf=5)\n",
    "dt.fit(X_train, y_train)\n",
    "y_pred = dt.predict_proba(X_val)[:,1]\n",
    "print(f\"Final DecisionTreeClassifier model {roc_auc_score(y_val, y_pred)=:.4}\")"
   ]
  },
  {
   "cell_type": "markdown",
   "id": "a1f380c8-bc9a-437f-bc98-bea9a779a431",
   "metadata": {},
   "source": [
    "## Ensembles and random forest"
   ]
  },
  {
   "cell_type": "code",
   "execution_count": 119,
   "id": "82548307-6e1e-4c8d-9c33-1ea5ad70ab2a",
   "metadata": {},
   "outputs": [],
   "source": [
    "from sklearn.ensemble import RandomForestClassifier"
   ]
  },
  {
   "cell_type": "code",
   "execution_count": 123,
   "id": "d8294779-5b21-4550-a872-8740f18c68eb",
   "metadata": {},
   "outputs": [],
   "source": [
    "#we will try various number of n_estimators to pick the best-performing one\n",
    "\n",
    "scores = []\n",
    "for d in [2,3, 5 , 10, 15]:\n",
    "    for n in range(10, 201, 10):\n",
    "        rf = RandomForestClassifier(n_estimators=n, max_depth=d, random_state=1)\n",
    "        rf.fit(X_train, y_train)\n",
    "        y_pred = rf.predict_proba(X_val)[:,1]\n",
    "        auc = roc_auc_score(y_val, y_pred)\n",
    "        scores.append((d, n, auc))"
   ]
  },
  {
   "cell_type": "code",
   "execution_count": 126,
   "id": "562b1773-65ff-4cdd-ab1e-ed93b66b7612",
   "metadata": {},
   "outputs": [
    {
     "data": {
      "text/html": [
       "<div>\n",
       "<style scoped>\n",
       "    .dataframe tbody tr th:only-of-type {\n",
       "        vertical-align: middle;\n",
       "    }\n",
       "\n",
       "    .dataframe tbody tr th {\n",
       "        vertical-align: top;\n",
       "    }\n",
       "\n",
       "    .dataframe thead th {\n",
       "        text-align: right;\n",
       "    }\n",
       "</style>\n",
       "<table border=\"1\" class=\"dataframe\">\n",
       "  <thead>\n",
       "    <tr style=\"text-align: right;\">\n",
       "      <th></th>\n",
       "      <th>max_depth</th>\n",
       "      <th>n_estimators</th>\n",
       "      <th>auc</th>\n",
       "    </tr>\n",
       "  </thead>\n",
       "  <tbody>\n",
       "    <tr>\n",
       "      <th>0</th>\n",
       "      <td>2</td>\n",
       "      <td>10</td>\n",
       "      <td>0.916667</td>\n",
       "    </tr>\n",
       "    <tr>\n",
       "      <th>1</th>\n",
       "      <td>2</td>\n",
       "      <td>20</td>\n",
       "      <td>0.901042</td>\n",
       "    </tr>\n",
       "    <tr>\n",
       "      <th>2</th>\n",
       "      <td>2</td>\n",
       "      <td>30</td>\n",
       "      <td>0.894097</td>\n",
       "    </tr>\n",
       "    <tr>\n",
       "      <th>3</th>\n",
       "      <td>2</td>\n",
       "      <td>40</td>\n",
       "      <td>0.907986</td>\n",
       "    </tr>\n",
       "    <tr>\n",
       "      <th>4</th>\n",
       "      <td>2</td>\n",
       "      <td>50</td>\n",
       "      <td>0.907986</td>\n",
       "    </tr>\n",
       "  </tbody>\n",
       "</table>\n",
       "</div>"
      ],
      "text/plain": [
       "   max_depth  n_estimators       auc\n",
       "0          2            10  0.916667\n",
       "1          2            20  0.901042\n",
       "2          2            30  0.894097\n",
       "3          2            40  0.907986\n",
       "4          2            50  0.907986"
      ]
     },
     "execution_count": 126,
     "metadata": {},
     "output_type": "execute_result"
    }
   ],
   "source": [
    "columns=[\"max_depth\", \"n_estimators\",\"auc\"]\n",
    "df_scores = pd.DataFrame(scores, columns=columns)\n",
    "df_scores.head()"
   ]
  },
  {
   "cell_type": "code",
   "execution_count": 127,
   "id": "6002e1e4-6b89-4ab3-a53e-bbaa4fe9dc7e",
   "metadata": {},
   "outputs": [
    {
     "data": {
      "image/png": "[encoded data removed]",
      "text/plain": [
       "<Figure size 640x480 with 1 Axes>"
      ]
     },
     "metadata": {},
     "output_type": "display_data"
    }
   ],
   "source": [
    "lines = []\n",
    "for d in [2,3, 5 , 10, 15]:\n",
    "    df_subset = df_scores[df_scores.max_depth == d]\n",
    "    line, = plt.plot(df_subset.n_estimators, df_subset.auc, label=f\"max_depth={d}\")\n",
    "    lines.append(line)\n",
    "plt.legend(handles=lines)\n",
    "plt.grid()"
   ]
  },
  {
   "cell_type": "markdown",
   "id": "05d359af-d8e6-4ff5-b796-095aadc75b8f",
   "metadata": {},
   "source": [
    "#### For this model the best to have max_depth=10"
   ]
  },
  {
   "cell_type": "code",
   "execution_count": 142,
   "id": "80af0bfa-3b1e-48f5-a1a5-a042a2dd5149",
   "metadata": {},
   "outputs": [],
   "source": [
    "max_depth = 10 #best one\n",
    "\n",
    "#We are limiting number of estimators to be within 5 to 45 as at this point the model performs best\n",
    "\n",
    "scores = []\n",
    "for s in [1,3,5,10,50]:\n",
    "    for n in range(5, 46, 1):\n",
    "        rf = RandomForestClassifier(n_estimators=n, max_depth=max_depth, random_state=1, min_samples_leaf=s)\n",
    "        rf.fit(X_train, y_train)\n",
    "        y_pred = rf.predict_proba(X_val)[:,1]\n",
    "        auc = roc_auc_score(y_val, y_pred)\n",
    "        scores.append((s, n, auc))"
   ]
  },
  {
   "cell_type": "code",
   "execution_count": 143,
   "id": "57eedfcf-a7e8-4db9-9a1e-3b14754fadf8",
   "metadata": {},
   "outputs": [],
   "source": [
    "columns=[\"min_sample_leaf\", \"n_estimators\",\"auc\"]\n",
    "df_scores = pd.DataFrame(scores, columns=columns)"
   ]
  },
  {
   "cell_type": "code",
   "execution_count": 144,
   "id": "3d64aab5-8ca8-4c70-977c-5c376a381867",
   "metadata": {},
   "outputs": [
    {
     "data": {
      "text/plain": [
       "[(1, 'black'), (3, 'blue'), (5, 'orange'), (10, 'red'), (50, 'gray')]"
      ]
     },
     "execution_count": 144,
     "metadata": {},
     "output_type": "execute_result"
    }
   ],
   "source": [
    "colors = ['black', 'blue', 'orange', 'red', 'gray']\n",
    "min_sample_leaf_values = [1,3,5,10,50]\n",
    "\n",
    "list(zip(min_sample_leaf_values, colors))"
   ]
  },
  {
   "cell_type": "code",
   "execution_count": 141,
   "id": "3ca8d4fe-0dbe-4e19-8c42-6a3814c85371",
   "metadata": {},
   "outputs": [
    {
     "data": {
      "image/png": "[encoded data removed]",
      "text/plain": [
       "<Figure size 640x480 with 1 Axes>"
      ]
     },
     "metadata": {},
     "output_type": "display_data"
    }
   ],
   "source": [
    "lines = []\n",
    "for s, col in zip(min_sample_leaf_values, colors):\n",
    "    df_subset = df_scores[df_scores.min_sample_leaf == s]\n",
    "    line, = plt.plot(df_subset.n_estimators, df_subset.auc, label=f\"min_sample_leaf={s}\", color=col)\n",
    "    lines.append(line)\n",
    "plt.legend(handles=lines)\n",
    "plt.grid()"
   ]
  },
  {
   "cell_type": "markdown",
   "id": "bf76beb3-631b-41dc-8a49-4cef12600be7",
   "metadata": {},
   "source": [
    "#### Min_sample_leaf = 1 resulsts in the best model"
   ]
  },
  {
   "cell_type": "markdown",
   "id": "9ccf0f60-310a-42c4-a41f-c9a4c0cbd307",
   "metadata": {},
   "source": [
    "#### The final model"
   ]
  },
  {
   "cell_type": "code",
   "execution_count": 147,
   "id": "0005c4ad-919d-4e8a-b76a-69c718bfbdff",
   "metadata": {},
   "outputs": [
    {
     "name": "stdout",
     "output_type": "stream",
     "text": [
      "Final DecisionTreeClassifier model roc_auc_score(y_val, y_pred)=0.9453\n"
     ]
    }
   ],
   "source": [
    "rf = RandomForestClassifier(n_estimators=13, max_depth=10, random_state=1, min_samples_leaf=1, n_jobs=-1)\n",
    "rf.fit(X_train, y_train)\n",
    "y_pred = rf.predict_proba(X_val)[:,1]\n",
    "print(f\"Final DecisionTreeClassifier model {roc_auc_score(y_val, y_pred)=:.4}\")"
   ]
  },
  {
   "cell_type": "markdown",
   "id": "94596f40-752e-4a6d-b9f5-72f1625d897f",
   "metadata": {},
   "source": [
    "## Gradient boosting and XGBoost"
   ]
  },
  {
   "cell_type": "code",
   "execution_count": 174,
   "id": "cc9167e9-283f-41e1-bab7-f4d0eabe3799",
   "metadata": {},
   "outputs": [],
   "source": [
    "import xgboost as xgb\n",
    "import re\n",
    "\n",
    "from IPython.display import clear_output"
   ]
  },
  {
   "cell_type": "code",
   "execution_count": 175,
   "id": "47c7ac0b-ed8b-4ec0-a62e-3393c38531de",
   "metadata": {},
   "outputs": [],
   "source": [
    "def parse_output(output:str)->pd.DataFrame:\n",
    "    #print(output)\n",
    "    pattern = r\"\\[(\\d+)\\].+train-auc:([0-9.]+)\\tval-auc:([0-9.]+)\"\n",
    "    results = []\n",
    "    for line in output.strip().split('\\n'):\n",
    "        matches = re.findall(pattern, line)\n",
    "        it, train, val = matches.pop()\n",
    "        results.append((int(it), float(train), float(val)))\n",
    "    return pd.DataFrame(results, columns=['num_iter', 'train_auc', 'val_auc'])"
   ]
  },
  {
   "cell_type": "code",
   "execution_count": 176,
   "id": "e944cea6-e1b1-4f61-9cd9-2fe6b681c114",
   "metadata": {},
   "outputs": [],
   "source": [
    "train_dicts=df_train[categorical_columns + numeric_columns].to_dict(orient='records')\n",
    "\n",
    "dv = DictVectorizer(sparse=False)\n",
    "X_train = dv.fit_transform(train_dicts)\n",
    "y_train = df_train.num.values\n",
    "y_val = df_val.num.values\n",
    "\n",
    "val_dict = df_val.to_dict(orient='records')\n",
    "X_val = dv.transform(val_dict)"
   ]
  },
  {
   "cell_type": "code",
   "execution_count": 177,
   "id": "74488145-8465-44df-9655-7a3cbef00405",
   "metadata": {},
   "outputs": [],
   "source": [
    "features = list(dv.get_feature_names_out())\n",
    "dtrain = xgb.DMatrix(X_train, label=y_train, feature_names=features)\n",
    "dval = xgb.DMatrix(X_val, label=y_val, feature_names=features)"
   ]
  },
  {
   "cell_type": "markdown",
   "id": "8b5172ab-4f81-43c9-ac56-195dedc452a5",
   "metadata": {},
   "source": [
    "Lets include evaluation (watchlist) to monitor what is going on at each step"
   ]
  },
  {
   "cell_type": "code",
   "execution_count": 178,
   "id": "2400ec96-8ce0-4147-886a-6c7ff860ef55",
   "metadata": {},
   "outputs": [],
   "source": [
    "watchlist = [(dtrain, 'train'), (dval, 'val')]"
   ]
  },
  {
   "cell_type": "code",
   "execution_count": 416,
   "id": "13bae3ff-2a09-436f-8168-9281a56cbdd6",
   "metadata": {},
   "outputs": [],
   "source": [
    "%%capture output\n",
    "\n",
    "xgb_params = {\n",
    "    'eta':0.1,\n",
    "    'max_depth': 3,\n",
    "    'min_child_weight':1,\n",
    "    'subsample': 0.4,\n",
    "    'objective':'binary:logistic',\n",
    "    'seed':1,\n",
    "    'verbosity':1,\n",
    "    \"eval_metric\": 'auc'\n",
    "}\n",
    "    \n",
    "\n",
    "model = xgb.train(xgb_params, dtrain, evals = watchlist, num_boost_round=200, verbose_eval=5)\n"
   ]
  },
  {
   "cell_type": "code",
   "execution_count": 417,
   "id": "85f9bd44-ccf1-41c5-a91a-7d5dfddbbb95",
   "metadata": {},
   "outputs": [],
   "source": [
    "s= output.stdout"
   ]
  },
  {
   "cell_type": "code",
   "execution_count": 418,
   "id": "f84fef2a-57ab-45f0-9d30-10edb2f1d903",
   "metadata": {},
   "outputs": [],
   "source": [
    "df_score = parse_output(s)\n",
    "#df_score"
   ]
  },
  {
   "cell_type": "code",
   "execution_count": 419,
   "id": "b9cef12d-648e-4441-afdd-2b97cde1ce81",
   "metadata": {},
   "outputs": [
    {
     "data": {
      "image/png": "[encoded data removed]",
      "text/plain": [
       "<Figure size 640x480 with 1 Axes>"
      ]
     },
     "metadata": {},
     "output_type": "display_data"
    }
   ],
   "source": [
    "#plt.plot(df_score.num_iter, df_score.train_auc, label='train')\n",
    "plt.plot(df_score.num_iter, df_score.val_auc, label='val')\n",
    "plt.legend()\n",
    "plt.grid()"
   ]
  },
  {
   "cell_type": "markdown",
   "id": "470111ef-5784-4716-8aa7-c6f7e38f9f4e",
   "metadata": {},
   "source": [
    "Tuning the following parameters:\n",
    "\n",
    "* eta\n",
    "* max_depth\n",
    "* min_child_weight\n",
    "* subsample"
   ]
  },
  {
   "cell_type": "markdown",
   "id": "c3249b68-e68d-4c26-9d12-9373bf57ca2e",
   "metadata": {},
   "source": [
    "#### Let's tune ETA parameter"
   ]
  },
  {
   "cell_type": "code",
   "execution_count": 284,
   "id": "a8c24aca-147c-48ee-a049-b393bae8ad8c",
   "metadata": {},
   "outputs": [],
   "source": [
    "etas=['0.3', '1.0', '0.1', '0.05', '0.01']"
   ]
  },
  {
   "cell_type": "code",
   "execution_count": 315,
   "id": "b55d55ae-3df4-4f43-bfb0-644c611160cb",
   "metadata": {},
   "outputs": [],
   "source": [
    "%%capture output\n",
    "\n",
    "for eta in etas:\n",
    "    xgb_params = {\n",
    "        'eta':eta,\n",
    "         'max_depth': 6,\n",
    "        'min_child_weight':1,\n",
    "        \n",
    "        'seed':1,\n",
    "        'verbosity':1,\n",
    "        \n",
    "        'objective':'binary:logistic',\n",
    "        \"eval_metric\": 'auc'\n",
    "    }\n",
    "    print(f\"<<--eta={eta}-->>\")\n",
    "    model = xgb.train(xgb_params, dtrain, evals = watchlist, num_boost_round=200, verbose_eval=5)\n",
    "    print(\"<<--end-->>\")"
   ]
  },
  {
   "cell_type": "code",
   "execution_count": 317,
   "id": "b6ef8953-8feb-4e48-ad9a-1359ded86400",
   "metadata": {},
   "outputs": [],
   "source": [
    "def parse_outputs(output:str, key_name:str)->pd.DataFrame:\n",
    "    scores={}\n",
    "    results = []\n",
    "    \n",
    "    #print(output)\n",
    "    pattern = r\"\\[(\\d+)\\].+train-auc:([0-9.]+)\\tval-auc:([0-9.]+)\"\n",
    "    start_key_re = re.compile(f\"<<--{key_name}=([0-9.]+)-->>\").pattern\n",
    "    \n",
    "    end_key_re = r\"<<--end-->>\"\n",
    "    \n",
    "    current_key = \"\"\n",
    "    for line in output.strip().split('\\n'):\n",
    "        matches = re.findall(start_key_re, line)\n",
    "        if(matches):\n",
    "            #found the beginning of a new eta\n",
    "            current_key = matches.pop()\n",
    "            results.clear()\n",
    "            continue\n",
    "        matches = re.findall(pattern, line)\n",
    "        if(matches):\n",
    "            it, train, val = matches.pop()\n",
    "            results.append((int(it), float(train), float(val)))\n",
    "            continue\n",
    "        matches = re.findall(end_key_re, line)\n",
    "        if(matches):\n",
    "            scores[f'{key_name}={current_key}'] = pd.DataFrame(results, columns=['num_iter', 'train_auc', 'val_auc'])\n",
    "    \n",
    "    return scores"
   ]
  },
  {
   "cell_type": "code",
   "execution_count": 318,
   "id": "dd0e8bfc-2c1f-4fbc-8bf3-08e3e6d0c813",
   "metadata": {},
   "outputs": [],
   "source": [
    "scores_etas = parse_outputs(output.stdout, 'eta')"
   ]
  },
  {
   "cell_type": "code",
   "execution_count": 319,
   "id": "f7d4810a-a700-4698-87bf-ac390b9f0d14",
   "metadata": {},
   "outputs": [
    {
     "data": {
      "text/plain": [
       "dict_keys(['eta=0.3', 'eta=1.0', 'eta=0.1', 'eta=0.05', 'eta=0.01'])"
      ]
     },
     "execution_count": 319,
     "metadata": {},
     "output_type": "execute_result"
    }
   ],
   "source": [
    "scores_etas.keys()"
   ]
  },
  {
   "cell_type": "code",
   "execution_count": 320,
   "id": "2ad56fa7-c2d9-4639-85b4-0b5889a7b954",
   "metadata": {},
   "outputs": [
    {
     "data": {
      "image/png": "[encoded data removed]",
      "text/plain": [
       "<Figure size 640x480 with 1 Axes>"
      ]
     },
     "metadata": {},
     "output_type": "display_data"
    }
   ],
   "source": [
    "for eta in scores_etas.keys():\n",
    "    df_score = scores_etas[eta]\n",
    "    plt.plot(df_score.num_iter, df_score.val_auc, label=eta)\n",
    "plt.legend()\n",
    "plt.grid()"
   ]
  },
  {
   "cell_type": "markdown",
   "id": "8d871259-a170-4b83-9255-3ec67cc2b5d8",
   "metadata": {},
   "source": [
    "Based on the graphs produced the best __eta is 0.1__ with _100_ iterations it learns not as fast as eta 0.3, but performs better with at 100 iterations. Other eta parameter values do not perform as good"
   ]
  },
  {
   "cell_type": "markdown",
   "id": "21ca3e7a-fd10-4bed-af8a-353c62ea272d",
   "metadata": {},
   "source": [
    "#### Tuning max_depth"
   ]
  },
  {
   "cell_type": "code",
   "execution_count": 343,
   "id": "4cbcc272-0c7d-4d35-a341-f2163c85c0cb",
   "metadata": {},
   "outputs": [],
   "source": [
    "max_depth_values = [2,3,5,7,9,10]"
   ]
  },
  {
   "cell_type": "code",
   "execution_count": 344,
   "id": "2ffccff0-f357-4c06-87b3-301b1e0086cc",
   "metadata": {},
   "outputs": [],
   "source": [
    "%%capture output\n",
    "\n",
    "for md in max_depth_values:\n",
    "    xgb_params = {\n",
    "        'eta':0.1,\n",
    "        'max_depth': md,\n",
    "        'min_child_weight':1,\n",
    "        \n",
    "        'seed':1,\n",
    "        'verbosity':1,\n",
    "        \n",
    "        'objective':'binary:logistic',\n",
    "        \"eval_metric\": 'auc'\n",
    "    }\n",
    "    print(f\"<<--max_depth={md}-->>\")\n",
    "    model = xgb.train(xgb_params, dtrain, evals = watchlist, num_boost_round=200, verbose_eval=5)\n",
    "    print(\"<<--end-->>\")"
   ]
  },
  {
   "cell_type": "code",
   "execution_count": 345,
   "id": "04bc7b0b-7798-4bd1-9817-20befa231728",
   "metadata": {},
   "outputs": [],
   "source": [
    "scores_max_depth = parse_outputs(output.stdout, 'max_depth')"
   ]
  },
  {
   "cell_type": "code",
   "execution_count": 346,
   "id": "efe4e8c1-10c6-4add-ab89-03b8b24c2423",
   "metadata": {},
   "outputs": [
    {
     "data": {
      "text/plain": [
       "dict_keys(['max_depth=2', 'max_depth=3', 'max_depth=5', 'max_depth=7', 'max_depth=9', 'max_depth=10'])"
      ]
     },
     "execution_count": 346,
     "metadata": {},
     "output_type": "execute_result"
    }
   ],
   "source": [
    "scores_max_depth.keys()"
   ]
  },
  {
   "cell_type": "code",
   "execution_count": 347,
   "id": "bd1fe0a0-d93e-4875-9156-842752db036c",
   "metadata": {},
   "outputs": [
    {
     "data": {
      "image/png": "[encoded data removed]",
      "text/plain": [
       "<Figure size 640x480 with 1 Axes>"
      ]
     },
     "metadata": {},
     "output_type": "display_data"
    }
   ],
   "source": [
    "for max_depth in scores_max_depth.keys():\n",
    "    df_score = scores_max_depth[max_depth]\n",
    "    plt.plot(df_score.num_iter, df_score.val_auc, label=max_depth)\n",
    "plt.legend()\n",
    "plt.ylim(0.8, 0.95)\n",
    "plt.grid()"
   ]
  },
  {
   "cell_type": "markdown",
   "id": "6d9c7668-fca1-4a98-b074-834f83752442",
   "metadata": {},
   "source": [
    "Conclusion: we experimented with various max_depth values - the best overall is __max_depth=3__, while it learns slower, it gives the best performance"
   ]
  },
  {
   "cell_type": "markdown",
   "id": "5e0a86ff-301e-4b85-a599-74d5d77974fb",
   "metadata": {},
   "source": [
    "#### Tuning min child weight"
   ]
  },
  {
   "cell_type": "code",
   "execution_count": 383,
   "id": "1808c56e-cb6b-47c8-aca8-0b9760370635",
   "metadata": {},
   "outputs": [
    {
     "data": {
      "text/plain": [
       "[1, 3, 5, 7]"
      ]
     },
     "execution_count": 383,
     "metadata": {},
     "output_type": "execute_result"
    }
   ],
   "source": [
    "min_child_weight = [1, 3, 5, 7]\n",
    "min_child_weight"
   ]
  },
  {
   "cell_type": "code",
   "execution_count": 384,
   "id": "7268f2b2-ab98-420d-a7a2-e83f527bb6d4",
   "metadata": {},
   "outputs": [],
   "source": [
    "%%capture output\n",
    "\n",
    "for mcw in min_child_weight:\n",
    "    xgb_params = {\n",
    "        'eta':0.1,\n",
    "        'max_depth': 3,\n",
    "        'min_child_weight':mcw,\n",
    "        \n",
    "        'seed':1,\n",
    "        'verbosity':1,\n",
    "        \n",
    "        'objective':'binary:logistic',\n",
    "        \"eval_metric\": 'auc'\n",
    "    }\n",
    "    print(f\"<<--min_child_weight={mcw}-->>\")\n",
    "    model = xgb.train(xgb_params, dtrain, evals = watchlist, num_boost_round=200, verbose_eval=5)\n",
    "    print(\"<<--end-->>\")"
   ]
  },
  {
   "cell_type": "code",
   "execution_count": 385,
   "id": "558d8ec3-97ba-4342-921e-ed4b5dc366b6",
   "metadata": {},
   "outputs": [
    {
     "data": {
      "text/plain": [
       "dict_keys(['min_child_weight=1', 'min_child_weight=3', 'min_child_weight=5', 'min_child_weight=7'])"
      ]
     },
     "execution_count": 385,
     "metadata": {},
     "output_type": "execute_result"
    }
   ],
   "source": [
    "scores_min_child_weight = parse_outputs(output.stdout, 'min_child_weight')\n",
    "scores_min_child_weight.keys()"
   ]
  },
  {
   "cell_type": "code",
   "execution_count": 386,
   "id": "53e60946-98cb-4d13-ac8e-c2ed0477cfbb",
   "metadata": {},
   "outputs": [
    {
     "data": {
      "image/png": "[encoded data removed]",
      "text/plain": [
       "<Figure size 640x480 with 1 Axes>"
      ]
     },
     "metadata": {},
     "output_type": "display_data"
    }
   ],
   "source": [
    "for mcw in scores_min_child_weight.keys():\n",
    "    df_score = scores_min_child_weight[mcw]\n",
    "    plt.plot(df_score.num_iter, df_score.val_auc, label=mcw)\n",
    "plt.legend()\n",
    "plt.ylim(0.8, 0.95)\n",
    "plt.grid()"
   ]
  },
  {
   "cell_type": "markdown",
   "id": "e7d853ae-e2e5-4501-8c31-8dbf8667d27c",
   "metadata": {},
   "source": [
    "Conclusion: we experimented with various min_child_weight values - the best overall is __min_child_weight=1__, while it learns slower, it gives the best performance.\n",
    "Any values above 7 were producing unsatisfactory results (they are not displayed in the diagram)\n",
    "\n"
   ]
  },
  {
   "cell_type": "markdown",
   "id": "4d658b93-75cc-45c9-a101-962b94f63ca5",
   "metadata": {},
   "source": [
    "#### Tuning subsample"
   ]
  },
  {
   "cell_type": "code",
   "execution_count": 404,
   "id": "fbcd5b99-b676-429d-8092-f891ddf31fc7",
   "metadata": {},
   "outputs": [],
   "source": [
    "subsample = [0.3, 0.4, 1]\n",
    "#eliminating 0.2, 0.5, 0.6, 0.8, due to producing degrading results"
   ]
  },
  {
   "cell_type": "code",
   "execution_count": 405,
   "id": "e032813f-83ce-491e-943c-fd55c691f064",
   "metadata": {},
   "outputs": [],
   "source": [
    "%%capture output\n",
    "\n",
    "for subs in subsample:\n",
    "    xgb_params = {\n",
    "        'eta':0.1,\n",
    "        'max_depth': 3,\n",
    "        'min_child_weight':1,\n",
    "        'subsample': subs,\n",
    "        \n",
    "        'seed':1,\n",
    "        'verbosity':1,\n",
    "        \n",
    "        'objective':'binary:logistic',\n",
    "        \"eval_metric\": 'auc'\n",
    "    }\n",
    "    print(f\"<<--subsample={subs}-->>\")\n",
    "    model = xgb.train(xgb_params, dtrain, evals = watchlist, num_boost_round=200, verbose_eval=5)\n",
    "    print(\"<<--end-->>\")"
   ]
  },
  {
   "cell_type": "code",
   "execution_count": 406,
   "id": "7ec9ccd4-65ab-4c1b-8c98-b6c591e27720",
   "metadata": {},
   "outputs": [
    {
     "data": {
      "text/plain": [
       "dict_keys(['subsample=0.3', 'subsample=0.4', 'subsample=1'])"
      ]
     },
     "execution_count": 406,
     "metadata": {},
     "output_type": "execute_result"
    }
   ],
   "source": [
    "scores_subsample = parse_outputs(output.stdout, 'subsample')\n",
    "scores_subsample.keys()"
   ]
  },
  {
   "cell_type": "code",
   "execution_count": 407,
   "id": "299780c8-d50c-4bc1-81fe-1e916f8e474f",
   "metadata": {},
   "outputs": [
    {
     "data": {
      "image/png": "[encoded data removed]",
      "text/plain": [
       "<Figure size 640x480 with 1 Axes>"
      ]
     },
     "metadata": {},
     "output_type": "display_data"
    }
   ],
   "source": [
    "for subs in scores_subsample.keys():\n",
    "    df_score = scores_subsample[subs]\n",
    "    plt.plot(df_score.num_iter, df_score.val_auc, label=subs)\n",
    "plt.legend()\n",
    "plt.ylim(0.84, 0.95)\n",
    "plt.grid()"
   ]
  },
  {
   "cell_type": "markdown",
   "id": "20efd333-bbc4-420f-9799-0cdcfda4ce17",
   "metadata": {},
   "source": [
    "Conclusion: we experimented with various subsample values - the best overall is __subsample=0.4__"
   ]
  },
  {
   "cell_type": "markdown",
   "id": "1dae6c64-f687-43d4-9ddd-e4bb01973275",
   "metadata": {},
   "source": [
    "#### Let's tune alpha"
   ]
  },
  {
   "cell_type": "code",
   "execution_count": 434,
   "id": "d64cfe59-cd67-4985-8529-f19cab9c487d",
   "metadata": {},
   "outputs": [],
   "source": [
    "alpha = [0, 0.01, 0.1, 0.5, 1, 2]\n",
    "# eliminated 100, 5, 10 due to producing an unsatisfactory results"
   ]
  },
  {
   "cell_type": "code",
   "execution_count": 435,
   "id": "a07dbafe-9f40-46e5-8254-50cf48357044",
   "metadata": {},
   "outputs": [],
   "source": [
    "%%capture output\n",
    "\n",
    "for a in alpha:\n",
    "    xgb_params = {\n",
    "        'eta':0.1,\n",
    "        'max_depth': 3,\n",
    "        'min_child_weight':1,\n",
    "        'subsample': 0.4,\n",
    "        'alpha': a,\n",
    "        \n",
    "        'seed':1,\n",
    "        'verbosity':1,\n",
    "        \n",
    "        'objective':'binary:logistic',\n",
    "        \"eval_metric\": 'auc'\n",
    "    }\n",
    "    print(f\"<<--alpha={a}-->>\")\n",
    "    model = xgb.train(xgb_params, dtrain, evals = watchlist, num_boost_round=200, verbose_eval=5)\n",
    "    print(\"<<--end-->>\")"
   ]
  },
  {
   "cell_type": "code",
   "execution_count": 436,
   "id": "4435f0f6-fb41-4459-bcb5-c1f3caffcf31",
   "metadata": {},
   "outputs": [
    {
     "data": {
      "text/plain": [
       "dict_keys(['alpha=0', 'alpha=0.01', 'alpha=0.1', 'alpha=0.5', 'alpha=1', 'alpha=2'])"
      ]
     },
     "execution_count": 436,
     "metadata": {},
     "output_type": "execute_result"
    }
   ],
   "source": [
    "scores_alpha = parse_outputs(output.stdout, 'alpha')\n",
    "scores_alpha.keys()"
   ]
  },
  {
   "cell_type": "code",
   "execution_count": 441,
   "id": "7ae5a673-0084-42e0-857d-e08a7cae13c6",
   "metadata": {},
   "outputs": [
    {
     "data": {
      "image/png": "[encoded data removed]",
      "text/plain": [
       "<Figure size 640x480 with 1 Axes>"
      ]
     },
     "metadata": {},
     "output_type": "display_data"
    }
   ],
   "source": [
    "for a in scores_alpha.keys():\n",
    "    df_score = scores_alpha[a]\n",
    "    plt.plot(df_score.num_iter, df_score.val_auc, label=a)\n",
    "plt.legend()\n",
    "plt.ylim(0.9, 0.95)\n",
    "plt.grid()"
   ]
  },
  {
   "cell_type": "markdown",
   "id": "1fd9cb59-3593-4ae6-a210-321e89ac3c94",
   "metadata": {},
   "source": [
    "Conclusion: we experimented with various alpha values - the best overall is __alpha=1__"
   ]
  },
  {
   "cell_type": "markdown",
   "id": "d7e634d8-5668-4162-8a4d-75af8ea7f1af",
   "metadata": {},
   "source": [
    "### The final model for XGBoost"
   ]
  },
  {
   "cell_type": "code",
   "execution_count": 460,
   "id": "d9dd19c1-79d3-4314-992c-311994ee8c91",
   "metadata": {},
   "outputs": [
    {
     "name": "stdout",
     "output_type": "stream",
     "text": [
      "[0]\ttrain-auc:0.86653\tval-auc:0.74913\n",
      "[5]\ttrain-auc:0.92757\tval-auc:0.87066\n",
      "[10]\ttrain-auc:0.93673\tval-auc:0.84722\n",
      "[15]\ttrain-auc:0.94273\tval-auc:0.88021\n",
      "[20]\ttrain-auc:0.94458\tval-auc:0.88889\n",
      "[25]\ttrain-auc:0.94873\tval-auc:0.89583\n",
      "[30]\ttrain-auc:0.95331\tval-auc:0.90799\n",
      "[35]\ttrain-auc:0.95680\tval-auc:0.93403\n",
      "[40]\ttrain-auc:0.95746\tval-auc:0.93056\n",
      "[45]\ttrain-auc:0.95931\tval-auc:0.93924\n",
      "[50]\ttrain-auc:0.96051\tval-auc:0.94444\n"
     ]
    }
   ],
   "source": [
    "xgb_params = {\n",
    "        'eta':0.1,\n",
    "        'max_depth': 3,\n",
    "        'min_child_weight':1,\n",
    "        'subsample': 0.4,\n",
    "        'alpha': 1,\n",
    "        \n",
    "        'seed':1,\n",
    "        'verbosity':1,\n",
    "        \n",
    "        'objective':'binary:logistic',\n",
    "        \"eval_metric\": 'auc'\n",
    "    }\n",
    "model = xgb.train(xgb_params, dtrain, evals = watchlist, num_boost_round=51, verbose_eval=5)\n"
   ]
  },
  {
   "cell_type": "code",
   "execution_count": 461,
   "id": "4c6d5b23-c04f-474a-8730-d45a3a5bf0ac",
   "metadata": {},
   "outputs": [
    {
     "name": "stdout",
     "output_type": "stream",
     "text": [
      "Final DecisionTreeClassifier model roc_auc_score(y_val, y_pred)=0.9444\n"
     ]
    }
   ],
   "source": [
    "y_pred = model.predict(dval)\n",
    "print(f\"Final DecisionTreeClassifier model {roc_auc_score(y_val, y_pred)=:.4}\")"
   ]
  },
  {
   "cell_type": "markdown",
   "id": "39327bb1-102b-4555-b3ff-e89dbcbdc588",
   "metadata": {},
   "source": [
    "#### At 51 iterations our XGBoost model on validation dataset is 0.9444 "
   ]
  },
  {
   "cell_type": "code",
   "execution_count": null,
   "id": "a75fa611-1c7f-4c22-ac74-ccbaf709d65a",
   "metadata": {},
   "outputs": [],
   "source": []
  }
 ],
 "metadata": {
  "kernelspec": {
   "display_name": "Python 3 (ipykernel)",
   "language": "python",
   "name": "python3"
  },
  "language_info": {
   "codemirror_mode": {
    "name": "ipython",
    "version": 3
   },
   "file_extension": ".py",
   "mimetype": "text/x-python",
   "name": "python",
   "nbconvert_exporter": "python",
   "pygments_lexer": "ipython3",
   "version": "3.11.10"
  }
 },
 "nbformat": 4,
 "nbformat_minor": 5
}
