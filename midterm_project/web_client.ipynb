{
 "cells": [
  {
   "cell_type": "code",
   "execution_count": 1,
   "id": "5a664c7b-0f3e-4cfb-a20a-38550cdd03bd",
   "metadata": {},
   "outputs": [],
   "source": [
    "import requests"
   ]
  },
  {
   "cell_type": "code",
   "execution_count": 2,
   "id": "d3c15281-f678-467a-bb80-dd4acbfe34e4",
   "metadata": {},
   "outputs": [],
   "source": [
    "url = \"http://localhost:9696/predict\""
   ]
  },
  {
   "cell_type": "code",
   "execution_count": 7,
   "id": "1f380459-f24a-4e93-9fb3-e4692275f11e",
   "metadata": {},
   "outputs": [],
   "source": [
    "# SAMPLE DATA TO SEND TO THE API (first line is the dictionary, the following line is the diagnosis (0 - no, 1 - yes) from the source data\n",
    "# {\"sex\": \"1\", \"cp\": \"2\", \"fbs\": \"0\", \"restecg\": \"0\", \"exang\": \"0\", \"slope\": \"1\", \"ca\": \"0\", \"thal\": \"7\", \"age\": 54, \"trestbps\": 108, \"chol\": 309, \"thalach\": 156, \"oldpeak\": 0.0}\n",
    "# 0\n",
    "# {\"sex\": \"0\", \"cp\": \"2\", \"fbs\": \"0\", \"restecg\": \"2\", \"exang\": \"0\", \"slope\": \"2\", \"ca\": \"0\", \"thal\": \"3\", \"age\": 55, \"trestbps\": 135, \"chol\": 250, \"thalach\": 161, \"oldpeak\": 1.4}\n",
    "# 0\n",
    "# {\"sex\": \"0\", \"cp\": \"4\", \"fbs\": \"1\", \"restecg\": \"0\", \"exang\": \"1\", \"slope\": \"2\", \"ca\": \"2\", \"thal\": \"7\", \"age\": 66, \"trestbps\": 178, \"chol\": 228, \"thalach\": 165, \"oldpeak\": 1.0}\n",
    "# 1\n",
    "# {\"sex\": \"0\", \"cp\": \"3\", \"fbs\": \"0\", \"restecg\": \"0\", \"exang\": \"0\", \"slope\": \"1\", \"ca\": \"0\", \"thal\": \"3\", \"age\": 37, \"trestbps\": 120, \"chol\": 215, \"thalach\": 170, \"oldpeak\": 0.0}\n",
    "# 0\n",
    "# {\"sex\": \"1\", \"cp\": \"2\", \"fbs\": \"0\", \"restecg\": \"2\", \"exang\": \"0\", \"slope\": \"1\", \"ca\": \"0\", \"thal\": \"3\", \"age\": 29, \"trestbps\": 130, \"chol\": 204, \"thalach\": 202, \"oldpeak\": 0.0}\n",
    "# 0\n",
    "# {\"sex\": \"1\", \"cp\": \"4\", \"fbs\": \"0\", \"restecg\": \"2\", \"exang\": \"1\", \"slope\": \"2\", \"ca\": \"2\", \"thal\": \"3\", \"age\": 54, \"trestbps\": 122, \"chol\": 286, \"thalach\": 116, \"oldpeak\": 3.2}\n",
    "# 1\n",
    "# {\"sex\": \"1\", \"cp\": \"2\", \"fbs\": \"0\", \"restecg\": \"0\", \"exang\": \"0\", \"slope\": \"1\", \"ca\": \"0\", \"thal\": \"3\", \"age\": 44, \"trestbps\": 120, \"chol\": 220, \"thalach\": 170, \"oldpeak\": 0.0}\n",
    "# 0\n",
    "# {\"sex\": \"1\", \"cp\": \"4\", \"fbs\": \"0\", \"restecg\": \"2\", \"exang\": \"0\", \"slope\": \"1\", \"ca\": \"1\", \"thal\": \"3\", \"age\": 44, \"trestbps\": 110, \"chol\": 197, \"thalach\": 177, \"oldpeak\": 0.0}\n",
    "# 1\n",
    "# {\"sex\": \"1\", \"cp\": \"4\", \"fbs\": \"0\", \"restecg\": \"0\", \"exang\": \"1\", \"slope\": \"2\", \"ca\": \"2\", \"thal\": \"7\", \"age\": 62, \"trestbps\": 120, \"chol\": 267, \"thalach\": 99, \"oldpeak\": 1.8}\n",
    "# 1"
   ]
  },
  {
   "cell_type": "code",
   "execution_count": 8,
   "id": "8bd393e3-d537-422c-8846-f3249dfe3c0d",
   "metadata": {},
   "outputs": [],
   "source": [
    "patient1 = {\"sex\": \"1\", \"cp\": \"2\", \"fbs\": \"0\", \"restecg\": \"0\", \"exang\": \"0\", \"slope\": \"1\", \"ca\": \"0\", \"thal\": \"7\", \"age\": 54, \"trestbps\": 108, \"chol\": 309, \"thalach\": 156, \"oldpeak\": 0.0}\n",
    "patient2 = {\"sex\": \"0\", \"cp\": \"4\", \"fbs\": \"1\", \"restecg\": \"0\", \"exang\": \"1\", \"slope\": \"2\", \"ca\": \"2\", \"thal\": \"7\", \"age\": 66, \"trestbps\": 178, \"chol\": 228, \"thalach\": 165, \"oldpeak\": 1.0}\n"
   ]
  },
  {
   "cell_type": "code",
   "execution_count": 9,
   "id": "18d7daf4-a1cd-46df-8cdd-581a38882479",
   "metadata": {},
   "outputs": [
    {
     "data": {
      "text/plain": [
       "{'diagnosis_probability': 0.905117688721661, 'will_get_diagnosed': True}"
      ]
     },
     "execution_count": 9,
     "metadata": {},
     "output_type": "execute_result"
    }
   ],
   "source": [
    "response = requests.post(url, json=patient2).json()\n",
    "response"
   ]
  },
  {
   "cell_type": "code",
   "execution_count": 10,
   "id": "90efbdbc-d937-4413-8984-5ea9353d00ef",
   "metadata": {},
   "outputs": [
    {
     "name": "stdout",
     "output_type": "stream",
     "text": [
      "The patient will be diagnosed with heart disease!\n"
     ]
    }
   ],
   "source": [
    "if(response['will_get_diagnosed'] == True):\n",
    "    print('The patient will be diagnosed with heart disease!')\n",
    "else:\n",
    "    print('The patient will NOT be diagnosed with heart disease!')"
   ]
  },
  {
   "cell_type": "code",
   "execution_count": null,
   "id": "058ed1c2-1611-4c5e-b8cc-7b0c3accdfdf",
   "metadata": {},
   "outputs": [],
   "source": []
  }
 ],
 "metadata": {
  "kernelspec": {
   "display_name": "Python 3 (ipykernel)",
   "language": "python",
   "name": "python3"
  },
  "language_info": {
   "codemirror_mode": {
    "name": "ipython",
    "version": 3
   },
   "file_extension": ".py",
   "mimetype": "text/x-python",
   "name": "python",
   "nbconvert_exporter": "python",
   "pygments_lexer": "ipython3",
   "version": "3.11.10"
  }
 },
 "nbformat": 4,
 "nbformat_minor": 5
}
