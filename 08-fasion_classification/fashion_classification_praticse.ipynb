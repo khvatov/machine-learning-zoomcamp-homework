{
 "cells": [
  {
   "cell_type": "markdown",
   "id": "e598e47f-0d55-4939-acd4-7ed0e8fbe6c0",
   "metadata": {},
   "source": [
    "https://cs231n.github.io/"
   ]
  },
  {
   "cell_type": "code",
   "execution_count": 1,
   "id": "9e92c442-75c1-492f-a94c-6a8146084c6c",
   "metadata": {},
   "outputs": [],
   "source": [
    "#!git clone git@github.com:alexeygrigorev/clothing-dataset-small.git"
   ]
  },
  {
   "cell_type": "markdown",
   "id": "c1a46aaa-67bc-4b70-b66c-fd86e4d57ca4",
   "metadata": {},
   "source": [
    "## 8.2 TensorFlow and Keras\n",
    "\n",
    "* Installing TensorFlow\n",
    "* Loading Images"
   ]
  },
  {
   "cell_type": "code",
   "execution_count": 2,
   "id": "7a4c0e7d-eb7d-464f-b566-ce0cf83a3286",
   "metadata": {},
   "outputs": [],
   "source": [
    "import numpy as np\n",
    "import matplotlib.pyplot as plt\n",
    "\n",
    "%matplotlib inline"
   ]
  },
  {
   "cell_type": "code",
   "execution_count": 3,
   "id": "c3826734-9f7e-4472-a1a0-5c0d338b1fb9",
   "metadata": {},
   "outputs": [],
   "source": [
    "import tensorflow as tf\n",
    "from tensorflow import keras"
   ]
  },
  {
   "cell_type": "code",
   "execution_count": 4,
   "id": "7991dfd7-ca9d-426e-ae2f-9ab77b2f63b3",
   "metadata": {},
   "outputs": [],
   "source": [
    "from pathlib import Path"
   ]
  },
  {
   "cell_type": "code",
   "execution_count": 5,
   "id": "e7867393-8e70-4719-81a4-96b3cafe4325",
   "metadata": {},
   "outputs": [],
   "source": [
    "from tensorflow.keras.preprocessing.image import load_img"
   ]
  },
  {
   "cell_type": "code",
   "execution_count": 6,
   "id": "03877021-ad92-47c8-807b-271918fd6824",
   "metadata": {},
   "outputs": [],
   "source": [
    "path = './clothing-dataset-small/train/t-shirt/'\n",
    "name = '00003aeb-ace5-43bf-9a0c-dc31a03e9cd2.jpg'\n",
    "\n",
    "fullname = Path(path, name)"
   ]
  },
  {
   "cell_type": "code",
   "execution_count": 7,
   "id": "4d0d20b6-bb79-45d8-9870-b0c512954d35",
   "metadata": {},
   "outputs": [],
   "source": [
    "img = load_img(fullname, target_size=(299,299))"
   ]
  },
  {
   "cell_type": "code",
   "execution_count": 8,
   "id": "38c6a3b4-7121-4db6-8cb9-169c9dc15f02",
   "metadata": {},
   "outputs": [
    {
     "name": "stdout",
     "output_type": "stream",
     "text": [
      "<PIL.Image.Image image mode=RGB size=299x299 at 0x12F033D90>\n"
     ]
    }
   ],
   "source": [
    "print(img)"
   ]
  },
  {
   "cell_type": "code",
   "execution_count": 9,
   "id": "522538e4-b53e-42c5-b419-61de9385a6c5",
   "metadata": {},
   "outputs": [
    {
     "data": {
      "text/plain": [
       "(299, 299, 3)"
      ]
     },
     "execution_count": 9,
     "metadata": {},
     "output_type": "execute_result"
    }
   ],
   "source": [
    "#Turn image to a numpy array\n",
    "\n",
    "x = np.array(img)\n",
    "x.shape"
   ]
  },
  {
   "cell_type": "markdown",
   "id": "b4d29e0e-fcb5-4ddb-8a39-2ffc2fd0f6d6",
   "metadata": {},
   "source": [
    "## 8.3 Pre-trainded convolutional neural networks\n",
    "\n",
    "* Imagenet dataset: https://www.image-net.org\n",
    "* Pre-trained models: https://keras.io/api/applications/"
   ]
  },
  {
   "cell_type": "code",
   "execution_count": 10,
   "id": "76af183b-c6a5-4e82-ae07-0e99a6d7f7f4",
   "metadata": {},
   "outputs": [],
   "source": [
    "from tensorflow.keras.applications.xception import Xception\n",
    "#adding a preprocessing function\n",
    "from tensorflow.keras.applications.xception import preprocess_input\n",
    "#adding decoding predictions\n",
    "from tensorflow.keras.applications.xception import decode_predictions"
   ]
  },
  {
   "cell_type": "code",
   "execution_count": 11,
   "id": "68de151e-206e-4586-8024-67596f32d08e",
   "metadata": {},
   "outputs": [],
   "source": [
    "model = Xception(weights = 'imagenet', input_shape=(299,299,3))"
   ]
  },
  {
   "cell_type": "code",
   "execution_count": 12,
   "id": "919d7450-73b2-4796-a8b1-90fda0556cf8",
   "metadata": {},
   "outputs": [
    {
     "data": {
      "text/plain": [
       "(1, 299, 299, 3)"
      ]
     },
     "execution_count": 12,
     "metadata": {},
     "output_type": "execute_result"
    }
   ],
   "source": [
    "X=np.array([x])\n",
    "X.shape"
   ]
  },
  {
   "cell_type": "code",
   "execution_count": 13,
   "id": "47030d45-9b5e-4a05-9c6c-390da9ea7c52",
   "metadata": {},
   "outputs": [],
   "source": [
    "X=preprocess_input(X)"
   ]
  },
  {
   "cell_type": "code",
   "execution_count": 14,
   "id": "0345c9b7-3978-4143-85ae-446889a303ff",
   "metadata": {},
   "outputs": [
    {
     "name": "stderr",
     "output_type": "stream",
     "text": [
      "/Users/AKhvatov/.local/share/virtualenvs/machine-learning-zoomcamp-homework-bLdGrrwV/lib/python3.11/site-packages/keras/src/models/functional.py:225: UserWarning: The structure of `inputs` doesn't match the expected structure: keras_tensor. Received: the structure of inputs=('*',)\n",
      "  warnings.warn(\n"
     ]
    },
    {
     "name": "stdout",
     "output_type": "stream",
     "text": [
      "\u001b[1m1/1\u001b[0m \u001b[32m━━━━━━━━━━━━━━━━━━━━\u001b[0m\u001b[37m\u001b[0m \u001b[1m0s\u001b[0m 444ms/step\n"
     ]
    },
    {
     "data": {
      "text/plain": [
       "(1, 1000)"
      ]
     },
     "execution_count": 14,
     "metadata": {},
     "output_type": "execute_result"
    }
   ],
   "source": [
    "pred = model.predict([X])\n",
    "pred.shape"
   ]
  },
  {
   "cell_type": "code",
   "execution_count": 15,
   "id": "c6983f2a-af11-4945-a521-b7651003a45b",
   "metadata": {},
   "outputs": [
    {
     "data": {
      "text/plain": [
       "[[('n03595614', 'jersey', np.float32(0.8878354)),\n",
       "  ('n03710637', 'maillot', np.float32(0.0068345186)),\n",
       "  ('n04456115', 'torch', np.float32(0.0064636283)),\n",
       "  ('n02730930', 'apron', np.float32(0.0059278416)),\n",
       "  ('n04235860', 'sleeping_bag', np.float32(0.0054279147))]]"
      ]
     },
     "execution_count": 15,
     "metadata": {},
     "output_type": "execute_result"
    }
   ],
   "source": [
    "decode_predictions(pred)"
   ]
  },
  {
   "cell_type": "markdown",
   "id": "c0c106e2-4729-4519-97c6-0e5b8b10c121",
   "metadata": {},
   "source": [
    "## 8.4 Convolutional neural networks\n",
    "\n",
    "* Types of layers: convolutional and dense\n",
    "* Convolutional layers and filters\n",
    "* Dense layers\n",
    "\n",
    "There are more layers. Read here: https://cs231n.github.io/"
   ]
  },
  {
   "cell_type": "markdown",
   "id": "f408e3f4-a12a-4f23-9759-7fbbc57b9b72",
   "metadata": {},
   "source": [
    "Convolutional layers -- small 'filters'. 5x5 - contain smile shapes\n"
   ]
  },
  {
   "cell_type": "markdown",
   "id": "0e872af3-2faf-45f7-b0b5-8b34ba8e165c",
   "metadata": {},
   "source": [
    "![conv_networks](images/conv_networks.jpg \"a title\")"
   ]
  },
  {
   "cell_type": "markdown",
   "id": "d0065fd8-c59f-46af-bf9c-6d72edc224e8",
   "metadata": {},
   "source": [
    "NOT for binary classification (when we have more than one item we try to id) we can buld several models = # of items"
   ]
  },
  {
   "cell_type": "markdown",
   "id": "5ea318ad-4237-4ad9-9e42-37414ee082ec",
   "metadata": {},
   "source": [
    "![multi model](images/multi_model.jpg \"a title\")"
   ]
  },
  {
   "cell_type": "markdown",
   "id": "319d0e9c-ca8a-4946-a413-8519cd0e68a9",
   "metadata": {},
   "source": [
    "Sigmoid for multiple classes is called `Softmax` produces 3dim output probabilities of shirt, t shirt and dress "
   ]
  },
  {
   "cell_type": "markdown",
   "id": "c48f203f-841d-45e3-a71b-744fe82b0cb3",
   "metadata": {},
   "source": [
    "![dense_layer.jpg](images/dense_layer.jpg)"
   ]
  },
  {
   "cell_type": "markdown",
   "id": "bf05c3d9-6d05-4507-bc89-69856beed872",
   "metadata": {},
   "source": [
    "## 8.5 Transfer learning\n",
    "    * Reading data with `ImageDataGenerator`\n",
    "    * Train `Xception` on smaller images (150x150)\n",
    "\n",
    "(better to run with GPU)\n",
    "\n",
    "The idea is to be able to re-use conf layers and vector representation for the new model"
   ]
  },
  {
   "cell_type": "markdown",
   "id": "ba579a62-9062-4654-8de8-8dec128be760",
   "metadata": {},
   "source": [
    "![transfer_learning](images/transfer_learning.jpg)"
   ]
  },
  {
   "cell_type": "code",
   "execution_count": 18,
   "id": "cdd2ae4c-9c42-4fc8-a3c6-1c837203f7b5",
   "metadata": {},
   "outputs": [],
   "source": [
    "from tensorflow.keras.preprocessing.image import ImageDataGenerator"
   ]
  },
  {
   "cell_type": "code",
   "execution_count": 19,
   "id": "6b1132dd-5ec3-47f8-ad65-381570311b28",
   "metadata": {},
   "outputs": [],
   "source": [
    "train_gen = ImageDataGenerator(preprocessing_function=preprocess_input)"
   ]
  },
  {
   "cell_type": "code",
   "execution_count": 24,
   "id": "0f3353cd-d17c-4096-9563-cf4786ecd932",
   "metadata": {},
   "outputs": [
    {
     "name": "stdout",
     "output_type": "stream",
     "text": [
      "Found 3069 images belonging to 10 classes.\n"
     ]
    }
   ],
   "source": [
    "train_ds=train_gen.flow_from_directory('./clothing-dataset-small/train/', target_size=(150, 150), batch_size=32)"
   ]
  },
  {
   "cell_type": "code",
   "execution_count": 25,
   "id": "91ca44b2-be6e-47ec-b2b9-8ead89152af4",
   "metadata": {},
   "outputs": [
    {
     "data": {
      "text/plain": [
       "{'dress': 0,\n",
       " 'hat': 1,\n",
       " 'longsleeve': 2,\n",
       " 'outwear': 3,\n",
       " 'pants': 4,\n",
       " 'shirt': 5,\n",
       " 'shoes': 6,\n",
       " 'shorts': 7,\n",
       " 'skirt': 8,\n",
       " 't-shirt': 9}"
      ]
     },
     "execution_count": 25,
     "metadata": {},
     "output_type": "execute_result"
    }
   ],
   "source": [
    "train_ds.class_indices"
   ]
  },
  {
   "cell_type": "code",
   "execution_count": 26,
   "id": "9cf6f683-225c-4041-a0e8-9d02832097d7",
   "metadata": {},
   "outputs": [],
   "source": [
    "X, y = next(train_ds)"
   ]
  },
  {
   "cell_type": "code",
   "execution_count": 27,
   "id": "3110cdf7-f42b-47d8-8b87-897397809ccc",
   "metadata": {},
   "outputs": [
    {
     "data": {
      "text/plain": [
       "(32, 150, 150, 3)"
      ]
     },
     "execution_count": 27,
     "metadata": {},
     "output_type": "execute_result"
    }
   ],
   "source": [
    "X.shape"
   ]
  },
  {
   "cell_type": "code",
   "execution_count": 28,
   "id": "e13281d8-5208-4c75-b257-1735ed43f463",
   "metadata": {},
   "outputs": [
    {
     "data": {
      "text/plain": [
       "array([[0., 0., 0., 0., 0., 0., 0., 0., 1., 0.],\n",
       "       [0., 0., 1., 0., 0., 0., 0., 0., 0., 0.],\n",
       "       [0., 0., 0., 1., 0., 0., 0., 0., 0., 0.],\n",
       "       [0., 0., 1., 0., 0., 0., 0., 0., 0., 0.],\n",
       "       [0., 0., 0., 0., 0., 1., 0., 0., 0., 0.]], dtype=float32)"
      ]
     },
     "execution_count": 28,
     "metadata": {},
     "output_type": "execute_result"
    }
   ],
   "source": [
    "y[:5]"
   ]
  },
  {
   "cell_type": "markdown",
   "id": "82c731b0-6ddc-4f26-b4c2-fb7572c13ed4",
   "metadata": {},
   "source": [
    "the above used one-hot encoding"
   ]
  },
  {
   "cell_type": "code",
   "execution_count": 31,
   "id": "48b8c908-30e1-4057-8381-b137d5e4c4ae",
   "metadata": {},
   "outputs": [
    {
     "name": "stdout",
     "output_type": "stream",
     "text": [
      "Found 341 images belonging to 10 classes.\n"
     ]
    }
   ],
   "source": [
    "val_gen = ImageDataGenerator(preprocessing_function=preprocess_input)\n",
    "val_ds=val_gen.flow_from_directory('./clothing-dataset-small/validation', target_size=(150, 150), batch_size=32, shuffle=False)\n",
    "X, y = next(train_ds)"
   ]
  },
  {
   "cell_type": "code",
   "execution_count": 33,
   "id": "a0d6f751-8cd8-4a77-924b-42fea65042c0",
   "metadata": {},
   "outputs": [],
   "source": [
    "#we can now create a base model\n",
    "#we will train custom model based on the base model\n"
   ]
  },
  {
   "cell_type": "markdown",
   "id": "697f11c3-5138-4c15-a942-7166e4caec10",
   "metadata": {},
   "source": [
    "Meaning of `include_top` in the below code\n",
    "\n",
    "\n",
    "![include_top](images/top_bottom.jpg)"
   ]
  },
  {
   "cell_type": "code",
   "execution_count": 36,
   "id": "4a1a5a09-7034-41d1-b08d-d09a0b5bba23",
   "metadata": {},
   "outputs": [],
   "source": [
    "base_model = Xception(weights='imagenet', include_top=False,  input_shape=(150, 150, 3))\n",
    "base_model.trainable = False"
   ]
  },
  {
   "cell_type": "code",
   "execution_count": 38,
   "id": "ab0835fb-b976-467f-954e-6f092a548c21",
   "metadata": {},
   "outputs": [],
   "source": [
    "# we are ready to create new 'top'\n",
    "\n",
    "inputs = keras.Input(shape=(150, 150, 3))\n",
    "base = base_model(inputs)"
   ]
  },
  {
   "cell_type": "code",
   "execution_count": 39,
   "id": "d2bd0388-d108-4a20-a594-5dbea6e49c51",
   "metadata": {},
   "outputs": [],
   "source": [
    "outputs = base"
   ]
  },
  {
   "cell_type": "code",
   "execution_count": 40,
   "id": "c3e381e3-bd26-4c6b-a992-37bc5bbc69d2",
   "metadata": {},
   "outputs": [],
   "source": [
    "model= keras.Model(inputs, outputs)"
   ]
  },
  {
   "cell_type": "code",
   "execution_count": 44,
   "id": "b5f643ab-5ddc-46a5-88c2-b5e3bba1cd46",
   "metadata": {},
   "outputs": [
    {
     "name": "stdout",
     "output_type": "stream",
     "text": [
      "\u001b[1m1/1\u001b[0m \u001b[32m━━━━━━━━━━━━━━━━━━━━\u001b[0m\u001b[37m\u001b[0m \u001b[1m0s\u001b[0m 389ms/step\n"
     ]
    }
   ],
   "source": [
    "pred = model.predict(X)"
   ]
  },
  {
   "cell_type": "code",
   "execution_count": 46,
   "id": "de380160-d6ec-4c27-bba5-dce781f33fa9",
   "metadata": {},
   "outputs": [
    {
     "data": {
      "text/plain": [
       "(32, 5, 5, 2048)"
      ]
     },
     "execution_count": 46,
     "metadata": {},
     "output_type": "execute_result"
    }
   ],
   "source": [
    "pred.shape"
   ]
  },
  {
   "cell_type": "markdown",
   "id": "5cb1d6a0-26cd-449f-b6c2-ccc2831e9431",
   "metadata": {},
   "source": [
    "Pooling (average of squares) from 3D to 1D - taking average."
   ]
  },
  {
   "cell_type": "code",
   "execution_count": 49,
   "id": "9fc9c48a-89f6-46cc-849e-b0797b874c07",
   "metadata": {},
   "outputs": [],
   "source": [
    "inputs = keras.Input(shape=(150, 150, 3))\n",
    "base = base_model(inputs)\n",
    "\n",
    "pooling = keras.layers.GlobalAveragePooling2D()\n",
    "vectors = pooling(base)\n",
    "\n",
    "outputs = vectors\n",
    "model = keras.Model(inputs, outputs)\n"
   ]
  },
  {
   "cell_type": "code",
   "execution_count": 50,
   "id": "9629c3a7-9048-4b02-90d0-43c900b97357",
   "metadata": {},
   "outputs": [
    {
     "name": "stdout",
     "output_type": "stream",
     "text": [
      "\u001b[1m1/1\u001b[0m \u001b[32m━━━━━━━━━━━━━━━━━━━━\u001b[0m\u001b[37m\u001b[0m \u001b[1m1s\u001b[0m 650ms/step\n"
     ]
    },
    {
     "data": {
      "text/plain": [
       "(32, 2048)"
      ]
     },
     "execution_count": 50,
     "metadata": {},
     "output_type": "execute_result"
    }
   ],
   "source": [
    "preds = model.predict(X)\n",
    "preds.shape"
   ]
  },
  {
   "cell_type": "code",
   "execution_count": 53,
   "id": "0c9a2925-10c1-458c-8f68-b70aaaa82acc",
   "metadata": {},
   "outputs": [
    {
     "name": "stdout",
     "output_type": "stream",
     "text": [
      "\u001b[1m1/1\u001b[0m \u001b[32m━━━━━━━━━━━━━━━━━━━━\u001b[0m\u001b[37m\u001b[0m \u001b[1m1s\u001b[0m 594ms/step\n"
     ]
    },
    {
     "data": {
      "text/plain": [
       "(32, 2048)"
      ]
     },
     "execution_count": 53,
     "metadata": {},
     "output_type": "execute_result"
    }
   ],
   "source": [
    "# Functional style\n",
    "\n",
    "inputs = keras.Input(shape=(150, 150, 3))\n",
    "base = base_model(inputs)\n",
    "\n",
    "vectors = keras.layers.GlobalAveragePooling2D()(base)\n",
    "\n",
    "outputs = vectors\n",
    "model = keras.Model(inputs, outputs)\n",
    "\n",
    "preds = model.predict(X)\n",
    "preds.shape"
   ]
  },
  {
   "cell_type": "code",
   "execution_count": 59,
   "id": "f460e7ef-029a-443f-815e-b4fda0dd0442",
   "metadata": {},
   "outputs": [
    {
     "name": "stdout",
     "output_type": "stream",
     "text": [
      "\u001b[1m1/1\u001b[0m \u001b[32m━━━━━━━━━━━━━━━━━━━━\u001b[0m\u001b[37m\u001b[0m \u001b[1m1s\u001b[0m 655ms/step\n"
     ]
    },
    {
     "data": {
      "text/plain": [
       "(32, 10)"
      ]
     },
     "execution_count": 59,
     "metadata": {},
     "output_type": "execute_result"
    }
   ],
   "source": [
    "#Convert predictions to classes (this is V1 model)\n",
    "\n",
    "inputs = keras.Input(shape=(150, 150, 3))\n",
    "base = base_model(inputs)\n",
    "\n",
    "vectors = keras.layers.GlobalAveragePooling2D()(base)\n",
    "\n",
    "outputs = keras.layers.Dense(10)(vectors)\n",
    "model = keras.Model(inputs, outputs)\n",
    "\n",
    "preds = model.predict(X)\n",
    "preds.shape"
   ]
  },
  {
   "cell_type": "code",
   "execution_count": 60,
   "id": "cee6d010-2593-4172-9dd6-a0fe5e4aa7c6",
   "metadata": {},
   "outputs": [
    {
     "data": {
      "text/plain": [
       "array([-0.17429954, -0.21456844,  0.6532952 , -0.6413605 ,  0.4802548 ,\n",
       "        1.1268492 ,  0.2743045 ,  0.42913866,  0.8113518 ,  0.17062539],\n",
       "      dtype=float32)"
      ]
     },
     "execution_count": 60,
     "metadata": {},
     "output_type": "execute_result"
    }
   ],
   "source": [
    "preds[0]"
   ]
  },
  {
   "cell_type": "code",
   "execution_count": 62,
   "id": "e48d750f-e932-444c-b843-d1e13e1a1354",
   "metadata": {},
   "outputs": [],
   "source": [
    "#this was not a real model\n",
    "# we actually need to train the model\n",
    "# we use OPTIMIZER to do it\n",
    "learning_rate = 0.01\n",
    "\n",
    "optimizer = keras.optimizers.Adam(learning_rate=learning_rate)\n",
    "#loss tells us how good the model is\n",
    "loss = keras.losses.CategoricalCrossentropy(from_logits=True) #the lower the better\n",
    "\n",
    "\n"
   ]
  },
  {
   "cell_type": "code",
   "execution_count": 68,
   "id": "b0997a83-e4c1-4142-b582-d1f64c859f18",
   "metadata": {},
   "outputs": [],
   "source": [
    "##RERUN to make it work...\n",
    "\n",
    "#Softmax is called activation\n",
    "\n",
    "# by setting `from_logits` we use the raw score\n",
    "base_model = Xception(weights='imagenet', include_top=False,  input_shape=(150, 150, 3))\n",
    "base_model.trainable = False\n",
    "\n",
    "inputs = keras.Input(shape=(150, 150, 3))\n",
    "base = base_model(inputs, training=False)\n",
    "\n",
    "vectors = keras.layers.GlobalAveragePooling2D()(base)\n",
    "\n",
    "outputs = keras.layers.Dense(10)(vectors)\n",
    "model = keras.Model(inputs, outputs)\n"
   ]
  },
  {
   "cell_type": "code",
   "execution_count": 71,
   "id": "9dece8a4-0b30-45b3-90e0-5811f0fd6650",
   "metadata": {},
   "outputs": [],
   "source": [
    "learning_rate = 0.01\n",
    "optimizer = keras.optimizers.Adam(learning_rate=learning_rate)\n",
    "\n",
    "loss = keras.losses.CategoricalCrossentropy(from_logits=True) #the lower the better\n",
    "\n",
    "model.compile(optimizer=optimizer, loss=loss, metrics=['accuracy'])\n",
    "#epoch = numbe of time to go over the data\n",
    "\n",
    "              "
   ]
  },
  {
   "cell_type": "code",
   "execution_count": 72,
   "id": "ee49d474-2a42-454a-896d-ca2405052a11",
   "metadata": {},
   "outputs": [
    {
     "name": "stdout",
     "output_type": "stream",
     "text": [
      "Epoch 1/10\n",
      "\u001b[1m96/96\u001b[0m \u001b[32m━━━━━━━━━━━━━━━━━━━━\u001b[0m\u001b[37m\u001b[0m \u001b[1m33s\u001b[0m 336ms/step - accuracy: 0.7781 - loss: 0.8417 - val_accuracy: 0.7683 - val_loss: 1.0460\n",
      "Epoch 2/10\n",
      "\u001b[1m96/96\u001b[0m \u001b[32m━━━━━━━━━━━━━━━━━━━━\u001b[0m\u001b[37m\u001b[0m \u001b[1m32s\u001b[0m 333ms/step - accuracy: 0.8737 - loss: 0.4335 - val_accuracy: 0.7595 - val_loss: 1.3019\n",
      "Epoch 3/10\n",
      "\u001b[1m96/96\u001b[0m \u001b[32m━━━━━━━━━━━━━━━━━━━━\u001b[0m\u001b[37m\u001b[0m \u001b[1m32s\u001b[0m 332ms/step - accuracy: 0.8939 - loss: 0.3455 - val_accuracy: 0.7830 - val_loss: 0.9708\n",
      "Epoch 4/10\n",
      "\u001b[1m96/96\u001b[0m \u001b[32m━━━━━━━━━━━━━━━━━━━━\u001b[0m\u001b[37m\u001b[0m \u001b[1m32s\u001b[0m 335ms/step - accuracy: 0.9536 - loss: 0.1439 - val_accuracy: 0.7977 - val_loss: 1.0395\n",
      "Epoch 5/10\n",
      "\u001b[1m96/96\u001b[0m \u001b[32m━━━━━━━━━━━━━━━━━━━━\u001b[0m\u001b[37m\u001b[0m \u001b[1m32s\u001b[0m 336ms/step - accuracy: 0.9584 - loss: 0.1129 - val_accuracy: 0.8211 - val_loss: 0.8779\n",
      "Epoch 6/10\n",
      "\u001b[1m96/96\u001b[0m \u001b[32m━━━━━━━━━━━━━━━━━━━━\u001b[0m\u001b[37m\u001b[0m \u001b[1m32s\u001b[0m 328ms/step - accuracy: 0.9781 - loss: 0.0746 - val_accuracy: 0.8123 - val_loss: 0.9920\n",
      "Epoch 7/10\n",
      "\u001b[1m96/96\u001b[0m \u001b[32m━━━━━━━━━━━━━━━━━━━━\u001b[0m\u001b[37m\u001b[0m \u001b[1m32s\u001b[0m 329ms/step - accuracy: 0.9684 - loss: 0.0987 - val_accuracy: 0.7889 - val_loss: 1.2034\n",
      "Epoch 8/10\n",
      "\u001b[1m96/96\u001b[0m \u001b[32m━━━━━━━━━━━━━━━━━━━━\u001b[0m\u001b[37m\u001b[0m \u001b[1m32s\u001b[0m 338ms/step - accuracy: 0.9738 - loss: 0.0886 - val_accuracy: 0.8035 - val_loss: 1.0871\n",
      "Epoch 9/10\n",
      "\u001b[1m96/96\u001b[0m \u001b[32m━━━━━━━━━━━━━━━━━━━━\u001b[0m\u001b[37m\u001b[0m \u001b[1m33s\u001b[0m 340ms/step - accuracy: 0.9872 - loss: 0.0365 - val_accuracy: 0.8152 - val_loss: 1.0242\n",
      "Epoch 10/10\n",
      "\u001b[1m96/96\u001b[0m \u001b[32m━━━━━━━━━━━━━━━━━━━━\u001b[0m\u001b[37m\u001b[0m \u001b[1m34s\u001b[0m 353ms/step - accuracy: 0.9928 - loss: 0.0386 - val_accuracy: 0.8358 - val_loss: 0.9315\n"
     ]
    }
   ],
   "source": [
    "history = model.fit(train_ds, epochs= 10, validation_data=val_ds)"
   ]
  },
  {
   "cell_type": "code",
   "execution_count": 83,
   "id": "ee9e4b0f-e56b-4959-b0b3-9cb971475d5c",
   "metadata": {},
   "outputs": [
    {
     "data": {
      "text/plain": [
       "<matplotlib.legend.Legend at 0x36f02b190>"
      ]
     },
     "execution_count": 83,
     "metadata": {},
     "output_type": "execute_result"
    },
    {
     "data": {
      "image/png": "[encoded data removed]",
      "text/plain": [
       "<Figure size 640x480 with 1 Axes>"
      ]
     },
     "metadata": {},
     "output_type": "display_data"
    }
   ],
   "source": [
    "#plt.plot(history.history['accuracy'], label = 'train')\n",
    "plt.plot(history.history['val_accuracy'], label='val')\n",
    "plt.xticks(np.arange(10))\n",
    "plt.grid()\n",
    "plt.legend()"
   ]
  },
  {
   "cell_type": "markdown",
   "id": "500645ee-5207-4654-b418-264bae2ac80e",
   "metadata": {},
   "source": [
    "## 8.6 Adjusting the learning rate\n",
    "\n",
    "    * What's the learning rate\n",
    "    * Trying different values"
   ]
  },
  {
   "cell_type": "code",
   "execution_count": 84,
   "id": "9acb0864-d8a9-4cc3-8679-4751c13781be",
   "metadata": {},
   "outputs": [],
   "source": [
    "# Learning rate is how fast you can read"
   ]
  },
  {
   "cell_type": "code",
   "execution_count": null,
   "id": "e4d997f0-752f-4c34-8ad7-6646d9330298",
   "metadata": {},
   "outputs": [],
   "source": []
  }
 ],
 "metadata": {
  "kernelspec": {
   "display_name": "Python 3 (ipykernel)",
   "language": "python",
   "name": "python3"
  },
  "language_info": {
   "codemirror_mode": {
    "name": "ipython",
    "version": 3
   },
   "file_extension": ".py",
   "mimetype": "text/x-python",
   "name": "python",
   "nbconvert_exporter": "python",
   "pygments_lexer": "ipython3",
   "version": "3.11.10"
  }
 },
 "nbformat": 4,
 "nbformat_minor": 5
}
